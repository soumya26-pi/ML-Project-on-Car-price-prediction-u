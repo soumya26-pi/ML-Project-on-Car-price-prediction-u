{
 "cells": [
  {
   "attachments": {
    "size%204.png": {
     "image/png": "[encoded data removed]"
    }
   },
   "cell_type": "markdown",
   "metadata": {},
   "source": [
    "![size%204.png](attachment:size%204.png)"
   ]
  },
  {
   "cell_type": "markdown",
   "metadata": {},
   "source": [
    "### 1. Importing the relevant libraries"
   ]
  },
  {
   "cell_type": "code",
   "execution_count": 1,
   "metadata": {},
   "outputs": [],
   "source": [
    "# CODE HERE\n",
    "# CODE HERE\n",
    "import pandas as pd\n",
    "import numpy as np \n",
    "\n",
    "import matplotlib.pyplot as plt\n",
    "import seaborn as sns\n",
    "\n",
    "import warnings\n",
    "warnings.filterwarnings('ignore')\n",
    "\n",
    "from sklearn.model_selection import train_test_split\n",
    "from sklearn.linear_model import LinearRegression\n",
    "from sklearn.metrics import mean_squared_error\n",
    "from sklearn.preprocessing import OneHotEncoder\n",
    "from sklearn.preprocessing import LabelEncoder\n",
    "from sklearn.metrics import plot_confusion_matrix\n",
    "from sklearn.linear_model import Ridge\n",
    "from sklearn.linear_model import Lasso\n",
    "from sklearn.metrics import accuracy_score,r2_score\n",
    "import statsmodels.api as sm\n",
    "from statsmodels.stats.outliers_influence import variance_inflation_factor\n",
    "import datetime\n",
    "%matplotlib inline"
   ]
  },
  {
   "cell_type": "code",
   "execution_count": 2,
   "metadata": {},
   "outputs": [],
   "source": [
    "# CODE HERE"
   ]
  },
  {
   "cell_type": "markdown",
   "metadata": {},
   "source": [
    "### 2. Loading the raw data"
   ]
  },
  {
   "cell_type": "markdown",
   "metadata": {},
   "source": [
    "#### Load the data from a .csv in the same folder"
   ]
  },
  {
   "cell_type": "code",
   "execution_count": 3,
   "metadata": {},
   "outputs": [],
   "source": [
    "# CODE HERE\n",
    "data=pd.read_csv(\"linear.csv.csv\")"
   ]
  },
  {
   "cell_type": "markdown",
   "metadata": {},
   "source": [
    "#### Let's explore the top 5 rows of the df\n"
   ]
  },
  {
   "cell_type": "code",
   "execution_count": 4,
   "metadata": {},
   "outputs": [
    {
     "data": {
      "text/html": [
       "<div>\n",
       "<style scoped>\n",
       "    .dataframe tbody tr th:only-of-type {\n",
       "        vertical-align: middle;\n",
       "    }\n",
       "\n",
       "    .dataframe tbody tr th {\n",
       "        vertical-align: top;\n",
       "    }\n",
       "\n",
       "    .dataframe thead th {\n",
       "        text-align: right;\n",
       "    }\n",
       "</style>\n",
       "<table border=\"1\" class=\"dataframe\">\n",
       "  <thead>\n",
       "    <tr style=\"text-align: right;\">\n",
       "      <th></th>\n",
       "      <th>Brand</th>\n",
       "      <th>Price</th>\n",
       "      <th>Body</th>\n",
       "      <th>Mileage</th>\n",
       "      <th>EngineV</th>\n",
       "      <th>Engine Type</th>\n",
       "      <th>Registration</th>\n",
       "      <th>Year</th>\n",
       "      <th>Model</th>\n",
       "    </tr>\n",
       "  </thead>\n",
       "  <tbody>\n",
       "    <tr>\n",
       "      <th>0</th>\n",
       "      <td>BMW</td>\n",
       "      <td>4200.0</td>\n",
       "      <td>sedan</td>\n",
       "      <td>277</td>\n",
       "      <td>2.0</td>\n",
       "      <td>Petrol</td>\n",
       "      <td>yes</td>\n",
       "      <td>1991</td>\n",
       "      <td>320</td>\n",
       "    </tr>\n",
       "    <tr>\n",
       "      <th>1</th>\n",
       "      <td>Mercedes-Benz</td>\n",
       "      <td>7900.0</td>\n",
       "      <td>van</td>\n",
       "      <td>427</td>\n",
       "      <td>2.9</td>\n",
       "      <td>Diesel</td>\n",
       "      <td>yes</td>\n",
       "      <td>1999</td>\n",
       "      <td>Sprinter 212</td>\n",
       "    </tr>\n",
       "    <tr>\n",
       "      <th>2</th>\n",
       "      <td>Mercedes-Benz</td>\n",
       "      <td>13300.0</td>\n",
       "      <td>sedan</td>\n",
       "      <td>358</td>\n",
       "      <td>5.0</td>\n",
       "      <td>Gas</td>\n",
       "      <td>yes</td>\n",
       "      <td>2003</td>\n",
       "      <td>S 500</td>\n",
       "    </tr>\n",
       "    <tr>\n",
       "      <th>3</th>\n",
       "      <td>Audi</td>\n",
       "      <td>23000.0</td>\n",
       "      <td>crossover</td>\n",
       "      <td>240</td>\n",
       "      <td>4.2</td>\n",
       "      <td>Petrol</td>\n",
       "      <td>yes</td>\n",
       "      <td>2007</td>\n",
       "      <td>Q7</td>\n",
       "    </tr>\n",
       "    <tr>\n",
       "      <th>4</th>\n",
       "      <td>Toyota</td>\n",
       "      <td>18300.0</td>\n",
       "      <td>crossover</td>\n",
       "      <td>120</td>\n",
       "      <td>2.0</td>\n",
       "      <td>Petrol</td>\n",
       "      <td>yes</td>\n",
       "      <td>2011</td>\n",
       "      <td>Rav 4</td>\n",
       "    </tr>\n",
       "  </tbody>\n",
       "</table>\n",
       "</div>"
      ],
      "text/plain": [
       "           Brand    Price       Body  Mileage  EngineV Engine Type  \\\n",
       "0            BMW   4200.0      sedan      277      2.0      Petrol   \n",
       "1  Mercedes-Benz   7900.0        van      427      2.9      Diesel   \n",
       "2  Mercedes-Benz  13300.0      sedan      358      5.0         Gas   \n",
       "3           Audi  23000.0  crossover      240      4.2      Petrol   \n",
       "4         Toyota  18300.0  crossover      120      2.0      Petrol   \n",
       "\n",
       "  Registration  Year         Model  \n",
       "0          yes  1991           320  \n",
       "1          yes  1999  Sprinter 212  \n",
       "2          yes  2003         S 500  \n",
       "3          yes  2007            Q7  \n",
       "4          yes  2011         Rav 4  "
      ]
     },
     "execution_count": 4,
     "metadata": {},
     "output_type": "execute_result"
    }
   ],
   "source": [
    "# CODE HERE\n",
    "data.head()"
   ]
  },
  {
   "cell_type": "markdown",
   "metadata": {},
   "source": [
    "## Preprocessing"
   ]
  },
  {
   "cell_type": "markdown",
   "metadata": {},
   "source": [
    "### 3. Exploring the descriptive statistics of the variables\n",
    "-  Descriptive statistics are very useful for initial exploration of the variables\n",
    "- By default, only descriptives for the numerical variables are shown\n",
    "- To include the categorical ones, you should specify this with an argument"
   ]
  },
  {
   "cell_type": "code",
   "execution_count": 5,
   "metadata": {},
   "outputs": [
    {
     "name": "stdout",
     "output_type": "stream",
     "text": [
      "<class 'pandas.core.frame.DataFrame'>\n",
      "RangeIndex: 4345 entries, 0 to 4344\n",
      "Data columns (total 9 columns):\n",
      " #   Column        Non-Null Count  Dtype  \n",
      "---  ------        --------------  -----  \n",
      " 0   Brand         4345 non-null   object \n",
      " 1   Price         4173 non-null   float64\n",
      " 2   Body          4345 non-null   object \n",
      " 3   Mileage       4345 non-null   int64  \n",
      " 4   EngineV       4195 non-null   float64\n",
      " 5   Engine Type   4345 non-null   object \n",
      " 6   Registration  4345 non-null   object \n",
      " 7   Year          4345 non-null   int64  \n",
      " 8   Model         4345 non-null   object \n",
      "dtypes: float64(2), int64(2), object(5)\n",
      "memory usage: 305.6+ KB\n"
     ]
    }
   ],
   "source": [
    "# CODE HERE\n",
    "data.info()"
   ]
  },
  {
   "cell_type": "code",
   "execution_count": 6,
   "metadata": {},
   "outputs": [
    {
     "data": {
      "text/html": [
       "<div>\n",
       "<style scoped>\n",
       "    .dataframe tbody tr th:only-of-type {\n",
       "        vertical-align: middle;\n",
       "    }\n",
       "\n",
       "    .dataframe tbody tr th {\n",
       "        vertical-align: top;\n",
       "    }\n",
       "\n",
       "    .dataframe thead th {\n",
       "        text-align: right;\n",
       "    }\n",
       "</style>\n",
       "<table border=\"1\" class=\"dataframe\">\n",
       "  <thead>\n",
       "    <tr style=\"text-align: right;\">\n",
       "      <th></th>\n",
       "      <th>Price</th>\n",
       "      <th>Mileage</th>\n",
       "      <th>EngineV</th>\n",
       "      <th>Year</th>\n",
       "    </tr>\n",
       "  </thead>\n",
       "  <tbody>\n",
       "    <tr>\n",
       "      <th>count</th>\n",
       "      <td>4173.000000</td>\n",
       "      <td>4345.000000</td>\n",
       "      <td>4195.000000</td>\n",
       "      <td>4345.000000</td>\n",
       "    </tr>\n",
       "    <tr>\n",
       "      <th>mean</th>\n",
       "      <td>19418.746935</td>\n",
       "      <td>161.237284</td>\n",
       "      <td>2.790734</td>\n",
       "      <td>2006.550058</td>\n",
       "    </tr>\n",
       "    <tr>\n",
       "      <th>std</th>\n",
       "      <td>25584.242620</td>\n",
       "      <td>105.705797</td>\n",
       "      <td>5.066437</td>\n",
       "      <td>6.719097</td>\n",
       "    </tr>\n",
       "    <tr>\n",
       "      <th>min</th>\n",
       "      <td>600.000000</td>\n",
       "      <td>0.000000</td>\n",
       "      <td>0.600000</td>\n",
       "      <td>1969.000000</td>\n",
       "    </tr>\n",
       "    <tr>\n",
       "      <th>25%</th>\n",
       "      <td>6999.000000</td>\n",
       "      <td>86.000000</td>\n",
       "      <td>1.800000</td>\n",
       "      <td>2003.000000</td>\n",
       "    </tr>\n",
       "    <tr>\n",
       "      <th>50%</th>\n",
       "      <td>11500.000000</td>\n",
       "      <td>155.000000</td>\n",
       "      <td>2.200000</td>\n",
       "      <td>2008.000000</td>\n",
       "    </tr>\n",
       "    <tr>\n",
       "      <th>75%</th>\n",
       "      <td>21700.000000</td>\n",
       "      <td>230.000000</td>\n",
       "      <td>3.000000</td>\n",
       "      <td>2012.000000</td>\n",
       "    </tr>\n",
       "    <tr>\n",
       "      <th>max</th>\n",
       "      <td>300000.000000</td>\n",
       "      <td>980.000000</td>\n",
       "      <td>99.990000</td>\n",
       "      <td>2016.000000</td>\n",
       "    </tr>\n",
       "  </tbody>\n",
       "</table>\n",
       "</div>"
      ],
      "text/plain": [
       "               Price      Mileage      EngineV         Year\n",
       "count    4173.000000  4345.000000  4195.000000  4345.000000\n",
       "mean    19418.746935   161.237284     2.790734  2006.550058\n",
       "std     25584.242620   105.705797     5.066437     6.719097\n",
       "min       600.000000     0.000000     0.600000  1969.000000\n",
       "25%      6999.000000    86.000000     1.800000  2003.000000\n",
       "50%     11500.000000   155.000000     2.200000  2008.000000\n",
       "75%     21700.000000   230.000000     3.000000  2012.000000\n",
       "max    300000.000000   980.000000    99.990000  2016.000000"
      ]
     },
     "execution_count": 6,
     "metadata": {},
     "output_type": "execute_result"
    }
   ],
   "source": [
    "data.describe()"
   ]
  },
  {
   "cell_type": "code",
   "execution_count": 10,
   "metadata": {},
   "outputs": [
    {
     "data": {
      "text/plain": [
       "(4345, 9)"
      ]
     },
     "execution_count": 10,
     "metadata": {},
     "output_type": "execute_result"
    }
   ],
   "source": [
    "data.shape"
   ]
  },
  {
   "cell_type": "code",
   "execution_count": 11,
   "metadata": {},
   "outputs": [
    {
     "data": {
      "text/html": [
       "<div>\n",
       "<style scoped>\n",
       "    .dataframe tbody tr th:only-of-type {\n",
       "        vertical-align: middle;\n",
       "    }\n",
       "\n",
       "    .dataframe tbody tr th {\n",
       "        vertical-align: top;\n",
       "    }\n",
       "\n",
       "    .dataframe thead th {\n",
       "        text-align: right;\n",
       "    }\n",
       "</style>\n",
       "<table border=\"1\" class=\"dataframe\">\n",
       "  <thead>\n",
       "    <tr style=\"text-align: right;\">\n",
       "      <th></th>\n",
       "      <th>Brand</th>\n",
       "      <th>Price</th>\n",
       "      <th>Body</th>\n",
       "      <th>Mileage</th>\n",
       "      <th>EngineV</th>\n",
       "      <th>Engine Type</th>\n",
       "      <th>Registration</th>\n",
       "      <th>Year</th>\n",
       "      <th>Model</th>\n",
       "    </tr>\n",
       "  </thead>\n",
       "  <tbody>\n",
       "    <tr>\n",
       "      <th>0</th>\n",
       "      <td>BMW</td>\n",
       "      <td>4200.0</td>\n",
       "      <td>sedan</td>\n",
       "      <td>277</td>\n",
       "      <td>2.0</td>\n",
       "      <td>Petrol</td>\n",
       "      <td>yes</td>\n",
       "      <td>1991</td>\n",
       "      <td>320</td>\n",
       "    </tr>\n",
       "    <tr>\n",
       "      <th>1</th>\n",
       "      <td>Mercedes-Benz</td>\n",
       "      <td>7900.0</td>\n",
       "      <td>van</td>\n",
       "      <td>427</td>\n",
       "      <td>2.9</td>\n",
       "      <td>Diesel</td>\n",
       "      <td>yes</td>\n",
       "      <td>1999</td>\n",
       "      <td>Sprinter 212</td>\n",
       "    </tr>\n",
       "    <tr>\n",
       "      <th>2</th>\n",
       "      <td>Mercedes-Benz</td>\n",
       "      <td>13300.0</td>\n",
       "      <td>sedan</td>\n",
       "      <td>358</td>\n",
       "      <td>5.0</td>\n",
       "      <td>Gas</td>\n",
       "      <td>yes</td>\n",
       "      <td>2003</td>\n",
       "      <td>S 500</td>\n",
       "    </tr>\n",
       "    <tr>\n",
       "      <th>3</th>\n",
       "      <td>Audi</td>\n",
       "      <td>23000.0</td>\n",
       "      <td>crossover</td>\n",
       "      <td>240</td>\n",
       "      <td>4.2</td>\n",
       "      <td>Petrol</td>\n",
       "      <td>yes</td>\n",
       "      <td>2007</td>\n",
       "      <td>Q7</td>\n",
       "    </tr>\n",
       "    <tr>\n",
       "      <th>4</th>\n",
       "      <td>Toyota</td>\n",
       "      <td>18300.0</td>\n",
       "      <td>crossover</td>\n",
       "      <td>120</td>\n",
       "      <td>2.0</td>\n",
       "      <td>Petrol</td>\n",
       "      <td>yes</td>\n",
       "      <td>2011</td>\n",
       "      <td>Rav 4</td>\n",
       "    </tr>\n",
       "    <tr>\n",
       "      <th>...</th>\n",
       "      <td>...</td>\n",
       "      <td>...</td>\n",
       "      <td>...</td>\n",
       "      <td>...</td>\n",
       "      <td>...</td>\n",
       "      <td>...</td>\n",
       "      <td>...</td>\n",
       "      <td>...</td>\n",
       "      <td>...</td>\n",
       "    </tr>\n",
       "    <tr>\n",
       "      <th>4340</th>\n",
       "      <td>Mercedes-Benz</td>\n",
       "      <td>125000.0</td>\n",
       "      <td>sedan</td>\n",
       "      <td>9</td>\n",
       "      <td>3.0</td>\n",
       "      <td>Diesel</td>\n",
       "      <td>yes</td>\n",
       "      <td>2014</td>\n",
       "      <td>S 350</td>\n",
       "    </tr>\n",
       "    <tr>\n",
       "      <th>4341</th>\n",
       "      <td>BMW</td>\n",
       "      <td>6500.0</td>\n",
       "      <td>sedan</td>\n",
       "      <td>1</td>\n",
       "      <td>3.5</td>\n",
       "      <td>Petrol</td>\n",
       "      <td>yes</td>\n",
       "      <td>1999</td>\n",
       "      <td>535</td>\n",
       "    </tr>\n",
       "    <tr>\n",
       "      <th>4342</th>\n",
       "      <td>BMW</td>\n",
       "      <td>8000.0</td>\n",
       "      <td>sedan</td>\n",
       "      <td>194</td>\n",
       "      <td>2.0</td>\n",
       "      <td>Petrol</td>\n",
       "      <td>yes</td>\n",
       "      <td>1985</td>\n",
       "      <td>520</td>\n",
       "    </tr>\n",
       "    <tr>\n",
       "      <th>4343</th>\n",
       "      <td>Toyota</td>\n",
       "      <td>14200.0</td>\n",
       "      <td>sedan</td>\n",
       "      <td>31</td>\n",
       "      <td>NaN</td>\n",
       "      <td>Petrol</td>\n",
       "      <td>yes</td>\n",
       "      <td>2014</td>\n",
       "      <td>Corolla</td>\n",
       "    </tr>\n",
       "    <tr>\n",
       "      <th>4344</th>\n",
       "      <td>Volkswagen</td>\n",
       "      <td>13500.0</td>\n",
       "      <td>van</td>\n",
       "      <td>124</td>\n",
       "      <td>2.0</td>\n",
       "      <td>Diesel</td>\n",
       "      <td>yes</td>\n",
       "      <td>2013</td>\n",
       "      <td>T5 (Transporter)</td>\n",
       "    </tr>\n",
       "  </tbody>\n",
       "</table>\n",
       "<p>4345 rows × 9 columns</p>\n",
       "</div>"
      ],
      "text/plain": [
       "              Brand     Price       Body  Mileage  EngineV Engine Type  \\\n",
       "0               BMW    4200.0      sedan      277      2.0      Petrol   \n",
       "1     Mercedes-Benz    7900.0        van      427      2.9      Diesel   \n",
       "2     Mercedes-Benz   13300.0      sedan      358      5.0         Gas   \n",
       "3              Audi   23000.0  crossover      240      4.2      Petrol   \n",
       "4            Toyota   18300.0  crossover      120      2.0      Petrol   \n",
       "...             ...       ...        ...      ...      ...         ...   \n",
       "4340  Mercedes-Benz  125000.0      sedan        9      3.0      Diesel   \n",
       "4341            BMW    6500.0      sedan        1      3.5      Petrol   \n",
       "4342            BMW    8000.0      sedan      194      2.0      Petrol   \n",
       "4343         Toyota   14200.0      sedan       31      NaN      Petrol   \n",
       "4344     Volkswagen   13500.0        van      124      2.0      Diesel   \n",
       "\n",
       "     Registration  Year              Model  \n",
       "0             yes  1991                320  \n",
       "1             yes  1999       Sprinter 212  \n",
       "2             yes  2003              S 500  \n",
       "3             yes  2007                 Q7  \n",
       "4             yes  2011              Rav 4  \n",
       "...           ...   ...                ...  \n",
       "4340          yes  2014              S 350  \n",
       "4341          yes  1999                535  \n",
       "4342          yes  1985                520  \n",
       "4343          yes  2014            Corolla  \n",
       "4344          yes  2013  T5 (Transporter)   \n",
       "\n",
       "[4345 rows x 9 columns]"
      ]
     },
     "execution_count": 11,
     "metadata": {},
     "output_type": "execute_result"
    }
   ],
   "source": [
    "data"
   ]
  },
  {
   "cell_type": "code",
   "execution_count": 12,
   "metadata": {},
   "outputs": [
    {
     "data": {
      "text/plain": [
       "yes    3947\n",
       "no      398\n",
       "Name: Registration, dtype: int64"
      ]
     },
     "execution_count": 12,
     "metadata": {},
     "output_type": "execute_result"
    }
   ],
   "source": [
    "data.Registration.value_counts()"
   ]
  },
  {
   "cell_type": "code",
   "execution_count": 13,
   "metadata": {},
   "outputs": [
    {
     "data": {
      "text/plain": [
       "E-Class                199\n",
       "A6                     172\n",
       "Vito                   171\n",
       "Kangoo                 146\n",
       "Camry                  134\n",
       "                      ... \n",
       "6 Series Gran Coupe      1\n",
       "250                      1\n",
       "Mark II                  1\n",
       "120                      1\n",
       "CLK 280                  1\n",
       "Name: Model, Length: 312, dtype: int64"
      ]
     },
     "execution_count": 13,
     "metadata": {},
     "output_type": "execute_result"
    }
   ],
   "source": [
    "data.Model.value_counts()"
   ]
  },
  {
   "cell_type": "code",
   "execution_count": 14,
   "metadata": {},
   "outputs": [
    {
     "data": {
      "text/plain": [
       "2008    419\n",
       "2007    357\n",
       "2012    355\n",
       "2011    319\n",
       "2013    266\n",
       "2016    258\n",
       "2006    211\n",
       "2005    189\n",
       "2010    174\n",
       "2014    167\n",
       "2004    165\n",
       "2000    155\n",
       "2003    155\n",
       "2001    145\n",
       "2009    137\n",
       "2002    127\n",
       "2015    117\n",
       "1999    109\n",
       "1998     80\n",
       "1997     79\n",
       "1996     69\n",
       "1995     45\n",
       "1994     39\n",
       "1991     32\n",
       "1993     27\n",
       "1992     25\n",
       "1988     24\n",
       "1989     23\n",
       "1987     19\n",
       "1990     18\n",
       "1985     13\n",
       "1986     12\n",
       "1984      3\n",
       "1980      3\n",
       "1979      3\n",
       "1983      2\n",
       "1978      2\n",
       "1969      1\n",
       "1982      1\n",
       "Name: Year, dtype: int64"
      ]
     },
     "execution_count": 14,
     "metadata": {},
     "output_type": "execute_result"
    }
   ],
   "source": [
    "data.Year.value_counts()"
   ]
  },
  {
   "cell_type": "code",
   "execution_count": 15,
   "metadata": {},
   "outputs": [
    {
     "data": {
      "text/plain": [
       "sedan        1649\n",
       "crossover     901\n",
       "van           675\n",
       "other         433\n",
       "vagon         402\n",
       "hatch         285\n",
       "Name: Body, dtype: int64"
      ]
     },
     "execution_count": 15,
     "metadata": {},
     "output_type": "execute_result"
    }
   ],
   "source": [
    "data.Body.value_counts()"
   ]
  },
  {
   "cell_type": "code",
   "execution_count": 16,
   "metadata": {},
   "outputs": [
    {
     "data": {
      "text/plain": [
       "Volkswagen       936\n",
       "Mercedes-Benz    921\n",
       "BMW              694\n",
       "Toyota           541\n",
       "Renault          469\n",
       "Audi             457\n",
       "Mitsubishi       327\n",
       "Name: Brand, dtype: int64"
      ]
     },
     "execution_count": 16,
     "metadata": {},
     "output_type": "execute_result"
    }
   ],
   "source": [
    "data.Brand.value_counts()"
   ]
  },
  {
   "cell_type": "code",
   "execution_count": 17,
   "metadata": {},
   "outputs": [
    {
     "data": {
      "text/plain": [
       "Diesel    2019\n",
       "Petrol    1559\n",
       "Gas        613\n",
       "Other      154\n",
       "Name: Engine Type, dtype: int64"
      ]
     },
     "execution_count": 17,
     "metadata": {},
     "output_type": "execute_result"
    }
   ],
   "source": [
    "data[\"Engine Type\"].value_counts()"
   ]
  },
  {
   "cell_type": "markdown",
   "metadata": {},
   "source": [
    "### Dealing with missing values"
   ]
  },
  {
   "cell_type": "markdown",
   "metadata": {},
   "source": [
    "#### 4. Find the missing values from the data if any\n",
    "- data.isnull() # shows a df with the information whether a data point is null. \n",
    "- Since True = the data point is missing, while False = the data point is not missing, we can sum them.\n",
    "- This will give us the total number of missing values feature-wise."
   ]
  },
  {
   "cell_type": "code",
   "execution_count": 7,
   "metadata": {
    "scrolled": true
   },
   "outputs": [
    {
     "data": {
      "text/plain": [
       "Brand             0\n",
       "Price           172\n",
       "Body              0\n",
       "Mileage           0\n",
       "EngineV         150\n",
       "Engine Type       0\n",
       "Registration      0\n",
       "Year              0\n",
       "Model             0\n",
       "dtype: int64"
      ]
     },
     "execution_count": 7,
     "metadata": {},
     "output_type": "execute_result"
    }
   ],
   "source": [
    "# CODE HERE\n",
    "data.isnull().sum()"
   ]
  },
  {
   "cell_type": "markdown",
   "metadata": {},
   "source": [
    "#### 5. Let's simply drop all missing values\n",
    "Note: This is not always recommended, however, when we remove less than 5% of the data, it is okay"
   ]
  },
  {
   "cell_type": "code",
   "execution_count": 8,
   "metadata": {},
   "outputs": [],
   "source": [
    "# CODE HERE\n",
    "data=data.dropna()"
   ]
  },
  {
   "cell_type": "markdown",
   "metadata": {},
   "source": [
    "### Here i droped all the null values."
   ]
  },
  {
   "cell_type": "code",
   "execution_count": 9,
   "metadata": {},
   "outputs": [
    {
     "data": {
      "text/plain": [
       "(4025, 9)"
      ]
     },
     "execution_count": 9,
     "metadata": {},
     "output_type": "execute_result"
    }
   ],
   "source": [
    "data.shape"
   ]
  },
  {
   "cell_type": "code",
   "execution_count": 10,
   "metadata": {},
   "outputs": [
    {
     "data": {
      "text/plain": [
       "Brand           0\n",
       "Price           0\n",
       "Body            0\n",
       "Mileage         0\n",
       "EngineV         0\n",
       "Engine Type     0\n",
       "Registration    0\n",
       "Year            0\n",
       "Model           0\n",
       "dtype: int64"
      ]
     },
     "execution_count": 10,
     "metadata": {},
     "output_type": "execute_result"
    }
   ],
   "source": [
    "data.isnull().sum()"
   ]
  },
  {
   "cell_type": "code",
   "execution_count": 11,
   "metadata": {},
   "outputs": [],
   "source": [
    "le=LabelEncoder()\n",
    "cat_col=data.columns[np.where(data.dtypes==\"object\")]\n",
    "#for col in cat_col:\n",
    "    #data[col]=le.fit_transform(data[col])"
   ]
  },
  {
   "cell_type": "code",
   "execution_count": 12,
   "metadata": {},
   "outputs": [
    {
     "data": {
      "text/html": [
       "<div>\n",
       "<style scoped>\n",
       "    .dataframe tbody tr th:only-of-type {\n",
       "        vertical-align: middle;\n",
       "    }\n",
       "\n",
       "    .dataframe tbody tr th {\n",
       "        vertical-align: top;\n",
       "    }\n",
       "\n",
       "    .dataframe thead th {\n",
       "        text-align: right;\n",
       "    }\n",
       "</style>\n",
       "<table border=\"1\" class=\"dataframe\">\n",
       "  <thead>\n",
       "    <tr style=\"text-align: right;\">\n",
       "      <th></th>\n",
       "      <th>Brand</th>\n",
       "      <th>Price</th>\n",
       "      <th>Body</th>\n",
       "      <th>Mileage</th>\n",
       "      <th>EngineV</th>\n",
       "      <th>Engine Type</th>\n",
       "      <th>Registration</th>\n",
       "      <th>Year</th>\n",
       "      <th>Model</th>\n",
       "    </tr>\n",
       "  </thead>\n",
       "  <tbody>\n",
       "    <tr>\n",
       "      <th>0</th>\n",
       "      <td>BMW</td>\n",
       "      <td>4200.0</td>\n",
       "      <td>sedan</td>\n",
       "      <td>277</td>\n",
       "      <td>2.0</td>\n",
       "      <td>Petrol</td>\n",
       "      <td>yes</td>\n",
       "      <td>1991</td>\n",
       "      <td>320</td>\n",
       "    </tr>\n",
       "    <tr>\n",
       "      <th>1</th>\n",
       "      <td>Mercedes-Benz</td>\n",
       "      <td>7900.0</td>\n",
       "      <td>van</td>\n",
       "      <td>427</td>\n",
       "      <td>2.9</td>\n",
       "      <td>Diesel</td>\n",
       "      <td>yes</td>\n",
       "      <td>1999</td>\n",
       "      <td>Sprinter 212</td>\n",
       "    </tr>\n",
       "    <tr>\n",
       "      <th>2</th>\n",
       "      <td>Mercedes-Benz</td>\n",
       "      <td>13300.0</td>\n",
       "      <td>sedan</td>\n",
       "      <td>358</td>\n",
       "      <td>5.0</td>\n",
       "      <td>Gas</td>\n",
       "      <td>yes</td>\n",
       "      <td>2003</td>\n",
       "      <td>S 500</td>\n",
       "    </tr>\n",
       "    <tr>\n",
       "      <th>3</th>\n",
       "      <td>Audi</td>\n",
       "      <td>23000.0</td>\n",
       "      <td>crossover</td>\n",
       "      <td>240</td>\n",
       "      <td>4.2</td>\n",
       "      <td>Petrol</td>\n",
       "      <td>yes</td>\n",
       "      <td>2007</td>\n",
       "      <td>Q7</td>\n",
       "    </tr>\n",
       "    <tr>\n",
       "      <th>4</th>\n",
       "      <td>Toyota</td>\n",
       "      <td>18300.0</td>\n",
       "      <td>crossover</td>\n",
       "      <td>120</td>\n",
       "      <td>2.0</td>\n",
       "      <td>Petrol</td>\n",
       "      <td>yes</td>\n",
       "      <td>2011</td>\n",
       "      <td>Rav 4</td>\n",
       "    </tr>\n",
       "  </tbody>\n",
       "</table>\n",
       "</div>"
      ],
      "text/plain": [
       "           Brand    Price       Body  Mileage  EngineV Engine Type  \\\n",
       "0            BMW   4200.0      sedan      277      2.0      Petrol   \n",
       "1  Mercedes-Benz   7900.0        van      427      2.9      Diesel   \n",
       "2  Mercedes-Benz  13300.0      sedan      358      5.0         Gas   \n",
       "3           Audi  23000.0  crossover      240      4.2      Petrol   \n",
       "4         Toyota  18300.0  crossover      120      2.0      Petrol   \n",
       "\n",
       "  Registration  Year         Model  \n",
       "0          yes  1991           320  \n",
       "1          yes  1999  Sprinter 212  \n",
       "2          yes  2003         S 500  \n",
       "3          yes  2007            Q7  \n",
       "4          yes  2011         Rav 4  "
      ]
     },
     "execution_count": 12,
     "metadata": {},
     "output_type": "execute_result"
    }
   ],
   "source": [
    "data.head()"
   ]
  },
  {
   "cell_type": "markdown",
   "metadata": {},
   "source": [
    "#### 6. Let's check the descriptives without the missing values\n"
   ]
  },
  {
   "cell_type": "code",
   "execution_count": 13,
   "metadata": {},
   "outputs": [
    {
     "data": {
      "text/plain": [
       "Brand           0\n",
       "Price           0\n",
       "Body            0\n",
       "Mileage         0\n",
       "EngineV         0\n",
       "Engine Type     0\n",
       "Registration    0\n",
       "Year            0\n",
       "Model           0\n",
       "dtype: int64"
      ]
     },
     "execution_count": 13,
     "metadata": {},
     "output_type": "execute_result"
    }
   ],
   "source": [
    "# CODE HERE\n",
    "data.isnull().sum()"
   ]
  },
  {
   "cell_type": "code",
   "execution_count": 14,
   "metadata": {},
   "outputs": [
    {
     "data": {
      "text/html": [
       "<div>\n",
       "<style scoped>\n",
       "    .dataframe tbody tr th:only-of-type {\n",
       "        vertical-align: middle;\n",
       "    }\n",
       "\n",
       "    .dataframe tbody tr th {\n",
       "        vertical-align: top;\n",
       "    }\n",
       "\n",
       "    .dataframe thead th {\n",
       "        text-align: right;\n",
       "    }\n",
       "</style>\n",
       "<table border=\"1\" class=\"dataframe\">\n",
       "  <thead>\n",
       "    <tr style=\"text-align: right;\">\n",
       "      <th></th>\n",
       "      <th>Price</th>\n",
       "      <th>Mileage</th>\n",
       "      <th>EngineV</th>\n",
       "      <th>Year</th>\n",
       "    </tr>\n",
       "  </thead>\n",
       "  <tbody>\n",
       "    <tr>\n",
       "      <th>count</th>\n",
       "      <td>4025.000000</td>\n",
       "      <td>4025.000000</td>\n",
       "      <td>4025.000000</td>\n",
       "      <td>4025.000000</td>\n",
       "    </tr>\n",
       "    <tr>\n",
       "      <th>mean</th>\n",
       "      <td>19552.308065</td>\n",
       "      <td>163.572174</td>\n",
       "      <td>2.764586</td>\n",
       "      <td>2006.379627</td>\n",
       "    </tr>\n",
       "    <tr>\n",
       "      <th>std</th>\n",
       "      <td>25815.734988</td>\n",
       "      <td>103.394703</td>\n",
       "      <td>4.935941</td>\n",
       "      <td>6.695595</td>\n",
       "    </tr>\n",
       "    <tr>\n",
       "      <th>min</th>\n",
       "      <td>600.000000</td>\n",
       "      <td>0.000000</td>\n",
       "      <td>0.600000</td>\n",
       "      <td>1969.000000</td>\n",
       "    </tr>\n",
       "    <tr>\n",
       "      <th>25%</th>\n",
       "      <td>6999.000000</td>\n",
       "      <td>90.000000</td>\n",
       "      <td>1.800000</td>\n",
       "      <td>2003.000000</td>\n",
       "    </tr>\n",
       "    <tr>\n",
       "      <th>50%</th>\n",
       "      <td>11500.000000</td>\n",
       "      <td>158.000000</td>\n",
       "      <td>2.200000</td>\n",
       "      <td>2007.000000</td>\n",
       "    </tr>\n",
       "    <tr>\n",
       "      <th>75%</th>\n",
       "      <td>21900.000000</td>\n",
       "      <td>230.000000</td>\n",
       "      <td>3.000000</td>\n",
       "      <td>2012.000000</td>\n",
       "    </tr>\n",
       "    <tr>\n",
       "      <th>max</th>\n",
       "      <td>300000.000000</td>\n",
       "      <td>980.000000</td>\n",
       "      <td>99.990000</td>\n",
       "      <td>2016.000000</td>\n",
       "    </tr>\n",
       "  </tbody>\n",
       "</table>\n",
       "</div>"
      ],
      "text/plain": [
       "               Price      Mileage      EngineV         Year\n",
       "count    4025.000000  4025.000000  4025.000000  4025.000000\n",
       "mean    19552.308065   163.572174     2.764586  2006.379627\n",
       "std     25815.734988   103.394703     4.935941     6.695595\n",
       "min       600.000000     0.000000     0.600000  1969.000000\n",
       "25%      6999.000000    90.000000     1.800000  2003.000000\n",
       "50%     11500.000000   158.000000     2.200000  2007.000000\n",
       "75%     21900.000000   230.000000     3.000000  2012.000000\n",
       "max    300000.000000   980.000000    99.990000  2016.000000"
      ]
     },
     "execution_count": 14,
     "metadata": {},
     "output_type": "execute_result"
    }
   ],
   "source": [
    "data.describe()"
   ]
  },
  {
   "cell_type": "markdown",
   "metadata": {},
   "source": [
    "### Exploring the PDFs for Numerical Variables in the DataFrame"
   ]
  },
  {
   "cell_type": "markdown",
   "metadata": {},
   "source": [
    "#### 7. A great step in the data exploration is to display the probability distribution function (PDF) of a variable\n",
    "- The PDF will show us how that variable is distributed \n",
    "- This makes it very easy to spot anomalies, such as outliers\n",
    "- The PDF is often the basis on which we decide whether we want to transform a feature"
   ]
  },
  {
   "cell_type": "code",
   "execution_count": 15,
   "metadata": {},
   "outputs": [],
   "source": [
    "# CODE HERE\n",
    "num_col=data.select_dtypes(include=[\"int64\",\"float64\"]).columns"
   ]
  },
  {
   "cell_type": "code",
   "execution_count": 16,
   "metadata": {},
   "outputs": [
    {
     "data": {
      "text/plain": [
       "Index(['Brand', 'Body', 'Engine Type', 'Registration', 'Model'], dtype='object')"
      ]
     },
     "execution_count": 16,
     "metadata": {},
     "output_type": "execute_result"
    }
   ],
   "source": [
    "data.select_dtypes(include=[\"object\"]).columns"
   ]
  },
  {
   "cell_type": "code",
   "execution_count": 17,
   "metadata": {},
   "outputs": [
    {
     "data": {
      "text/plain": [
       "(array([1., 0., 0., 1., 0., 0., 1., 0., 0., 1.]),\n",
       " array([0. , 0.3, 0.6, 0.9, 1.2, 1.5, 1.8, 2.1, 2.4, 2.7, 3. ]),\n",
       " <BarContainer object of 10 artists>)"
      ]
     },
     "execution_count": 17,
     "metadata": {},
     "output_type": "execute_result"
    },
    {
     "data": {
      "image/png": "[encoded data removed]",
      "text/plain": [
       "<Figure size 432x288 with 1 Axes>"
      ]
     },
     "metadata": {
      "needs_background": "light"
     },
     "output_type": "display_data"
    }
   ],
   "source": [
    "plt.hist(num_col,bins=10,color=\"blue\")"
   ]
  },
  {
   "cell_type": "code",
   "execution_count": 18,
   "metadata": {},
   "outputs": [
    {
     "data": {
      "text/plain": [
       "<AxesSubplot:xlabel='Mileage', ylabel='Density'>"
      ]
     },
     "execution_count": 18,
     "metadata": {},
     "output_type": "execute_result"
    },
    {
     "data": {
      "image/png": "[encoded data removed]",
      "text/plain": [
       "<Figure size 432x288 with 1 Axes>"
      ]
     },
     "metadata": {
      "needs_background": "light"
     },
     "output_type": "display_data"
    }
   ],
   "source": [
    "\n",
    "sns.distplot(data.Mileage)\n"
   ]
  },
  {
   "cell_type": "code",
   "execution_count": 19,
   "metadata": {},
   "outputs": [
    {
     "data": {
      "text/plain": [
       "<AxesSubplot:ylabel='Density'>"
      ]
     },
     "execution_count": 19,
     "metadata": {},
     "output_type": "execute_result"
    },
    {
     "data": {
      "image/png": "[encoded data removed]",
      "text/plain": [
       "<Figure size 432x288 with 1 Axes>"
      ]
     },
     "metadata": {
      "needs_background": "light"
     },
     "output_type": "display_data"
    }
   ],
   "source": [
    "sns.distplot([data.Price])"
   ]
  },
  {
   "cell_type": "code",
   "execution_count": 20,
   "metadata": {},
   "outputs": [
    {
     "data": {
      "text/plain": [
       "<AxesSubplot:ylabel='Density'>"
      ]
     },
     "execution_count": 20,
     "metadata": {},
     "output_type": "execute_result"
    },
    {
     "data": {
      "image/png": "[encoded data removed]",
      "text/plain": [
       "<Figure size 432x288 with 1 Axes>"
      ]
     },
     "metadata": {
      "needs_background": "light"
     },
     "output_type": "display_data"
    }
   ],
   "source": [
    "sns.distplot([data.EngineV])"
   ]
  },
  {
   "cell_type": "code",
   "execution_count": 21,
   "metadata": {},
   "outputs": [
    {
     "data": {
      "text/plain": [
       "<AxesSubplot:ylabel='Density'>"
      ]
     },
     "execution_count": 21,
     "metadata": {},
     "output_type": "execute_result"
    },
    {
     "data": {
      "image/png": "[encoded data removed]",
      "text/plain": [
       "<Figure size 432x288 with 1 Axes>"
      ]
     },
     "metadata": {
      "needs_background": "light"
     },
     "output_type": "display_data"
    }
   ],
   "source": [
    "fig=plt.figure()\n",
    "sns.distplot(data[num_col],bins=20)"
   ]
  },
  {
   "cell_type": "code",
   "execution_count": 22,
   "metadata": {},
   "outputs": [
    {
     "data": {
      "text/plain": [
       "<AxesSubplot:ylabel='Density'>"
      ]
     },
     "execution_count": 22,
     "metadata": {},
     "output_type": "execute_result"
    },
    {
     "data": {
      "image/png": "[encoded data removed]",
      "text/plain": [
       "<Figure size 432x288 with 1 Axes>"
      ]
     },
     "metadata": {
      "needs_background": "light"
     },
     "output_type": "display_data"
    }
   ],
   "source": [
    " data.plot.density(bw_method=None, ind=None)"
   ]
  },
  {
   "cell_type": "code",
   "execution_count": 23,
   "metadata": {},
   "outputs": [
    {
     "data": {
      "text/plain": [
       "<AxesSubplot:ylabel='Density'>"
      ]
     },
     "execution_count": 23,
     "metadata": {},
     "output_type": "execute_result"
    },
    {
     "data": {
      "image/png": "[encoded data removed]",
      "text/plain": [
       "<Figure size 432x288 with 1 Axes>"
      ]
     },
     "metadata": {
      "needs_background": "light"
     },
     "output_type": "display_data"
    }
   ],
   "source": [
    " data[\"Price\"].plot.density(bw_method=None, ind=None)"
   ]
  },
  {
   "cell_type": "code",
   "execution_count": 24,
   "metadata": {},
   "outputs": [],
   "source": [
    "def numeric_analysis_hist(feature1):\n",
    "    sns.set_style('whitegrid')    \n",
    "    plt.figure(figsize=(15,5))\n",
    "    plt.title(feature1+' Distribution',fontsize = 20) \n",
    "    plt.xlabel(feature1 , fontsize = 15)  \n",
    "    \n",
    "    dist = sns.distplot(data[feature1],color='g')"
   ]
  },
  {
   "cell_type": "code",
   "execution_count": 25,
   "metadata": {},
   "outputs": [
    {
     "data": {
      "image/png": "[encoded data removed]",
      "text/plain": [
       "<Figure size 1080x360 with 1 Axes>"
      ]
     },
     "metadata": {},
     "output_type": "display_data"
    }
   ],
   "source": [
    "numeric_analysis_hist(\"Price\")"
   ]
  },
  {
   "cell_type": "code",
   "execution_count": 26,
   "metadata": {},
   "outputs": [
    {
     "data": {
      "image/png": "[encoded data removed]",
      "text/plain": [
       "<Figure size 1080x360 with 1 Axes>"
      ]
     },
     "metadata": {},
     "output_type": "display_data"
    }
   ],
   "source": [
    "numeric_analysis_hist(\"EngineV\")"
   ]
  },
  {
   "cell_type": "code",
   "execution_count": 27,
   "metadata": {},
   "outputs": [
    {
     "data": {
      "image/png": "[encoded data removed]",
      "text/plain": [
       "<Figure size 1080x360 with 1 Axes>"
      ]
     },
     "metadata": {},
     "output_type": "display_data"
    }
   ],
   "source": [
    "numeric_analysis_hist(\"Mileage\")"
   ]
  },
  {
   "cell_type": "markdown",
   "metadata": {},
   "source": [
    "### Dealing with outliers\n",
    "Hint: Use IQR or Z Score"
   ]
  },
  {
   "cell_type": "markdown",
   "metadata": {},
   "source": [
    "#### 8A. Identify the Outliers which are presented in `Price` Column"
   ]
  },
  {
   "cell_type": "code",
   "execution_count": 30,
   "metadata": {},
   "outputs": [],
   "source": [
    "def numeric_analysis(feature):\n",
    "    sns.set_style('whitegrid')\n",
    "    out_marker = dict(markerfacecolor='yellow',markeredgecolor = 'black', marker='o', markersize = 12)\n",
    "    plt.figure(figsize=(15,5))\n",
    "    plt.title(feature+' outliers',fontsize = 20) \n",
    "    plt.xlabel(feature , fontsize = 15)  \n",
    "    \n",
    "    boxplot = sns.boxplot(data[feature],notch = True,color='skyblue',\n",
    "                          showmeans=True,\n",
    "                          flierprops=out_marker,\n",
    "                          meanprops={ \"marker\":\"o\",\n",
    "                                    \"markerfacecolor\":\"red\", \n",
    "                                    \"markeredgecolor\":\"black\",\n",
    "                                    \"markersize\":\"8\"})       \n",
    "    "
   ]
  },
  {
   "cell_type": "code",
   "execution_count": 31,
   "metadata": {},
   "outputs": [
    {
     "data": {
      "image/png": "[encoded data removed]",
      "text/plain": [
       "<Figure size 1080x360 with 1 Axes>"
      ]
     },
     "metadata": {},
     "output_type": "display_data"
    }
   ],
   "source": [
    "numeric_analysis(\"Price\")"
   ]
  },
  {
   "cell_type": "code",
   "execution_count": 32,
   "metadata": {},
   "outputs": [],
   "source": [
    "# CODE HERE\n",
    "min_price,max_price=data.Price.quantile([0.001,0.999])"
   ]
  },
  {
   "cell_type": "code",
   "execution_count": 33,
   "metadata": {},
   "outputs": [
    {
     "data": {
      "text/plain": [
       "(1101.1999999999998, 249999.976)"
      ]
     },
     "execution_count": 33,
     "metadata": {},
     "output_type": "execute_result"
    }
   ],
   "source": [
    "min_price,max_price"
   ]
  },
  {
   "cell_type": "code",
   "execution_count": 34,
   "metadata": {},
   "outputs": [
    {
     "data": {
      "text/html": [
       "<div>\n",
       "<style scoped>\n",
       "    .dataframe tbody tr th:only-of-type {\n",
       "        vertical-align: middle;\n",
       "    }\n",
       "\n",
       "    .dataframe tbody tr th {\n",
       "        vertical-align: top;\n",
       "    }\n",
       "\n",
       "    .dataframe thead th {\n",
       "        text-align: right;\n",
       "    }\n",
       "</style>\n",
       "<table border=\"1\" class=\"dataframe\">\n",
       "  <thead>\n",
       "    <tr style=\"text-align: right;\">\n",
       "      <th></th>\n",
       "      <th>Brand</th>\n",
       "      <th>Price</th>\n",
       "      <th>Body</th>\n",
       "      <th>Mileage</th>\n",
       "      <th>EngineV</th>\n",
       "      <th>Engine Type</th>\n",
       "      <th>Registration</th>\n",
       "      <th>Year</th>\n",
       "      <th>Model</th>\n",
       "    </tr>\n",
       "  </thead>\n",
       "  <tbody>\n",
       "    <tr>\n",
       "      <th>141</th>\n",
       "      <td>Audi</td>\n",
       "      <td>600.0</td>\n",
       "      <td>sedan</td>\n",
       "      <td>112</td>\n",
       "      <td>1.6</td>\n",
       "      <td>Petrol</td>\n",
       "      <td>yes</td>\n",
       "      <td>1980</td>\n",
       "      <td>80</td>\n",
       "    </tr>\n",
       "    <tr>\n",
       "      <th>288</th>\n",
       "      <td>Toyota</td>\n",
       "      <td>600.0</td>\n",
       "      <td>sedan</td>\n",
       "      <td>10</td>\n",
       "      <td>1.5</td>\n",
       "      <td>Petrol</td>\n",
       "      <td>yes</td>\n",
       "      <td>1979</td>\n",
       "      <td>Corolla</td>\n",
       "    </tr>\n",
       "    <tr>\n",
       "      <th>1592</th>\n",
       "      <td>Renault</td>\n",
       "      <td>999.0</td>\n",
       "      <td>sedan</td>\n",
       "      <td>430</td>\n",
       "      <td>2.0</td>\n",
       "      <td>Gas</td>\n",
       "      <td>yes</td>\n",
       "      <td>1988</td>\n",
       "      <td>25</td>\n",
       "    </tr>\n",
       "    <tr>\n",
       "      <th>3608</th>\n",
       "      <td>Renault</td>\n",
       "      <td>800.0</td>\n",
       "      <td>van</td>\n",
       "      <td>200</td>\n",
       "      <td>1.9</td>\n",
       "      <td>Diesel</td>\n",
       "      <td>no</td>\n",
       "      <td>1997</td>\n",
       "      <td>Scenic</td>\n",
       "    </tr>\n",
       "    <tr>\n",
       "      <th>3947</th>\n",
       "      <td>Toyota</td>\n",
       "      <td>1100.0</td>\n",
       "      <td>van</td>\n",
       "      <td>140</td>\n",
       "      <td>2.0</td>\n",
       "      <td>Gas</td>\n",
       "      <td>yes</td>\n",
       "      <td>1985</td>\n",
       "      <td>Lite Ace</td>\n",
       "    </tr>\n",
       "  </tbody>\n",
       "</table>\n",
       "</div>"
      ],
      "text/plain": [
       "        Brand   Price   Body  Mileage  EngineV Engine Type Registration  Year  \\\n",
       "141      Audi   600.0  sedan      112      1.6      Petrol          yes  1980   \n",
       "288    Toyota   600.0  sedan       10      1.5      Petrol          yes  1979   \n",
       "1592  Renault   999.0  sedan      430      2.0         Gas          yes  1988   \n",
       "3608  Renault   800.0    van      200      1.9      Diesel           no  1997   \n",
       "3947   Toyota  1100.0    van      140      2.0         Gas          yes  1985   \n",
       "\n",
       "         Model  \n",
       "141         80  \n",
       "288    Corolla  \n",
       "1592        25  \n",
       "3608    Scenic  \n",
       "3947  Lite Ace  "
      ]
     },
     "execution_count": 34,
     "metadata": {},
     "output_type": "execute_result"
    }
   ],
   "source": [
    "data[data.Price<min_price]"
   ]
  },
  {
   "cell_type": "code",
   "execution_count": 35,
   "metadata": {},
   "outputs": [
    {
     "data": {
      "text/html": [
       "<div>\n",
       "<style scoped>\n",
       "    .dataframe tbody tr th:only-of-type {\n",
       "        vertical-align: middle;\n",
       "    }\n",
       "\n",
       "    .dataframe tbody tr th {\n",
       "        vertical-align: top;\n",
       "    }\n",
       "\n",
       "    .dataframe thead th {\n",
       "        text-align: right;\n",
       "    }\n",
       "</style>\n",
       "<table border=\"1\" class=\"dataframe\">\n",
       "  <thead>\n",
       "    <tr style=\"text-align: right;\">\n",
       "      <th></th>\n",
       "      <th>Brand</th>\n",
       "      <th>Price</th>\n",
       "      <th>Body</th>\n",
       "      <th>Mileage</th>\n",
       "      <th>EngineV</th>\n",
       "      <th>Engine Type</th>\n",
       "      <th>Registration</th>\n",
       "      <th>Year</th>\n",
       "      <th>Model</th>\n",
       "    </tr>\n",
       "  </thead>\n",
       "  <tbody>\n",
       "    <tr>\n",
       "      <th>1728</th>\n",
       "      <td>Mercedes-Benz</td>\n",
       "      <td>300000.0</td>\n",
       "      <td>sedan</td>\n",
       "      <td>68</td>\n",
       "      <td>6.0</td>\n",
       "      <td>Petrol</td>\n",
       "      <td>yes</td>\n",
       "      <td>2011</td>\n",
       "      <td>S 600</td>\n",
       "    </tr>\n",
       "    <tr>\n",
       "      <th>2243</th>\n",
       "      <td>Mercedes-Benz</td>\n",
       "      <td>250000.0</td>\n",
       "      <td>other</td>\n",
       "      <td>6</td>\n",
       "      <td>5.5</td>\n",
       "      <td>Petrol</td>\n",
       "      <td>yes</td>\n",
       "      <td>2016</td>\n",
       "      <td>S 63 AMG</td>\n",
       "    </tr>\n",
       "    <tr>\n",
       "      <th>3164</th>\n",
       "      <td>Mercedes-Benz</td>\n",
       "      <td>295000.0</td>\n",
       "      <td>sedan</td>\n",
       "      <td>29</td>\n",
       "      <td>6.0</td>\n",
       "      <td>Petrol</td>\n",
       "      <td>yes</td>\n",
       "      <td>2011</td>\n",
       "      <td>S-Guard</td>\n",
       "    </tr>\n",
       "    <tr>\n",
       "      <th>4101</th>\n",
       "      <td>Mercedes-Benz</td>\n",
       "      <td>295000.0</td>\n",
       "      <td>sedan</td>\n",
       "      <td>29</td>\n",
       "      <td>6.0</td>\n",
       "      <td>Petrol</td>\n",
       "      <td>yes</td>\n",
       "      <td>2011</td>\n",
       "      <td>S 600</td>\n",
       "    </tr>\n",
       "    <tr>\n",
       "      <th>4318</th>\n",
       "      <td>Mercedes-Benz</td>\n",
       "      <td>300000.0</td>\n",
       "      <td>other</td>\n",
       "      <td>37</td>\n",
       "      <td>5.0</td>\n",
       "      <td>Petrol</td>\n",
       "      <td>yes</td>\n",
       "      <td>2012</td>\n",
       "      <td>G 500</td>\n",
       "    </tr>\n",
       "  </tbody>\n",
       "</table>\n",
       "</div>"
      ],
      "text/plain": [
       "              Brand     Price   Body  Mileage  EngineV Engine Type  \\\n",
       "1728  Mercedes-Benz  300000.0  sedan       68      6.0      Petrol   \n",
       "2243  Mercedes-Benz  250000.0  other        6      5.5      Petrol   \n",
       "3164  Mercedes-Benz  295000.0  sedan       29      6.0      Petrol   \n",
       "4101  Mercedes-Benz  295000.0  sedan       29      6.0      Petrol   \n",
       "4318  Mercedes-Benz  300000.0  other       37      5.0      Petrol   \n",
       "\n",
       "     Registration  Year     Model  \n",
       "1728          yes  2011     S 600  \n",
       "2243          yes  2016  S 63 AMG  \n",
       "3164          yes  2011   S-Guard  \n",
       "4101          yes  2011     S 600  \n",
       "4318          yes  2012     G 500  "
      ]
     },
     "execution_count": 35,
     "metadata": {},
     "output_type": "execute_result"
    }
   ],
   "source": [
    "data[data.Price > max_price]"
   ]
  },
  {
   "cell_type": "code",
   "execution_count": 36,
   "metadata": {},
   "outputs": [
    {
     "data": {
      "text/plain": [
       "Brand           0\n",
       "Price           0\n",
       "Body            0\n",
       "Mileage         0\n",
       "EngineV         0\n",
       "Engine Type     0\n",
       "Registration    0\n",
       "Year            0\n",
       "Model           0\n",
       "dtype: int64"
      ]
     },
     "execution_count": 36,
     "metadata": {},
     "output_type": "execute_result"
    }
   ],
   "source": [
    "data.isnull().sum()"
   ]
  },
  {
   "cell_type": "code",
   "execution_count": 37,
   "metadata": {},
   "outputs": [
    {
     "data": {
      "text/plain": [
       "(6999.0, 21900.0)"
      ]
     },
     "execution_count": 37,
     "metadata": {},
     "output_type": "execute_result"
    }
   ],
   "source": [
    "q1=data.Price.quantile(0.25)\n",
    "q3=data.Price.quantile(0.75)\n",
    "q1,q3"
   ]
  },
  {
   "cell_type": "code",
   "execution_count": 38,
   "metadata": {},
   "outputs": [
    {
     "data": {
      "text/plain": [
       "14901.0"
      ]
     },
     "execution_count": 38,
     "metadata": {},
     "output_type": "execute_result"
    }
   ],
   "source": [
    "IQR=q3-q1\n",
    "IQR"
   ]
  },
  {
   "cell_type": "code",
   "execution_count": 39,
   "metadata": {},
   "outputs": [
    {
     "data": {
      "text/plain": [
       "(-15352.5, 44251.5)"
      ]
     },
     "execution_count": 39,
     "metadata": {},
     "output_type": "execute_result"
    }
   ],
   "source": [
    "lower_limit=q1 - 1.5*IQR\n",
    "upper_limit=q3 + 1.5*IQR\n",
    "lower_limit,upper_limit"
   ]
  },
  {
   "cell_type": "code",
   "execution_count": 40,
   "metadata": {},
   "outputs": [
    {
     "data": {
      "text/html": [
       "<div>\n",
       "<style scoped>\n",
       "    .dataframe tbody tr th:only-of-type {\n",
       "        vertical-align: middle;\n",
       "    }\n",
       "\n",
       "    .dataframe tbody tr th {\n",
       "        vertical-align: top;\n",
       "    }\n",
       "\n",
       "    .dataframe thead th {\n",
       "        text-align: right;\n",
       "    }\n",
       "</style>\n",
       "<table border=\"1\" class=\"dataframe\">\n",
       "  <thead>\n",
       "    <tr style=\"text-align: right;\">\n",
       "      <th></th>\n",
       "      <th>Brand</th>\n",
       "      <th>Price</th>\n",
       "      <th>Body</th>\n",
       "      <th>Mileage</th>\n",
       "      <th>EngineV</th>\n",
       "      <th>Engine Type</th>\n",
       "      <th>Registration</th>\n",
       "      <th>Year</th>\n",
       "      <th>Model</th>\n",
       "    </tr>\n",
       "  </thead>\n",
       "  <tbody>\n",
       "    <tr>\n",
       "      <th>5</th>\n",
       "      <td>Mercedes-Benz</td>\n",
       "      <td>199999.0</td>\n",
       "      <td>crossover</td>\n",
       "      <td>0</td>\n",
       "      <td>5.5</td>\n",
       "      <td>Petrol</td>\n",
       "      <td>yes</td>\n",
       "      <td>2016</td>\n",
       "      <td>GLS 63</td>\n",
       "    </tr>\n",
       "    <tr>\n",
       "      <th>37</th>\n",
       "      <td>BMW</td>\n",
       "      <td>67500.0</td>\n",
       "      <td>crossover</td>\n",
       "      <td>1</td>\n",
       "      <td>2.5</td>\n",
       "      <td>Diesel</td>\n",
       "      <td>yes</td>\n",
       "      <td>2016</td>\n",
       "      <td>X5</td>\n",
       "    </tr>\n",
       "    <tr>\n",
       "      <th>41</th>\n",
       "      <td>Mercedes-Benz</td>\n",
       "      <td>63000.0</td>\n",
       "      <td>crossover</td>\n",
       "      <td>86</td>\n",
       "      <td>5.5</td>\n",
       "      <td>Petrol</td>\n",
       "      <td>yes</td>\n",
       "      <td>2009</td>\n",
       "      <td>G 55 AMG</td>\n",
       "    </tr>\n",
       "    <tr>\n",
       "      <th>62</th>\n",
       "      <td>BMW</td>\n",
       "      <td>133000.0</td>\n",
       "      <td>crossover</td>\n",
       "      <td>7</td>\n",
       "      <td>4.4</td>\n",
       "      <td>Petrol</td>\n",
       "      <td>yes</td>\n",
       "      <td>2015</td>\n",
       "      <td>X5 M</td>\n",
       "    </tr>\n",
       "    <tr>\n",
       "      <th>64</th>\n",
       "      <td>Mercedes-Benz</td>\n",
       "      <td>50000.0</td>\n",
       "      <td>sedan</td>\n",
       "      <td>240</td>\n",
       "      <td>3.5</td>\n",
       "      <td>Petrol</td>\n",
       "      <td>yes</td>\n",
       "      <td>2006</td>\n",
       "      <td>S 350</td>\n",
       "    </tr>\n",
       "    <tr>\n",
       "      <th>...</th>\n",
       "      <td>...</td>\n",
       "      <td>...</td>\n",
       "      <td>...</td>\n",
       "      <td>...</td>\n",
       "      <td>...</td>\n",
       "      <td>...</td>\n",
       "      <td>...</td>\n",
       "      <td>...</td>\n",
       "      <td>...</td>\n",
       "    </tr>\n",
       "    <tr>\n",
       "      <th>4318</th>\n",
       "      <td>Mercedes-Benz</td>\n",
       "      <td>300000.0</td>\n",
       "      <td>other</td>\n",
       "      <td>37</td>\n",
       "      <td>5.0</td>\n",
       "      <td>Petrol</td>\n",
       "      <td>yes</td>\n",
       "      <td>2012</td>\n",
       "      <td>G 500</td>\n",
       "    </tr>\n",
       "    <tr>\n",
       "      <th>4322</th>\n",
       "      <td>Toyota</td>\n",
       "      <td>100000.0</td>\n",
       "      <td>crossover</td>\n",
       "      <td>0</td>\n",
       "      <td>4.5</td>\n",
       "      <td>Diesel</td>\n",
       "      <td>yes</td>\n",
       "      <td>2016</td>\n",
       "      <td>Land Cruiser 200</td>\n",
       "    </tr>\n",
       "    <tr>\n",
       "      <th>4327</th>\n",
       "      <td>Audi</td>\n",
       "      <td>80999.0</td>\n",
       "      <td>crossover</td>\n",
       "      <td>0</td>\n",
       "      <td>3.0</td>\n",
       "      <td>Diesel</td>\n",
       "      <td>yes</td>\n",
       "      <td>2016</td>\n",
       "      <td>Q7</td>\n",
       "    </tr>\n",
       "    <tr>\n",
       "      <th>4331</th>\n",
       "      <td>BMW</td>\n",
       "      <td>45000.0</td>\n",
       "      <td>crossover</td>\n",
       "      <td>80</td>\n",
       "      <td>3.0</td>\n",
       "      <td>Petrol</td>\n",
       "      <td>yes</td>\n",
       "      <td>2011</td>\n",
       "      <td>X6</td>\n",
       "    </tr>\n",
       "    <tr>\n",
       "      <th>4340</th>\n",
       "      <td>Mercedes-Benz</td>\n",
       "      <td>125000.0</td>\n",
       "      <td>sedan</td>\n",
       "      <td>9</td>\n",
       "      <td>3.0</td>\n",
       "      <td>Diesel</td>\n",
       "      <td>yes</td>\n",
       "      <td>2014</td>\n",
       "      <td>S 350</td>\n",
       "    </tr>\n",
       "  </tbody>\n",
       "</table>\n",
       "<p>355 rows × 9 columns</p>\n",
       "</div>"
      ],
      "text/plain": [
       "              Brand     Price       Body  Mileage  EngineV Engine Type  \\\n",
       "5     Mercedes-Benz  199999.0  crossover        0      5.5      Petrol   \n",
       "37              BMW   67500.0  crossover        1      2.5      Diesel   \n",
       "41    Mercedes-Benz   63000.0  crossover       86      5.5      Petrol   \n",
       "62              BMW  133000.0  crossover        7      4.4      Petrol   \n",
       "64    Mercedes-Benz   50000.0      sedan      240      3.5      Petrol   \n",
       "...             ...       ...        ...      ...      ...         ...   \n",
       "4318  Mercedes-Benz  300000.0      other       37      5.0      Petrol   \n",
       "4322         Toyota  100000.0  crossover        0      4.5      Diesel   \n",
       "4327           Audi   80999.0  crossover        0      3.0      Diesel   \n",
       "4331            BMW   45000.0  crossover       80      3.0      Petrol   \n",
       "4340  Mercedes-Benz  125000.0      sedan        9      3.0      Diesel   \n",
       "\n",
       "     Registration  Year             Model  \n",
       "5             yes  2016            GLS 63  \n",
       "37            yes  2016                X5  \n",
       "41            yes  2009          G 55 AMG  \n",
       "62            yes  2015              X5 M  \n",
       "64            yes  2006             S 350  \n",
       "...           ...   ...               ...  \n",
       "4318          yes  2012             G 500  \n",
       "4322          yes  2016  Land Cruiser 200  \n",
       "4327          yes  2016                Q7  \n",
       "4331          yes  2011                X6  \n",
       "4340          yes  2014             S 350  \n",
       "\n",
       "[355 rows x 9 columns]"
      ]
     },
     "execution_count": 40,
     "metadata": {},
     "output_type": "execute_result"
    }
   ],
   "source": [
    "data[(data.Price < lower_limit) | (data.Price > upper_limit)]"
   ]
  },
  {
   "cell_type": "code",
   "execution_count": null,
   "metadata": {},
   "outputs": [],
   "source": []
  },
  {
   "cell_type": "code",
   "execution_count": 41,
   "metadata": {},
   "outputs": [
    {
     "data": {
      "text/html": [
       "<div>\n",
       "<style scoped>\n",
       "    .dataframe tbody tr th:only-of-type {\n",
       "        vertical-align: middle;\n",
       "    }\n",
       "\n",
       "    .dataframe tbody tr th {\n",
       "        vertical-align: top;\n",
       "    }\n",
       "\n",
       "    .dataframe thead th {\n",
       "        text-align: right;\n",
       "    }\n",
       "</style>\n",
       "<table border=\"1\" class=\"dataframe\">\n",
       "  <thead>\n",
       "    <tr style=\"text-align: right;\">\n",
       "      <th></th>\n",
       "      <th>Brand</th>\n",
       "      <th>Price</th>\n",
       "      <th>Body</th>\n",
       "      <th>Mileage</th>\n",
       "      <th>EngineV</th>\n",
       "      <th>Engine Type</th>\n",
       "      <th>Registration</th>\n",
       "      <th>Year</th>\n",
       "      <th>Model</th>\n",
       "    </tr>\n",
       "  </thead>\n",
       "  <tbody>\n",
       "    <tr>\n",
       "      <th>0</th>\n",
       "      <td>BMW</td>\n",
       "      <td>4200.0</td>\n",
       "      <td>sedan</td>\n",
       "      <td>277</td>\n",
       "      <td>2.0</td>\n",
       "      <td>Petrol</td>\n",
       "      <td>yes</td>\n",
       "      <td>1991</td>\n",
       "      <td>320</td>\n",
       "    </tr>\n",
       "    <tr>\n",
       "      <th>1</th>\n",
       "      <td>Mercedes-Benz</td>\n",
       "      <td>7900.0</td>\n",
       "      <td>van</td>\n",
       "      <td>427</td>\n",
       "      <td>2.9</td>\n",
       "      <td>Diesel</td>\n",
       "      <td>yes</td>\n",
       "      <td>1999</td>\n",
       "      <td>Sprinter 212</td>\n",
       "    </tr>\n",
       "    <tr>\n",
       "      <th>2</th>\n",
       "      <td>Mercedes-Benz</td>\n",
       "      <td>13300.0</td>\n",
       "      <td>sedan</td>\n",
       "      <td>358</td>\n",
       "      <td>5.0</td>\n",
       "      <td>Gas</td>\n",
       "      <td>yes</td>\n",
       "      <td>2003</td>\n",
       "      <td>S 500</td>\n",
       "    </tr>\n",
       "    <tr>\n",
       "      <th>3</th>\n",
       "      <td>Audi</td>\n",
       "      <td>23000.0</td>\n",
       "      <td>crossover</td>\n",
       "      <td>240</td>\n",
       "      <td>4.2</td>\n",
       "      <td>Petrol</td>\n",
       "      <td>yes</td>\n",
       "      <td>2007</td>\n",
       "      <td>Q7</td>\n",
       "    </tr>\n",
       "    <tr>\n",
       "      <th>4</th>\n",
       "      <td>Toyota</td>\n",
       "      <td>18300.0</td>\n",
       "      <td>crossover</td>\n",
       "      <td>120</td>\n",
       "      <td>2.0</td>\n",
       "      <td>Petrol</td>\n",
       "      <td>yes</td>\n",
       "      <td>2011</td>\n",
       "      <td>Rav 4</td>\n",
       "    </tr>\n",
       "    <tr>\n",
       "      <th>...</th>\n",
       "      <td>...</td>\n",
       "      <td>...</td>\n",
       "      <td>...</td>\n",
       "      <td>...</td>\n",
       "      <td>...</td>\n",
       "      <td>...</td>\n",
       "      <td>...</td>\n",
       "      <td>...</td>\n",
       "      <td>...</td>\n",
       "    </tr>\n",
       "    <tr>\n",
       "      <th>4339</th>\n",
       "      <td>Toyota</td>\n",
       "      <td>17900.0</td>\n",
       "      <td>sedan</td>\n",
       "      <td>35</td>\n",
       "      <td>1.6</td>\n",
       "      <td>Petrol</td>\n",
       "      <td>yes</td>\n",
       "      <td>2014</td>\n",
       "      <td>Corolla</td>\n",
       "    </tr>\n",
       "    <tr>\n",
       "      <th>4340</th>\n",
       "      <td>Mercedes-Benz</td>\n",
       "      <td>125000.0</td>\n",
       "      <td>sedan</td>\n",
       "      <td>9</td>\n",
       "      <td>3.0</td>\n",
       "      <td>Diesel</td>\n",
       "      <td>yes</td>\n",
       "      <td>2014</td>\n",
       "      <td>S 350</td>\n",
       "    </tr>\n",
       "    <tr>\n",
       "      <th>4341</th>\n",
       "      <td>BMW</td>\n",
       "      <td>6500.0</td>\n",
       "      <td>sedan</td>\n",
       "      <td>1</td>\n",
       "      <td>3.5</td>\n",
       "      <td>Petrol</td>\n",
       "      <td>yes</td>\n",
       "      <td>1999</td>\n",
       "      <td>535</td>\n",
       "    </tr>\n",
       "    <tr>\n",
       "      <th>4342</th>\n",
       "      <td>BMW</td>\n",
       "      <td>8000.0</td>\n",
       "      <td>sedan</td>\n",
       "      <td>194</td>\n",
       "      <td>2.0</td>\n",
       "      <td>Petrol</td>\n",
       "      <td>yes</td>\n",
       "      <td>1985</td>\n",
       "      <td>520</td>\n",
       "    </tr>\n",
       "    <tr>\n",
       "      <th>4344</th>\n",
       "      <td>Volkswagen</td>\n",
       "      <td>13500.0</td>\n",
       "      <td>van</td>\n",
       "      <td>124</td>\n",
       "      <td>2.0</td>\n",
       "      <td>Diesel</td>\n",
       "      <td>yes</td>\n",
       "      <td>2013</td>\n",
       "      <td>T5 (Transporter)</td>\n",
       "    </tr>\n",
       "  </tbody>\n",
       "</table>\n",
       "<p>4025 rows × 9 columns</p>\n",
       "</div>"
      ],
      "text/plain": [
       "              Brand     Price       Body  Mileage  EngineV Engine Type  \\\n",
       "0               BMW    4200.0      sedan      277      2.0      Petrol   \n",
       "1     Mercedes-Benz    7900.0        van      427      2.9      Diesel   \n",
       "2     Mercedes-Benz   13300.0      sedan      358      5.0         Gas   \n",
       "3              Audi   23000.0  crossover      240      4.2      Petrol   \n",
       "4            Toyota   18300.0  crossover      120      2.0      Petrol   \n",
       "...             ...       ...        ...      ...      ...         ...   \n",
       "4339         Toyota   17900.0      sedan       35      1.6      Petrol   \n",
       "4340  Mercedes-Benz  125000.0      sedan        9      3.0      Diesel   \n",
       "4341            BMW    6500.0      sedan        1      3.5      Petrol   \n",
       "4342            BMW    8000.0      sedan      194      2.0      Petrol   \n",
       "4344     Volkswagen   13500.0        van      124      2.0      Diesel   \n",
       "\n",
       "     Registration  Year              Model  \n",
       "0             yes  1991                320  \n",
       "1             yes  1999       Sprinter 212  \n",
       "2             yes  2003              S 500  \n",
       "3             yes  2007                 Q7  \n",
       "4             yes  2011              Rav 4  \n",
       "...           ...   ...                ...  \n",
       "4339          yes  2014            Corolla  \n",
       "4340          yes  2014              S 350  \n",
       "4341          yes  1999                535  \n",
       "4342          yes  1985                520  \n",
       "4344          yes  2013  T5 (Transporter)   \n",
       "\n",
       "[4025 rows x 9 columns]"
      ]
     },
     "execution_count": 41,
     "metadata": {},
     "output_type": "execute_result"
    }
   ],
   "source": [
    "data"
   ]
  },
  {
   "cell_type": "markdown",
   "metadata": {},
   "source": [
    "#### 8B. Remove the Outliers which are presented in `Price` Column"
   ]
  },
  {
   "cell_type": "code",
   "execution_count": 42,
   "metadata": {},
   "outputs": [
    {
     "data": {
      "text/html": [
       "<div>\n",
       "<style scoped>\n",
       "    .dataframe tbody tr th:only-of-type {\n",
       "        vertical-align: middle;\n",
       "    }\n",
       "\n",
       "    .dataframe tbody tr th {\n",
       "        vertical-align: top;\n",
       "    }\n",
       "\n",
       "    .dataframe thead th {\n",
       "        text-align: right;\n",
       "    }\n",
       "</style>\n",
       "<table border=\"1\" class=\"dataframe\">\n",
       "  <thead>\n",
       "    <tr style=\"text-align: right;\">\n",
       "      <th></th>\n",
       "      <th>Brand</th>\n",
       "      <th>Price</th>\n",
       "      <th>Body</th>\n",
       "      <th>Mileage</th>\n",
       "      <th>EngineV</th>\n",
       "      <th>Engine Type</th>\n",
       "      <th>Registration</th>\n",
       "      <th>Year</th>\n",
       "      <th>Model</th>\n",
       "    </tr>\n",
       "  </thead>\n",
       "  <tbody>\n",
       "    <tr>\n",
       "      <th>0</th>\n",
       "      <td>BMW</td>\n",
       "      <td>4200.0</td>\n",
       "      <td>sedan</td>\n",
       "      <td>277</td>\n",
       "      <td>2.0</td>\n",
       "      <td>Petrol</td>\n",
       "      <td>yes</td>\n",
       "      <td>1991</td>\n",
       "      <td>320</td>\n",
       "    </tr>\n",
       "    <tr>\n",
       "      <th>1</th>\n",
       "      <td>Mercedes-Benz</td>\n",
       "      <td>7900.0</td>\n",
       "      <td>van</td>\n",
       "      <td>427</td>\n",
       "      <td>2.9</td>\n",
       "      <td>Diesel</td>\n",
       "      <td>yes</td>\n",
       "      <td>1999</td>\n",
       "      <td>Sprinter 212</td>\n",
       "    </tr>\n",
       "    <tr>\n",
       "      <th>2</th>\n",
       "      <td>Mercedes-Benz</td>\n",
       "      <td>13300.0</td>\n",
       "      <td>sedan</td>\n",
       "      <td>358</td>\n",
       "      <td>5.0</td>\n",
       "      <td>Gas</td>\n",
       "      <td>yes</td>\n",
       "      <td>2003</td>\n",
       "      <td>S 500</td>\n",
       "    </tr>\n",
       "    <tr>\n",
       "      <th>3</th>\n",
       "      <td>Audi</td>\n",
       "      <td>23000.0</td>\n",
       "      <td>crossover</td>\n",
       "      <td>240</td>\n",
       "      <td>4.2</td>\n",
       "      <td>Petrol</td>\n",
       "      <td>yes</td>\n",
       "      <td>2007</td>\n",
       "      <td>Q7</td>\n",
       "    </tr>\n",
       "    <tr>\n",
       "      <th>4</th>\n",
       "      <td>Toyota</td>\n",
       "      <td>18300.0</td>\n",
       "      <td>crossover</td>\n",
       "      <td>120</td>\n",
       "      <td>2.0</td>\n",
       "      <td>Petrol</td>\n",
       "      <td>yes</td>\n",
       "      <td>2011</td>\n",
       "      <td>Rav 4</td>\n",
       "    </tr>\n",
       "    <tr>\n",
       "      <th>...</th>\n",
       "      <td>...</td>\n",
       "      <td>...</td>\n",
       "      <td>...</td>\n",
       "      <td>...</td>\n",
       "      <td>...</td>\n",
       "      <td>...</td>\n",
       "      <td>...</td>\n",
       "      <td>...</td>\n",
       "      <td>...</td>\n",
       "    </tr>\n",
       "    <tr>\n",
       "      <th>4338</th>\n",
       "      <td>Volkswagen</td>\n",
       "      <td>11500.0</td>\n",
       "      <td>van</td>\n",
       "      <td>163</td>\n",
       "      <td>2.5</td>\n",
       "      <td>Diesel</td>\n",
       "      <td>yes</td>\n",
       "      <td>2008</td>\n",
       "      <td>T5 (Transporter)</td>\n",
       "    </tr>\n",
       "    <tr>\n",
       "      <th>4339</th>\n",
       "      <td>Toyota</td>\n",
       "      <td>17900.0</td>\n",
       "      <td>sedan</td>\n",
       "      <td>35</td>\n",
       "      <td>1.6</td>\n",
       "      <td>Petrol</td>\n",
       "      <td>yes</td>\n",
       "      <td>2014</td>\n",
       "      <td>Corolla</td>\n",
       "    </tr>\n",
       "    <tr>\n",
       "      <th>4341</th>\n",
       "      <td>BMW</td>\n",
       "      <td>6500.0</td>\n",
       "      <td>sedan</td>\n",
       "      <td>1</td>\n",
       "      <td>3.5</td>\n",
       "      <td>Petrol</td>\n",
       "      <td>yes</td>\n",
       "      <td>1999</td>\n",
       "      <td>535</td>\n",
       "    </tr>\n",
       "    <tr>\n",
       "      <th>4342</th>\n",
       "      <td>BMW</td>\n",
       "      <td>8000.0</td>\n",
       "      <td>sedan</td>\n",
       "      <td>194</td>\n",
       "      <td>2.0</td>\n",
       "      <td>Petrol</td>\n",
       "      <td>yes</td>\n",
       "      <td>1985</td>\n",
       "      <td>520</td>\n",
       "    </tr>\n",
       "    <tr>\n",
       "      <th>4344</th>\n",
       "      <td>Volkswagen</td>\n",
       "      <td>13500.0</td>\n",
       "      <td>van</td>\n",
       "      <td>124</td>\n",
       "      <td>2.0</td>\n",
       "      <td>Diesel</td>\n",
       "      <td>yes</td>\n",
       "      <td>2013</td>\n",
       "      <td>T5 (Transporter)</td>\n",
       "    </tr>\n",
       "  </tbody>\n",
       "</table>\n",
       "<p>3670 rows × 9 columns</p>\n",
       "</div>"
      ],
      "text/plain": [
       "              Brand    Price       Body  Mileage  EngineV Engine Type  \\\n",
       "0               BMW   4200.0      sedan      277      2.0      Petrol   \n",
       "1     Mercedes-Benz   7900.0        van      427      2.9      Diesel   \n",
       "2     Mercedes-Benz  13300.0      sedan      358      5.0         Gas   \n",
       "3              Audi  23000.0  crossover      240      4.2      Petrol   \n",
       "4            Toyota  18300.0  crossover      120      2.0      Petrol   \n",
       "...             ...      ...        ...      ...      ...         ...   \n",
       "4338     Volkswagen  11500.0        van      163      2.5      Diesel   \n",
       "4339         Toyota  17900.0      sedan       35      1.6      Petrol   \n",
       "4341            BMW   6500.0      sedan        1      3.5      Petrol   \n",
       "4342            BMW   8000.0      sedan      194      2.0      Petrol   \n",
       "4344     Volkswagen  13500.0        van      124      2.0      Diesel   \n",
       "\n",
       "     Registration  Year              Model  \n",
       "0             yes  1991                320  \n",
       "1             yes  1999       Sprinter 212  \n",
       "2             yes  2003              S 500  \n",
       "3             yes  2007                 Q7  \n",
       "4             yes  2011              Rav 4  \n",
       "...           ...   ...                ...  \n",
       "4338          yes  2008   T5 (Transporter)  \n",
       "4339          yes  2014            Corolla  \n",
       "4341          yes  1999                535  \n",
       "4342          yes  1985                520  \n",
       "4344          yes  2013  T5 (Transporter)   \n",
       "\n",
       "[3670 rows x 9 columns]"
      ]
     },
     "execution_count": 42,
     "metadata": {},
     "output_type": "execute_result"
    }
   ],
   "source": [
    "# CODE HERE\n",
    "data1=data[(data.Price > lower_limit) & (data.Price < upper_limit)]\n",
    "data1"
   ]
  },
  {
   "cell_type": "markdown",
   "metadata": {},
   "source": [
    "#### 8C. Again Check the Distribution for `Price` Column and say something about distribution plot"
   ]
  },
  {
   "cell_type": "code",
   "execution_count": 44,
   "metadata": {},
   "outputs": [
    {
     "data": {
      "image/png": "[encoded data removed]",
      "text/plain": [
       "<Figure size 432x288 with 1 Axes>"
      ]
     },
     "metadata": {},
     "output_type": "display_data"
    }
   ],
   "source": [
    "# CODE HERE\n",
    "sk=sns.distplot(data[\"Price\"],bins=20)"
   ]
  },
  {
   "cell_type": "markdown",
   "metadata": {},
   "source": [
    "** This price columns distribution is right skewed and meadian is greater than mean**"
   ]
  },
  {
   "cell_type": "code",
   "execution_count": null,
   "metadata": {},
   "outputs": [],
   "source": []
  },
  {
   "cell_type": "code",
   "execution_count": 45,
   "metadata": {},
   "outputs": [
    {
     "data": {
      "text/plain": [
       "<bound method Series.skew of 0         4200.0\n",
       "1         7900.0\n",
       "2        13300.0\n",
       "3        23000.0\n",
       "4        18300.0\n",
       "          ...   \n",
       "4339     17900.0\n",
       "4340    125000.0\n",
       "4341      6500.0\n",
       "4342      8000.0\n",
       "4344     13500.0\n",
       "Name: Price, Length: 4025, dtype: float64>"
      ]
     },
     "execution_count": 45,
     "metadata": {},
     "output_type": "execute_result"
    }
   ],
   "source": [
    "data.Price.skew"
   ]
  },
  {
   "cell_type": "markdown",
   "metadata": {},
   "source": [
    "#### 9A. Same identify and remove the outliers in `Milage` column"
   ]
  },
  {
   "cell_type": "code",
   "execution_count": 46,
   "metadata": {},
   "outputs": [
    {
     "data": {
      "image/png": "[encoded data removed]",
      "text/plain": [
       "<Figure size 1080x360 with 1 Axes>"
      ]
     },
     "metadata": {},
     "output_type": "display_data"
    }
   ],
   "source": [
    "numeric_analysis(\"Mileage\")  # Before removing the outliers"
   ]
  },
  {
   "cell_type": "code",
   "execution_count": null,
   "metadata": {},
   "outputs": [],
   "source": []
  },
  {
   "cell_type": "code",
   "execution_count": 47,
   "metadata": {},
   "outputs": [
    {
     "data": {
      "text/plain": [
       "130.0"
      ]
     },
     "execution_count": 47,
     "metadata": {},
     "output_type": "execute_result"
    }
   ],
   "source": [
    "# CODE HERE\n",
    "\n",
    "q1=data1.Mileage.quantile(0.25)\n",
    "q3=data1.Mileage.quantile(0.75)\n",
    "iqr=q3-q1\n",
    "iqr"
   ]
  },
  {
   "cell_type": "code",
   "execution_count": 48,
   "metadata": {},
   "outputs": [
    {
     "data": {
      "text/plain": [
       "(-87.0, 433.0)"
      ]
     },
     "execution_count": 48,
     "metadata": {},
     "output_type": "execute_result"
    }
   ],
   "source": [
    "lower_limit=q1 - 1.5*iqr\n",
    "upper_limit=q3 + 1.5*iqr\n",
    "lower_limit,upper_limit"
   ]
  },
  {
   "cell_type": "code",
   "execution_count": 49,
   "metadata": {},
   "outputs": [
    {
     "data": {
      "text/html": [
       "<div>\n",
       "<style scoped>\n",
       "    .dataframe tbody tr th:only-of-type {\n",
       "        vertical-align: middle;\n",
       "    }\n",
       "\n",
       "    .dataframe tbody tr th {\n",
       "        vertical-align: top;\n",
       "    }\n",
       "\n",
       "    .dataframe thead th {\n",
       "        text-align: right;\n",
       "    }\n",
       "</style>\n",
       "<table border=\"1\" class=\"dataframe\">\n",
       "  <thead>\n",
       "    <tr style=\"text-align: right;\">\n",
       "      <th></th>\n",
       "      <th>Brand</th>\n",
       "      <th>Price</th>\n",
       "      <th>Body</th>\n",
       "      <th>Mileage</th>\n",
       "      <th>EngineV</th>\n",
       "      <th>Engine Type</th>\n",
       "      <th>Registration</th>\n",
       "      <th>Year</th>\n",
       "      <th>Model</th>\n",
       "    </tr>\n",
       "  </thead>\n",
       "  <tbody>\n",
       "    <tr>\n",
       "      <th>6</th>\n",
       "      <td>BMW</td>\n",
       "      <td>6100.0</td>\n",
       "      <td>sedan</td>\n",
       "      <td>438</td>\n",
       "      <td>2.0</td>\n",
       "      <td>Gas</td>\n",
       "      <td>yes</td>\n",
       "      <td>1997</td>\n",
       "      <td>320</td>\n",
       "    </tr>\n",
       "    <tr>\n",
       "      <th>258</th>\n",
       "      <td>Volkswagen</td>\n",
       "      <td>2500.0</td>\n",
       "      <td>sedan</td>\n",
       "      <td>488</td>\n",
       "      <td>2.0</td>\n",
       "      <td>Petrol</td>\n",
       "      <td>yes</td>\n",
       "      <td>1991</td>\n",
       "      <td>Passat B3</td>\n",
       "    </tr>\n",
       "    <tr>\n",
       "      <th>284</th>\n",
       "      <td>Renault</td>\n",
       "      <td>4900.0</td>\n",
       "      <td>van</td>\n",
       "      <td>472</td>\n",
       "      <td>2.5</td>\n",
       "      <td>Diesel</td>\n",
       "      <td>yes</td>\n",
       "      <td>2000</td>\n",
       "      <td>Master</td>\n",
       "    </tr>\n",
       "    <tr>\n",
       "      <th>396</th>\n",
       "      <td>Mercedes-Benz</td>\n",
       "      <td>2650.0</td>\n",
       "      <td>sedan</td>\n",
       "      <td>470</td>\n",
       "      <td>2.0</td>\n",
       "      <td>Gas</td>\n",
       "      <td>yes</td>\n",
       "      <td>1985</td>\n",
       "      <td>190</td>\n",
       "    </tr>\n",
       "    <tr>\n",
       "      <th>899</th>\n",
       "      <td>Volkswagen</td>\n",
       "      <td>6500.0</td>\n",
       "      <td>other</td>\n",
       "      <td>547</td>\n",
       "      <td>1.9</td>\n",
       "      <td>Diesel</td>\n",
       "      <td>yes</td>\n",
       "      <td>1998</td>\n",
       "      <td>T4 (Transporter)</td>\n",
       "    </tr>\n",
       "    <tr>\n",
       "      <th>922</th>\n",
       "      <td>Volkswagen</td>\n",
       "      <td>5200.0</td>\n",
       "      <td>van</td>\n",
       "      <td>442</td>\n",
       "      <td>2.4</td>\n",
       "      <td>Diesel</td>\n",
       "      <td>yes</td>\n",
       "      <td>1992</td>\n",
       "      <td>T4 (Transporter)</td>\n",
       "    </tr>\n",
       "    <tr>\n",
       "      <th>1198</th>\n",
       "      <td>Volkswagen</td>\n",
       "      <td>8700.0</td>\n",
       "      <td>other</td>\n",
       "      <td>520</td>\n",
       "      <td>2.5</td>\n",
       "      <td>Diesel</td>\n",
       "      <td>yes</td>\n",
       "      <td>1999</td>\n",
       "      <td>T4 (Transporter)</td>\n",
       "    </tr>\n",
       "    <tr>\n",
       "      <th>1393</th>\n",
       "      <td>Toyota</td>\n",
       "      <td>2700.0</td>\n",
       "      <td>sedan</td>\n",
       "      <td>550</td>\n",
       "      <td>1.6</td>\n",
       "      <td>Gas</td>\n",
       "      <td>yes</td>\n",
       "      <td>1989</td>\n",
       "      <td>Carina</td>\n",
       "    </tr>\n",
       "    <tr>\n",
       "      <th>1410</th>\n",
       "      <td>Volkswagen</td>\n",
       "      <td>4900.0</td>\n",
       "      <td>sedan</td>\n",
       "      <td>500</td>\n",
       "      <td>1.9</td>\n",
       "      <td>Diesel</td>\n",
       "      <td>yes</td>\n",
       "      <td>1995</td>\n",
       "      <td>Passat B4</td>\n",
       "    </tr>\n",
       "    <tr>\n",
       "      <th>1813</th>\n",
       "      <td>Mercedes-Benz</td>\n",
       "      <td>8500.0</td>\n",
       "      <td>van</td>\n",
       "      <td>630</td>\n",
       "      <td>2.9</td>\n",
       "      <td>Diesel</td>\n",
       "      <td>yes</td>\n",
       "      <td>1998</td>\n",
       "      <td>Sprinter 312</td>\n",
       "    </tr>\n",
       "    <tr>\n",
       "      <th>2043</th>\n",
       "      <td>Mercedes-Benz</td>\n",
       "      <td>3800.0</td>\n",
       "      <td>van</td>\n",
       "      <td>462</td>\n",
       "      <td>2.2</td>\n",
       "      <td>Diesel</td>\n",
       "      <td>no</td>\n",
       "      <td>2001</td>\n",
       "      <td>Sprinter</td>\n",
       "    </tr>\n",
       "    <tr>\n",
       "      <th>2101</th>\n",
       "      <td>Audi</td>\n",
       "      <td>1900.0</td>\n",
       "      <td>sedan</td>\n",
       "      <td>450</td>\n",
       "      <td>2.5</td>\n",
       "      <td>Diesel</td>\n",
       "      <td>no</td>\n",
       "      <td>1996</td>\n",
       "      <td>A6</td>\n",
       "    </tr>\n",
       "    <tr>\n",
       "      <th>2155</th>\n",
       "      <td>Mercedes-Benz</td>\n",
       "      <td>8500.0</td>\n",
       "      <td>sedan</td>\n",
       "      <td>500</td>\n",
       "      <td>3.2</td>\n",
       "      <td>Diesel</td>\n",
       "      <td>yes</td>\n",
       "      <td>2000</td>\n",
       "      <td>E-Class</td>\n",
       "    </tr>\n",
       "    <tr>\n",
       "      <th>2172</th>\n",
       "      <td>Mercedes-Benz</td>\n",
       "      <td>6500.0</td>\n",
       "      <td>sedan</td>\n",
       "      <td>435</td>\n",
       "      <td>3.2</td>\n",
       "      <td>Petrol</td>\n",
       "      <td>yes</td>\n",
       "      <td>1994</td>\n",
       "      <td>S 140</td>\n",
       "    </tr>\n",
       "    <tr>\n",
       "      <th>2194</th>\n",
       "      <td>BMW</td>\n",
       "      <td>7200.0</td>\n",
       "      <td>sedan</td>\n",
       "      <td>448</td>\n",
       "      <td>3.0</td>\n",
       "      <td>Petrol</td>\n",
       "      <td>yes</td>\n",
       "      <td>1996</td>\n",
       "      <td>730</td>\n",
       "    </tr>\n",
       "    <tr>\n",
       "      <th>2290</th>\n",
       "      <td>Mercedes-Benz</td>\n",
       "      <td>4500.0</td>\n",
       "      <td>other</td>\n",
       "      <td>525</td>\n",
       "      <td>2.3</td>\n",
       "      <td>Diesel</td>\n",
       "      <td>yes</td>\n",
       "      <td>1995</td>\n",
       "      <td>Sprinter 208</td>\n",
       "    </tr>\n",
       "    <tr>\n",
       "      <th>2354</th>\n",
       "      <td>Mercedes-Benz</td>\n",
       "      <td>4000.0</td>\n",
       "      <td>sedan</td>\n",
       "      <td>460</td>\n",
       "      <td>2.0</td>\n",
       "      <td>Petrol</td>\n",
       "      <td>yes</td>\n",
       "      <td>1991</td>\n",
       "      <td>E-Class</td>\n",
       "    </tr>\n",
       "    <tr>\n",
       "      <th>2469</th>\n",
       "      <td>Mercedes-Benz</td>\n",
       "      <td>6500.0</td>\n",
       "      <td>van</td>\n",
       "      <td>450</td>\n",
       "      <td>2.3</td>\n",
       "      <td>Diesel</td>\n",
       "      <td>yes</td>\n",
       "      <td>1996</td>\n",
       "      <td>Vito</td>\n",
       "    </tr>\n",
       "    <tr>\n",
       "      <th>2472</th>\n",
       "      <td>Mercedes-Benz</td>\n",
       "      <td>8800.0</td>\n",
       "      <td>other</td>\n",
       "      <td>575</td>\n",
       "      <td>2.2</td>\n",
       "      <td>Diesel</td>\n",
       "      <td>yes</td>\n",
       "      <td>2006</td>\n",
       "      <td>Sprinter 313</td>\n",
       "    </tr>\n",
       "    <tr>\n",
       "      <th>2488</th>\n",
       "      <td>Mitsubishi</td>\n",
       "      <td>2300.0</td>\n",
       "      <td>sedan</td>\n",
       "      <td>523</td>\n",
       "      <td>1.8</td>\n",
       "      <td>Diesel</td>\n",
       "      <td>yes</td>\n",
       "      <td>1989</td>\n",
       "      <td>Lancer</td>\n",
       "    </tr>\n",
       "    <tr>\n",
       "      <th>2873</th>\n",
       "      <td>Volkswagen</td>\n",
       "      <td>1900.0</td>\n",
       "      <td>vagon</td>\n",
       "      <td>504</td>\n",
       "      <td>1.6</td>\n",
       "      <td>Gas</td>\n",
       "      <td>yes</td>\n",
       "      <td>1988</td>\n",
       "      <td>Passat B2</td>\n",
       "    </tr>\n",
       "    <tr>\n",
       "      <th>2887</th>\n",
       "      <td>Volkswagen</td>\n",
       "      <td>2850.0</td>\n",
       "      <td>vagon</td>\n",
       "      <td>450</td>\n",
       "      <td>1.6</td>\n",
       "      <td>Diesel</td>\n",
       "      <td>yes</td>\n",
       "      <td>1988</td>\n",
       "      <td>Passat B2</td>\n",
       "    </tr>\n",
       "    <tr>\n",
       "      <th>3086</th>\n",
       "      <td>Volkswagen</td>\n",
       "      <td>2500.0</td>\n",
       "      <td>sedan</td>\n",
       "      <td>440</td>\n",
       "      <td>1.6</td>\n",
       "      <td>Diesel</td>\n",
       "      <td>yes</td>\n",
       "      <td>1991</td>\n",
       "      <td>Jetta</td>\n",
       "    </tr>\n",
       "    <tr>\n",
       "      <th>3091</th>\n",
       "      <td>Volkswagen</td>\n",
       "      <td>20500.0</td>\n",
       "      <td>hatch</td>\n",
       "      <td>800</td>\n",
       "      <td>2.0</td>\n",
       "      <td>Diesel</td>\n",
       "      <td>yes</td>\n",
       "      <td>2013</td>\n",
       "      <td>Golf VII</td>\n",
       "    </tr>\n",
       "    <tr>\n",
       "      <th>3214</th>\n",
       "      <td>Volkswagen</td>\n",
       "      <td>5300.0</td>\n",
       "      <td>van</td>\n",
       "      <td>505</td>\n",
       "      <td>2.4</td>\n",
       "      <td>Diesel</td>\n",
       "      <td>yes</td>\n",
       "      <td>1995</td>\n",
       "      <td>T4 (Transporter)</td>\n",
       "    </tr>\n",
       "    <tr>\n",
       "      <th>3222</th>\n",
       "      <td>Mercedes-Benz</td>\n",
       "      <td>9500.0</td>\n",
       "      <td>other</td>\n",
       "      <td>650</td>\n",
       "      <td>2.2</td>\n",
       "      <td>Diesel</td>\n",
       "      <td>yes</td>\n",
       "      <td>2005</td>\n",
       "      <td>Sprinter 313</td>\n",
       "    </tr>\n",
       "    <tr>\n",
       "      <th>3281</th>\n",
       "      <td>Audi</td>\n",
       "      <td>6700.0</td>\n",
       "      <td>sedan</td>\n",
       "      <td>470</td>\n",
       "      <td>2.0</td>\n",
       "      <td>Diesel</td>\n",
       "      <td>yes</td>\n",
       "      <td>1997</td>\n",
       "      <td>A6</td>\n",
       "    </tr>\n",
       "    <tr>\n",
       "      <th>3283</th>\n",
       "      <td>Mercedes-Benz</td>\n",
       "      <td>13000.0</td>\n",
       "      <td>other</td>\n",
       "      <td>580</td>\n",
       "      <td>2.2</td>\n",
       "      <td>Diesel</td>\n",
       "      <td>yes</td>\n",
       "      <td>2005</td>\n",
       "      <td>Sprinter 313</td>\n",
       "    </tr>\n",
       "    <tr>\n",
       "      <th>3457</th>\n",
       "      <td>Volkswagen</td>\n",
       "      <td>3200.0</td>\n",
       "      <td>other</td>\n",
       "      <td>650</td>\n",
       "      <td>1.9</td>\n",
       "      <td>Diesel</td>\n",
       "      <td>yes</td>\n",
       "      <td>1999</td>\n",
       "      <td>Caddy</td>\n",
       "    </tr>\n",
       "    <tr>\n",
       "      <th>3631</th>\n",
       "      <td>Mercedes-Benz</td>\n",
       "      <td>2100.0</td>\n",
       "      <td>sedan</td>\n",
       "      <td>535</td>\n",
       "      <td>2.2</td>\n",
       "      <td>Diesel</td>\n",
       "      <td>yes</td>\n",
       "      <td>1995</td>\n",
       "      <td>210</td>\n",
       "    </tr>\n",
       "    <tr>\n",
       "      <th>3669</th>\n",
       "      <td>Audi</td>\n",
       "      <td>2750.0</td>\n",
       "      <td>sedan</td>\n",
       "      <td>450</td>\n",
       "      <td>2.5</td>\n",
       "      <td>Diesel</td>\n",
       "      <td>no</td>\n",
       "      <td>1999</td>\n",
       "      <td>A6</td>\n",
       "    </tr>\n",
       "    <tr>\n",
       "      <th>3741</th>\n",
       "      <td>BMW</td>\n",
       "      <td>2200.0</td>\n",
       "      <td>sedan</td>\n",
       "      <td>460</td>\n",
       "      <td>2.4</td>\n",
       "      <td>Diesel</td>\n",
       "      <td>yes</td>\n",
       "      <td>1988</td>\n",
       "      <td>324</td>\n",
       "    </tr>\n",
       "    <tr>\n",
       "      <th>3762</th>\n",
       "      <td>Mercedes-Benz</td>\n",
       "      <td>6200.0</td>\n",
       "      <td>sedan</td>\n",
       "      <td>450</td>\n",
       "      <td>4.2</td>\n",
       "      <td>Gas</td>\n",
       "      <td>yes</td>\n",
       "      <td>1997</td>\n",
       "      <td>S 420</td>\n",
       "    </tr>\n",
       "    <tr>\n",
       "      <th>3799</th>\n",
       "      <td>Mercedes-Benz</td>\n",
       "      <td>8400.0</td>\n",
       "      <td>other</td>\n",
       "      <td>457</td>\n",
       "      <td>5.0</td>\n",
       "      <td>Gas</td>\n",
       "      <td>yes</td>\n",
       "      <td>1996</td>\n",
       "      <td>S 140</td>\n",
       "    </tr>\n",
       "    <tr>\n",
       "      <th>4043</th>\n",
       "      <td>Volkswagen</td>\n",
       "      <td>6000.0</td>\n",
       "      <td>van</td>\n",
       "      <td>460</td>\n",
       "      <td>1.9</td>\n",
       "      <td>Diesel</td>\n",
       "      <td>yes</td>\n",
       "      <td>1997</td>\n",
       "      <td>T4 (Transporter)</td>\n",
       "    </tr>\n",
       "    <tr>\n",
       "      <th>4045</th>\n",
       "      <td>Mercedes-Benz</td>\n",
       "      <td>5600.0</td>\n",
       "      <td>van</td>\n",
       "      <td>480</td>\n",
       "      <td>2.2</td>\n",
       "      <td>Diesel</td>\n",
       "      <td>yes</td>\n",
       "      <td>1999</td>\n",
       "      <td>Vito</td>\n",
       "    </tr>\n",
       "    <tr>\n",
       "      <th>4170</th>\n",
       "      <td>Volkswagen</td>\n",
       "      <td>3600.0</td>\n",
       "      <td>vagon</td>\n",
       "      <td>470</td>\n",
       "      <td>1.8</td>\n",
       "      <td>Petrol</td>\n",
       "      <td>yes</td>\n",
       "      <td>1994</td>\n",
       "      <td>Passat B4</td>\n",
       "    </tr>\n",
       "    <tr>\n",
       "      <th>4313</th>\n",
       "      <td>Renault</td>\n",
       "      <td>7500.0</td>\n",
       "      <td>other</td>\n",
       "      <td>440</td>\n",
       "      <td>2.0</td>\n",
       "      <td>Diesel</td>\n",
       "      <td>yes</td>\n",
       "      <td>2008</td>\n",
       "      <td>Trafic</td>\n",
       "    </tr>\n",
       "    <tr>\n",
       "      <th>4319</th>\n",
       "      <td>Mercedes-Benz</td>\n",
       "      <td>5500.0</td>\n",
       "      <td>sedan</td>\n",
       "      <td>440</td>\n",
       "      <td>2.0</td>\n",
       "      <td>Petrol</td>\n",
       "      <td>yes</td>\n",
       "      <td>1978</td>\n",
       "      <td>E-Class</td>\n",
       "    </tr>\n",
       "  </tbody>\n",
       "</table>\n",
       "</div>"
      ],
      "text/plain": [
       "              Brand    Price   Body  Mileage  EngineV Engine Type  \\\n",
       "6               BMW   6100.0  sedan      438      2.0         Gas   \n",
       "258      Volkswagen   2500.0  sedan      488      2.0      Petrol   \n",
       "284         Renault   4900.0    van      472      2.5      Diesel   \n",
       "396   Mercedes-Benz   2650.0  sedan      470      2.0         Gas   \n",
       "899      Volkswagen   6500.0  other      547      1.9      Diesel   \n",
       "922      Volkswagen   5200.0    van      442      2.4      Diesel   \n",
       "1198     Volkswagen   8700.0  other      520      2.5      Diesel   \n",
       "1393         Toyota   2700.0  sedan      550      1.6         Gas   \n",
       "1410     Volkswagen   4900.0  sedan      500      1.9      Diesel   \n",
       "1813  Mercedes-Benz   8500.0    van      630      2.9      Diesel   \n",
       "2043  Mercedes-Benz   3800.0    van      462      2.2      Diesel   \n",
       "2101           Audi   1900.0  sedan      450      2.5      Diesel   \n",
       "2155  Mercedes-Benz   8500.0  sedan      500      3.2      Diesel   \n",
       "2172  Mercedes-Benz   6500.0  sedan      435      3.2      Petrol   \n",
       "2194            BMW   7200.0  sedan      448      3.0      Petrol   \n",
       "2290  Mercedes-Benz   4500.0  other      525      2.3      Diesel   \n",
       "2354  Mercedes-Benz   4000.0  sedan      460      2.0      Petrol   \n",
       "2469  Mercedes-Benz   6500.0    van      450      2.3      Diesel   \n",
       "2472  Mercedes-Benz   8800.0  other      575      2.2      Diesel   \n",
       "2488     Mitsubishi   2300.0  sedan      523      1.8      Diesel   \n",
       "2873     Volkswagen   1900.0  vagon      504      1.6         Gas   \n",
       "2887     Volkswagen   2850.0  vagon      450      1.6      Diesel   \n",
       "3086     Volkswagen   2500.0  sedan      440      1.6      Diesel   \n",
       "3091     Volkswagen  20500.0  hatch      800      2.0      Diesel   \n",
       "3214     Volkswagen   5300.0    van      505      2.4      Diesel   \n",
       "3222  Mercedes-Benz   9500.0  other      650      2.2      Diesel   \n",
       "3281           Audi   6700.0  sedan      470      2.0      Diesel   \n",
       "3283  Mercedes-Benz  13000.0  other      580      2.2      Diesel   \n",
       "3457     Volkswagen   3200.0  other      650      1.9      Diesel   \n",
       "3631  Mercedes-Benz   2100.0  sedan      535      2.2      Diesel   \n",
       "3669           Audi   2750.0  sedan      450      2.5      Diesel   \n",
       "3741            BMW   2200.0  sedan      460      2.4      Diesel   \n",
       "3762  Mercedes-Benz   6200.0  sedan      450      4.2         Gas   \n",
       "3799  Mercedes-Benz   8400.0  other      457      5.0         Gas   \n",
       "4043     Volkswagen   6000.0    van      460      1.9      Diesel   \n",
       "4045  Mercedes-Benz   5600.0    van      480      2.2      Diesel   \n",
       "4170     Volkswagen   3600.0  vagon      470      1.8      Petrol   \n",
       "4313        Renault   7500.0  other      440      2.0      Diesel   \n",
       "4319  Mercedes-Benz   5500.0  sedan      440      2.0      Petrol   \n",
       "\n",
       "     Registration  Year             Model  \n",
       "6             yes  1997               320  \n",
       "258           yes  1991         Passat B3  \n",
       "284           yes  2000            Master  \n",
       "396           yes  1985               190  \n",
       "899           yes  1998  T4 (Transporter)  \n",
       "922           yes  1992  T4 (Transporter)  \n",
       "1198          yes  1999  T4 (Transporter)  \n",
       "1393          yes  1989            Carina  \n",
       "1410          yes  1995         Passat B4  \n",
       "1813          yes  1998      Sprinter 312  \n",
       "2043           no  2001          Sprinter  \n",
       "2101           no  1996                A6  \n",
       "2155          yes  2000           E-Class  \n",
       "2172          yes  1994             S 140  \n",
       "2194          yes  1996               730  \n",
       "2290          yes  1995      Sprinter 208  \n",
       "2354          yes  1991           E-Class  \n",
       "2469          yes  1996              Vito  \n",
       "2472          yes  2006      Sprinter 313  \n",
       "2488          yes  1989            Lancer  \n",
       "2873          yes  1988         Passat B2  \n",
       "2887          yes  1988         Passat B2  \n",
       "3086          yes  1991             Jetta  \n",
       "3091          yes  2013          Golf VII  \n",
       "3214          yes  1995  T4 (Transporter)  \n",
       "3222          yes  2005      Sprinter 313  \n",
       "3281          yes  1997                A6  \n",
       "3283          yes  2005      Sprinter 313  \n",
       "3457          yes  1999             Caddy  \n",
       "3631          yes  1995               210  \n",
       "3669           no  1999                A6  \n",
       "3741          yes  1988               324  \n",
       "3762          yes  1997             S 420  \n",
       "3799          yes  1996             S 140  \n",
       "4043          yes  1997  T4 (Transporter)  \n",
       "4045          yes  1999              Vito  \n",
       "4170          yes  1994         Passat B4  \n",
       "4313          yes  2008            Trafic  \n",
       "4319          yes  1978           E-Class  "
      ]
     },
     "execution_count": 49,
     "metadata": {},
     "output_type": "execute_result"
    }
   ],
   "source": [
    "data1[(data1.Mileage < lower_limit) | (data1.Mileage > upper_limit)]"
   ]
  },
  {
   "cell_type": "code",
   "execution_count": 50,
   "metadata": {},
   "outputs": [],
   "source": [
    "data2=data1[(data1.Mileage > lower_limit) & (data1.Mileage < upper_limit)]"
   ]
  },
  {
   "cell_type": "code",
   "execution_count": 51,
   "metadata": {},
   "outputs": [
    {
     "data": {
      "text/html": [
       "<div>\n",
       "<style scoped>\n",
       "    .dataframe tbody tr th:only-of-type {\n",
       "        vertical-align: middle;\n",
       "    }\n",
       "\n",
       "    .dataframe tbody tr th {\n",
       "        vertical-align: top;\n",
       "    }\n",
       "\n",
       "    .dataframe thead th {\n",
       "        text-align: right;\n",
       "    }\n",
       "</style>\n",
       "<table border=\"1\" class=\"dataframe\">\n",
       "  <thead>\n",
       "    <tr style=\"text-align: right;\">\n",
       "      <th></th>\n",
       "      <th>Brand</th>\n",
       "      <th>Price</th>\n",
       "      <th>Body</th>\n",
       "      <th>Mileage</th>\n",
       "      <th>EngineV</th>\n",
       "      <th>Engine Type</th>\n",
       "      <th>Registration</th>\n",
       "      <th>Year</th>\n",
       "      <th>Model</th>\n",
       "    </tr>\n",
       "  </thead>\n",
       "  <tbody>\n",
       "    <tr>\n",
       "      <th>0</th>\n",
       "      <td>BMW</td>\n",
       "      <td>4200.0</td>\n",
       "      <td>sedan</td>\n",
       "      <td>277</td>\n",
       "      <td>2.0</td>\n",
       "      <td>Petrol</td>\n",
       "      <td>yes</td>\n",
       "      <td>1991</td>\n",
       "      <td>320</td>\n",
       "    </tr>\n",
       "    <tr>\n",
       "      <th>1</th>\n",
       "      <td>Mercedes-Benz</td>\n",
       "      <td>7900.0</td>\n",
       "      <td>van</td>\n",
       "      <td>427</td>\n",
       "      <td>2.9</td>\n",
       "      <td>Diesel</td>\n",
       "      <td>yes</td>\n",
       "      <td>1999</td>\n",
       "      <td>Sprinter 212</td>\n",
       "    </tr>\n",
       "    <tr>\n",
       "      <th>2</th>\n",
       "      <td>Mercedes-Benz</td>\n",
       "      <td>13300.0</td>\n",
       "      <td>sedan</td>\n",
       "      <td>358</td>\n",
       "      <td>5.0</td>\n",
       "      <td>Gas</td>\n",
       "      <td>yes</td>\n",
       "      <td>2003</td>\n",
       "      <td>S 500</td>\n",
       "    </tr>\n",
       "    <tr>\n",
       "      <th>3</th>\n",
       "      <td>Audi</td>\n",
       "      <td>23000.0</td>\n",
       "      <td>crossover</td>\n",
       "      <td>240</td>\n",
       "      <td>4.2</td>\n",
       "      <td>Petrol</td>\n",
       "      <td>yes</td>\n",
       "      <td>2007</td>\n",
       "      <td>Q7</td>\n",
       "    </tr>\n",
       "    <tr>\n",
       "      <th>4</th>\n",
       "      <td>Toyota</td>\n",
       "      <td>18300.0</td>\n",
       "      <td>crossover</td>\n",
       "      <td>120</td>\n",
       "      <td>2.0</td>\n",
       "      <td>Petrol</td>\n",
       "      <td>yes</td>\n",
       "      <td>2011</td>\n",
       "      <td>Rav 4</td>\n",
       "    </tr>\n",
       "    <tr>\n",
       "      <th>...</th>\n",
       "      <td>...</td>\n",
       "      <td>...</td>\n",
       "      <td>...</td>\n",
       "      <td>...</td>\n",
       "      <td>...</td>\n",
       "      <td>...</td>\n",
       "      <td>...</td>\n",
       "      <td>...</td>\n",
       "      <td>...</td>\n",
       "    </tr>\n",
       "    <tr>\n",
       "      <th>4338</th>\n",
       "      <td>Volkswagen</td>\n",
       "      <td>11500.0</td>\n",
       "      <td>van</td>\n",
       "      <td>163</td>\n",
       "      <td>2.5</td>\n",
       "      <td>Diesel</td>\n",
       "      <td>yes</td>\n",
       "      <td>2008</td>\n",
       "      <td>T5 (Transporter)</td>\n",
       "    </tr>\n",
       "    <tr>\n",
       "      <th>4339</th>\n",
       "      <td>Toyota</td>\n",
       "      <td>17900.0</td>\n",
       "      <td>sedan</td>\n",
       "      <td>35</td>\n",
       "      <td>1.6</td>\n",
       "      <td>Petrol</td>\n",
       "      <td>yes</td>\n",
       "      <td>2014</td>\n",
       "      <td>Corolla</td>\n",
       "    </tr>\n",
       "    <tr>\n",
       "      <th>4341</th>\n",
       "      <td>BMW</td>\n",
       "      <td>6500.0</td>\n",
       "      <td>sedan</td>\n",
       "      <td>1</td>\n",
       "      <td>3.5</td>\n",
       "      <td>Petrol</td>\n",
       "      <td>yes</td>\n",
       "      <td>1999</td>\n",
       "      <td>535</td>\n",
       "    </tr>\n",
       "    <tr>\n",
       "      <th>4342</th>\n",
       "      <td>BMW</td>\n",
       "      <td>8000.0</td>\n",
       "      <td>sedan</td>\n",
       "      <td>194</td>\n",
       "      <td>2.0</td>\n",
       "      <td>Petrol</td>\n",
       "      <td>yes</td>\n",
       "      <td>1985</td>\n",
       "      <td>520</td>\n",
       "    </tr>\n",
       "    <tr>\n",
       "      <th>4344</th>\n",
       "      <td>Volkswagen</td>\n",
       "      <td>13500.0</td>\n",
       "      <td>van</td>\n",
       "      <td>124</td>\n",
       "      <td>2.0</td>\n",
       "      <td>Diesel</td>\n",
       "      <td>yes</td>\n",
       "      <td>2013</td>\n",
       "      <td>T5 (Transporter)</td>\n",
       "    </tr>\n",
       "  </tbody>\n",
       "</table>\n",
       "<p>3630 rows × 9 columns</p>\n",
       "</div>"
      ],
      "text/plain": [
       "              Brand    Price       Body  Mileage  EngineV Engine Type  \\\n",
       "0               BMW   4200.0      sedan      277      2.0      Petrol   \n",
       "1     Mercedes-Benz   7900.0        van      427      2.9      Diesel   \n",
       "2     Mercedes-Benz  13300.0      sedan      358      5.0         Gas   \n",
       "3              Audi  23000.0  crossover      240      4.2      Petrol   \n",
       "4            Toyota  18300.0  crossover      120      2.0      Petrol   \n",
       "...             ...      ...        ...      ...      ...         ...   \n",
       "4338     Volkswagen  11500.0        van      163      2.5      Diesel   \n",
       "4339         Toyota  17900.0      sedan       35      1.6      Petrol   \n",
       "4341            BMW   6500.0      sedan        1      3.5      Petrol   \n",
       "4342            BMW   8000.0      sedan      194      2.0      Petrol   \n",
       "4344     Volkswagen  13500.0        van      124      2.0      Diesel   \n",
       "\n",
       "     Registration  Year              Model  \n",
       "0             yes  1991                320  \n",
       "1             yes  1999       Sprinter 212  \n",
       "2             yes  2003              S 500  \n",
       "3             yes  2007                 Q7  \n",
       "4             yes  2011              Rav 4  \n",
       "...           ...   ...                ...  \n",
       "4338          yes  2008   T5 (Transporter)  \n",
       "4339          yes  2014            Corolla  \n",
       "4341          yes  1999                535  \n",
       "4342          yes  1985                520  \n",
       "4344          yes  2013  T5 (Transporter)   \n",
       "\n",
       "[3630 rows x 9 columns]"
      ]
     },
     "execution_count": 51,
     "metadata": {},
     "output_type": "execute_result"
    }
   ],
   "source": [
    "data2"
   ]
  },
  {
   "cell_type": "code",
   "execution_count": null,
   "metadata": {},
   "outputs": [],
   "source": []
  },
  {
   "cell_type": "code",
   "execution_count": null,
   "metadata": {},
   "outputs": [],
   "source": []
  },
  {
   "cell_type": "markdown",
   "metadata": {},
   "source": [
    "#### 9B. Check the distribution after deleting the outliers in `milage` column and say something about distribution."
   ]
  },
  {
   "cell_type": "code",
   "execution_count": 52,
   "metadata": {},
   "outputs": [
    {
     "data": {
      "text/plain": [
       "<AxesSubplot:xlabel='Mileage', ylabel='Density'>"
      ]
     },
     "execution_count": 52,
     "metadata": {},
     "output_type": "execute_result"
    },
    {
     "data": {
      "image/png": "[encoded data removed]",
      "text/plain": [
       "<Figure size 432x288 with 1 Axes>"
      ]
     },
     "metadata": {},
     "output_type": "display_data"
    }
   ],
   "source": [
    "# CODE HERE\n",
    "sns.distplot(data2[\"Mileage\"],bins=20)"
   ]
  },
  {
   "cell_type": "markdown",
   "metadata": {},
   "source": [
    "\n",
    "**  This mileage feature is quite normaly distributed "
   ]
  },
  {
   "cell_type": "markdown",
   "metadata": {},
   "source": [
    "#### 10A. Identify and remove the outliers from `EngineV` column\n",
    "\n"
   ]
  },
  {
   "cell_type": "code",
   "execution_count": 53,
   "metadata": {},
   "outputs": [
    {
     "data": {
      "image/png": "[encoded data removed]",
      "text/plain": [
       "<Figure size 1080x360 with 1 Axes>"
      ]
     },
     "metadata": {},
     "output_type": "display_data"
    }
   ],
   "source": [
    "numeric_analysis(\"EngineV\")"
   ]
  },
  {
   "cell_type": "code",
   "execution_count": 54,
   "metadata": {},
   "outputs": [
    {
     "data": {
      "text/plain": [
       "0.9999999999999998"
      ]
     },
     "execution_count": 54,
     "metadata": {},
     "output_type": "execute_result"
    }
   ],
   "source": [
    "# CODE HER.E\n",
    "q1=data1.EngineV.quantile(0.25)\n",
    "q3=data1.EngineV.quantile(0.75)\n",
    "iqr=q3-q1\n",
    "iqr"
   ]
  },
  {
   "cell_type": "code",
   "execution_count": 55,
   "metadata": {},
   "outputs": [
    {
     "data": {
      "text/plain": [
       "(0.3000000000000005, 4.299999999999999)"
      ]
     },
     "execution_count": 55,
     "metadata": {},
     "output_type": "execute_result"
    }
   ],
   "source": [
    "# CODE HERE\n",
    "lower_limitE=q1 - 1.5*iqr\n",
    "upper_limitE=q3 + 1.5*iqr\n",
    "lower_limitE,upper_limitE"
   ]
  },
  {
   "cell_type": "code",
   "execution_count": 56,
   "metadata": {},
   "outputs": [
    {
     "data": {
      "text/html": [
       "<div>\n",
       "<style scoped>\n",
       "    .dataframe tbody tr th:only-of-type {\n",
       "        vertical-align: middle;\n",
       "    }\n",
       "\n",
       "    .dataframe tbody tr th {\n",
       "        vertical-align: top;\n",
       "    }\n",
       "\n",
       "    .dataframe thead th {\n",
       "        text-align: right;\n",
       "    }\n",
       "</style>\n",
       "<table border=\"1\" class=\"dataframe\">\n",
       "  <thead>\n",
       "    <tr style=\"text-align: right;\">\n",
       "      <th></th>\n",
       "      <th>Brand</th>\n",
       "      <th>Price</th>\n",
       "      <th>Body</th>\n",
       "      <th>Mileage</th>\n",
       "      <th>EngineV</th>\n",
       "      <th>Engine Type</th>\n",
       "      <th>Registration</th>\n",
       "      <th>Year</th>\n",
       "      <th>Model</th>\n",
       "    </tr>\n",
       "  </thead>\n",
       "  <tbody>\n",
       "    <tr>\n",
       "      <th>2</th>\n",
       "      <td>Mercedes-Benz</td>\n",
       "      <td>13300.0</td>\n",
       "      <td>sedan</td>\n",
       "      <td>358</td>\n",
       "      <td>5.0</td>\n",
       "      <td>Gas</td>\n",
       "      <td>yes</td>\n",
       "      <td>2003</td>\n",
       "      <td>S 500</td>\n",
       "    </tr>\n",
       "    <tr>\n",
       "      <th>14</th>\n",
       "      <td>Toyota</td>\n",
       "      <td>16000.0</td>\n",
       "      <td>crossover</td>\n",
       "      <td>250</td>\n",
       "      <td>4.7</td>\n",
       "      <td>Gas</td>\n",
       "      <td>yes</td>\n",
       "      <td>2001</td>\n",
       "      <td>Land Cruiser 100</td>\n",
       "    </tr>\n",
       "    <tr>\n",
       "      <th>33</th>\n",
       "      <td>BMW</td>\n",
       "      <td>28500.0</td>\n",
       "      <td>crossover</td>\n",
       "      <td>160</td>\n",
       "      <td>4.8</td>\n",
       "      <td>Gas</td>\n",
       "      <td>yes</td>\n",
       "      <td>2008</td>\n",
       "      <td>X5</td>\n",
       "    </tr>\n",
       "    <tr>\n",
       "      <th>48</th>\n",
       "      <td>Mercedes-Benz</td>\n",
       "      <td>29500.0</td>\n",
       "      <td>sedan</td>\n",
       "      <td>134</td>\n",
       "      <td>5.0</td>\n",
       "      <td>Petrol</td>\n",
       "      <td>yes</td>\n",
       "      <td>2008</td>\n",
       "      <td>S 500</td>\n",
       "    </tr>\n",
       "    <tr>\n",
       "      <th>53</th>\n",
       "      <td>Mercedes-Benz</td>\n",
       "      <td>13500.0</td>\n",
       "      <td>sedan</td>\n",
       "      <td>317</td>\n",
       "      <td>5.0</td>\n",
       "      <td>Petrol</td>\n",
       "      <td>yes</td>\n",
       "      <td>2001</td>\n",
       "      <td>S 500</td>\n",
       "    </tr>\n",
       "    <tr>\n",
       "      <th>...</th>\n",
       "      <td>...</td>\n",
       "      <td>...</td>\n",
       "      <td>...</td>\n",
       "      <td>...</td>\n",
       "      <td>...</td>\n",
       "      <td>...</td>\n",
       "      <td>...</td>\n",
       "      <td>...</td>\n",
       "      <td>...</td>\n",
       "    </tr>\n",
       "    <tr>\n",
       "      <th>4257</th>\n",
       "      <td>Mercedes-Benz</td>\n",
       "      <td>23500.0</td>\n",
       "      <td>sedan</td>\n",
       "      <td>200</td>\n",
       "      <td>5.5</td>\n",
       "      <td>Petrol</td>\n",
       "      <td>yes</td>\n",
       "      <td>2008</td>\n",
       "      <td>S 550</td>\n",
       "    </tr>\n",
       "    <tr>\n",
       "      <th>4265</th>\n",
       "      <td>Mercedes-Benz</td>\n",
       "      <td>27500.0</td>\n",
       "      <td>crossover</td>\n",
       "      <td>152</td>\n",
       "      <td>6.3</td>\n",
       "      <td>Petrol</td>\n",
       "      <td>yes</td>\n",
       "      <td>2007</td>\n",
       "      <td>ML 63 AMG</td>\n",
       "    </tr>\n",
       "    <tr>\n",
       "      <th>4278</th>\n",
       "      <td>Mercedes-Benz</td>\n",
       "      <td>29500.0</td>\n",
       "      <td>crossover</td>\n",
       "      <td>253</td>\n",
       "      <td>5.0</td>\n",
       "      <td>Petrol</td>\n",
       "      <td>yes</td>\n",
       "      <td>2003</td>\n",
       "      <td>G 500</td>\n",
       "    </tr>\n",
       "    <tr>\n",
       "      <th>4297</th>\n",
       "      <td>Mercedes-Benz</td>\n",
       "      <td>24500.0</td>\n",
       "      <td>sedan</td>\n",
       "      <td>163</td>\n",
       "      <td>5.5</td>\n",
       "      <td>Gas</td>\n",
       "      <td>yes</td>\n",
       "      <td>2007</td>\n",
       "      <td>S 550</td>\n",
       "    </tr>\n",
       "    <tr>\n",
       "      <th>4303</th>\n",
       "      <td>Mercedes-Benz</td>\n",
       "      <td>12000.0</td>\n",
       "      <td>sedan</td>\n",
       "      <td>298</td>\n",
       "      <td>5.0</td>\n",
       "      <td>Petrol</td>\n",
       "      <td>yes</td>\n",
       "      <td>2004</td>\n",
       "      <td>S 500</td>\n",
       "    </tr>\n",
       "  </tbody>\n",
       "</table>\n",
       "<p>212 rows × 9 columns</p>\n",
       "</div>"
      ],
      "text/plain": [
       "              Brand    Price       Body  Mileage  EngineV Engine Type  \\\n",
       "2     Mercedes-Benz  13300.0      sedan      358      5.0         Gas   \n",
       "14           Toyota  16000.0  crossover      250      4.7         Gas   \n",
       "33              BMW  28500.0  crossover      160      4.8         Gas   \n",
       "48    Mercedes-Benz  29500.0      sedan      134      5.0      Petrol   \n",
       "53    Mercedes-Benz  13500.0      sedan      317      5.0      Petrol   \n",
       "...             ...      ...        ...      ...      ...         ...   \n",
       "4257  Mercedes-Benz  23500.0      sedan      200      5.5      Petrol   \n",
       "4265  Mercedes-Benz  27500.0  crossover      152      6.3      Petrol   \n",
       "4278  Mercedes-Benz  29500.0  crossover      253      5.0      Petrol   \n",
       "4297  Mercedes-Benz  24500.0      sedan      163      5.5         Gas   \n",
       "4303  Mercedes-Benz  12000.0      sedan      298      5.0      Petrol   \n",
       "\n",
       "     Registration  Year             Model  \n",
       "2             yes  2003             S 500  \n",
       "14            yes  2001  Land Cruiser 100  \n",
       "33            yes  2008                X5  \n",
       "48            yes  2008             S 500  \n",
       "53            yes  2001             S 500  \n",
       "...           ...   ...               ...  \n",
       "4257          yes  2008             S 550  \n",
       "4265          yes  2007         ML 63 AMG  \n",
       "4278          yes  2003             G 500  \n",
       "4297          yes  2007             S 550  \n",
       "4303          yes  2004             S 500  \n",
       "\n",
       "[212 rows x 9 columns]"
      ]
     },
     "execution_count": 56,
     "metadata": {},
     "output_type": "execute_result"
    }
   ],
   "source": [
    "data2[(data2.EngineV < lower_limitE) | (data2.EngineV > upper_limitE)]"
   ]
  },
  {
   "cell_type": "code",
   "execution_count": 57,
   "metadata": {},
   "outputs": [],
   "source": [
    "data3=data2[(data2.EngineV > lower_limitE) & (data2.EngineV < upper_limitE)]"
   ]
  },
  {
   "cell_type": "code",
   "execution_count": 58,
   "metadata": {},
   "outputs": [
    {
     "data": {
      "text/html": [
       "<div>\n",
       "<style scoped>\n",
       "    .dataframe tbody tr th:only-of-type {\n",
       "        vertical-align: middle;\n",
       "    }\n",
       "\n",
       "    .dataframe tbody tr th {\n",
       "        vertical-align: top;\n",
       "    }\n",
       "\n",
       "    .dataframe thead th {\n",
       "        text-align: right;\n",
       "    }\n",
       "</style>\n",
       "<table border=\"1\" class=\"dataframe\">\n",
       "  <thead>\n",
       "    <tr style=\"text-align: right;\">\n",
       "      <th></th>\n",
       "      <th>Brand</th>\n",
       "      <th>Price</th>\n",
       "      <th>Body</th>\n",
       "      <th>Mileage</th>\n",
       "      <th>EngineV</th>\n",
       "      <th>Engine Type</th>\n",
       "      <th>Registration</th>\n",
       "      <th>Year</th>\n",
       "      <th>Model</th>\n",
       "    </tr>\n",
       "  </thead>\n",
       "  <tbody>\n",
       "    <tr>\n",
       "      <th>0</th>\n",
       "      <td>BMW</td>\n",
       "      <td>4200.0</td>\n",
       "      <td>sedan</td>\n",
       "      <td>277</td>\n",
       "      <td>2.0</td>\n",
       "      <td>Petrol</td>\n",
       "      <td>yes</td>\n",
       "      <td>1991</td>\n",
       "      <td>320</td>\n",
       "    </tr>\n",
       "    <tr>\n",
       "      <th>1</th>\n",
       "      <td>Mercedes-Benz</td>\n",
       "      <td>7900.0</td>\n",
       "      <td>van</td>\n",
       "      <td>427</td>\n",
       "      <td>2.9</td>\n",
       "      <td>Diesel</td>\n",
       "      <td>yes</td>\n",
       "      <td>1999</td>\n",
       "      <td>Sprinter 212</td>\n",
       "    </tr>\n",
       "    <tr>\n",
       "      <th>3</th>\n",
       "      <td>Audi</td>\n",
       "      <td>23000.0</td>\n",
       "      <td>crossover</td>\n",
       "      <td>240</td>\n",
       "      <td>4.2</td>\n",
       "      <td>Petrol</td>\n",
       "      <td>yes</td>\n",
       "      <td>2007</td>\n",
       "      <td>Q7</td>\n",
       "    </tr>\n",
       "    <tr>\n",
       "      <th>4</th>\n",
       "      <td>Toyota</td>\n",
       "      <td>18300.0</td>\n",
       "      <td>crossover</td>\n",
       "      <td>120</td>\n",
       "      <td>2.0</td>\n",
       "      <td>Petrol</td>\n",
       "      <td>yes</td>\n",
       "      <td>2011</td>\n",
       "      <td>Rav 4</td>\n",
       "    </tr>\n",
       "    <tr>\n",
       "      <th>7</th>\n",
       "      <td>Audi</td>\n",
       "      <td>14200.0</td>\n",
       "      <td>vagon</td>\n",
       "      <td>200</td>\n",
       "      <td>2.7</td>\n",
       "      <td>Diesel</td>\n",
       "      <td>yes</td>\n",
       "      <td>2006</td>\n",
       "      <td>A6</td>\n",
       "    </tr>\n",
       "    <tr>\n",
       "      <th>...</th>\n",
       "      <td>...</td>\n",
       "      <td>...</td>\n",
       "      <td>...</td>\n",
       "      <td>...</td>\n",
       "      <td>...</td>\n",
       "      <td>...</td>\n",
       "      <td>...</td>\n",
       "      <td>...</td>\n",
       "      <td>...</td>\n",
       "    </tr>\n",
       "    <tr>\n",
       "      <th>4338</th>\n",
       "      <td>Volkswagen</td>\n",
       "      <td>11500.0</td>\n",
       "      <td>van</td>\n",
       "      <td>163</td>\n",
       "      <td>2.5</td>\n",
       "      <td>Diesel</td>\n",
       "      <td>yes</td>\n",
       "      <td>2008</td>\n",
       "      <td>T5 (Transporter)</td>\n",
       "    </tr>\n",
       "    <tr>\n",
       "      <th>4339</th>\n",
       "      <td>Toyota</td>\n",
       "      <td>17900.0</td>\n",
       "      <td>sedan</td>\n",
       "      <td>35</td>\n",
       "      <td>1.6</td>\n",
       "      <td>Petrol</td>\n",
       "      <td>yes</td>\n",
       "      <td>2014</td>\n",
       "      <td>Corolla</td>\n",
       "    </tr>\n",
       "    <tr>\n",
       "      <th>4341</th>\n",
       "      <td>BMW</td>\n",
       "      <td>6500.0</td>\n",
       "      <td>sedan</td>\n",
       "      <td>1</td>\n",
       "      <td>3.5</td>\n",
       "      <td>Petrol</td>\n",
       "      <td>yes</td>\n",
       "      <td>1999</td>\n",
       "      <td>535</td>\n",
       "    </tr>\n",
       "    <tr>\n",
       "      <th>4342</th>\n",
       "      <td>BMW</td>\n",
       "      <td>8000.0</td>\n",
       "      <td>sedan</td>\n",
       "      <td>194</td>\n",
       "      <td>2.0</td>\n",
       "      <td>Petrol</td>\n",
       "      <td>yes</td>\n",
       "      <td>1985</td>\n",
       "      <td>520</td>\n",
       "    </tr>\n",
       "    <tr>\n",
       "      <th>4344</th>\n",
       "      <td>Volkswagen</td>\n",
       "      <td>13500.0</td>\n",
       "      <td>van</td>\n",
       "      <td>124</td>\n",
       "      <td>2.0</td>\n",
       "      <td>Diesel</td>\n",
       "      <td>yes</td>\n",
       "      <td>2013</td>\n",
       "      <td>T5 (Transporter)</td>\n",
       "    </tr>\n",
       "  </tbody>\n",
       "</table>\n",
       "<p>3418 rows × 9 columns</p>\n",
       "</div>"
      ],
      "text/plain": [
       "              Brand    Price       Body  Mileage  EngineV Engine Type  \\\n",
       "0               BMW   4200.0      sedan      277      2.0      Petrol   \n",
       "1     Mercedes-Benz   7900.0        van      427      2.9      Diesel   \n",
       "3              Audi  23000.0  crossover      240      4.2      Petrol   \n",
       "4            Toyota  18300.0  crossover      120      2.0      Petrol   \n",
       "7              Audi  14200.0      vagon      200      2.7      Diesel   \n",
       "...             ...      ...        ...      ...      ...         ...   \n",
       "4338     Volkswagen  11500.0        van      163      2.5      Diesel   \n",
       "4339         Toyota  17900.0      sedan       35      1.6      Petrol   \n",
       "4341            BMW   6500.0      sedan        1      3.5      Petrol   \n",
       "4342            BMW   8000.0      sedan      194      2.0      Petrol   \n",
       "4344     Volkswagen  13500.0        van      124      2.0      Diesel   \n",
       "\n",
       "     Registration  Year              Model  \n",
       "0             yes  1991                320  \n",
       "1             yes  1999       Sprinter 212  \n",
       "3             yes  2007                 Q7  \n",
       "4             yes  2011              Rav 4  \n",
       "7             yes  2006                 A6  \n",
       "...           ...   ...                ...  \n",
       "4338          yes  2008   T5 (Transporter)  \n",
       "4339          yes  2014            Corolla  \n",
       "4341          yes  1999                535  \n",
       "4342          yes  1985                520  \n",
       "4344          yes  2013  T5 (Transporter)   \n",
       "\n",
       "[3418 rows x 9 columns]"
      ]
     },
     "execution_count": 58,
     "metadata": {},
     "output_type": "execute_result"
    }
   ],
   "source": [
    "data3"
   ]
  },
  {
   "cell_type": "code",
   "execution_count": 59,
   "metadata": {},
   "outputs": [
    {
     "data": {
      "text/plain": [
       "Brand           0\n",
       "Price           0\n",
       "Body            0\n",
       "Mileage         0\n",
       "EngineV         0\n",
       "Engine Type     0\n",
       "Registration    0\n",
       "Year            0\n",
       "Model           0\n",
       "dtype: int64"
      ]
     },
     "execution_count": 59,
     "metadata": {},
     "output_type": "execute_result"
    }
   ],
   "source": [
    "data3.isnull().sum()"
   ]
  },
  {
   "cell_type": "code",
   "execution_count": null,
   "metadata": {},
   "outputs": [],
   "source": []
  },
  {
   "cell_type": "code",
   "execution_count": 60,
   "metadata": {},
   "outputs": [],
   "source": [
    "from scipy.stats import kurtosis"
   ]
  },
  {
   "cell_type": "markdown",
   "metadata": {},
   "source": [
    "#### 10B. Ckeck the distribution plot after deleting the outliers and say something about it."
   ]
  },
  {
   "cell_type": "code",
   "execution_count": 61,
   "metadata": {},
   "outputs": [
    {
     "data": {
      "text/plain": [
       "<AxesSubplot:xlabel='EngineV', ylabel='Density'>"
      ]
     },
     "execution_count": 61,
     "metadata": {},
     "output_type": "execute_result"
    },
    {
     "data": {
      "image/png": "[encoded data removed]",
      "text/plain": [
       "<Figure size 432x288 with 1 Axes>"
      ]
     },
     "metadata": {},
     "output_type": "display_data"
    }
   ],
   "source": [
    "# CODE HERE\n",
    "sns.distplot(data3.EngineV,bins=20)"
   ]
  },
  {
   "cell_type": "markdown",
   "metadata": {},
   "source": [
    " ** Around 709 are  2.0 engines and 549 3.0 engines **"
   ]
  },
  {
   "cell_type": "code",
   "execution_count": 62,
   "metadata": {},
   "outputs": [
    {
     "data": {
      "text/plain": [
       "2.00    689\n",
       "3.00    491\n",
       "2.50    339\n",
       "1.60    312\n",
       "2.20    277\n",
       "       ... \n",
       "2.17      1\n",
       "1.79      1\n",
       "1.46      1\n",
       "4.67      1\n",
       "0.65      1\n",
       "Name: EngineV, Length: 72, dtype: int64"
      ]
     },
     "execution_count": 62,
     "metadata": {},
     "output_type": "execute_result"
    }
   ],
   "source": [
    "# CODE HERE\n",
    "data.EngineV.value_counts()"
   ]
  },
  {
   "cell_type": "markdown",
   "metadata": {},
   "source": [
    "#### 10C. Perform Lable & One-Hot Encoding For the Categorical Variable"
   ]
  },
  {
   "cell_type": "code",
   "execution_count": 63,
   "metadata": {},
   "outputs": [
    {
     "data": {
      "text/plain": [
       "Index(['Brand', 'Body', 'Engine Type', 'Registration', 'Model'], dtype='object')"
      ]
     },
     "execution_count": 63,
     "metadata": {},
     "output_type": "execute_result"
    }
   ],
   "source": [
    "# CODE HERE\n",
    "data3.select_dtypes(include=[\"object\"]).columns"
   ]
  },
  {
   "cell_type": "code",
   "execution_count": 64,
   "metadata": {},
   "outputs": [
    {
     "data": {
      "text/html": [
       "<div>\n",
       "<style scoped>\n",
       "    .dataframe tbody tr th:only-of-type {\n",
       "        vertical-align: middle;\n",
       "    }\n",
       "\n",
       "    .dataframe tbody tr th {\n",
       "        vertical-align: top;\n",
       "    }\n",
       "\n",
       "    .dataframe thead th {\n",
       "        text-align: right;\n",
       "    }\n",
       "</style>\n",
       "<table border=\"1\" class=\"dataframe\">\n",
       "  <thead>\n",
       "    <tr style=\"text-align: right;\">\n",
       "      <th></th>\n",
       "      <th>Brand</th>\n",
       "      <th>Price</th>\n",
       "      <th>Body</th>\n",
       "      <th>Mileage</th>\n",
       "      <th>EngineV</th>\n",
       "      <th>Engine Type</th>\n",
       "      <th>Registration</th>\n",
       "      <th>Year</th>\n",
       "      <th>Model</th>\n",
       "    </tr>\n",
       "  </thead>\n",
       "  <tbody>\n",
       "    <tr>\n",
       "      <th>0</th>\n",
       "      <td>BMW</td>\n",
       "      <td>4200.0</td>\n",
       "      <td>sedan</td>\n",
       "      <td>277</td>\n",
       "      <td>2.0</td>\n",
       "      <td>Petrol</td>\n",
       "      <td>yes</td>\n",
       "      <td>1991</td>\n",
       "      <td>320</td>\n",
       "    </tr>\n",
       "    <tr>\n",
       "      <th>1</th>\n",
       "      <td>Mercedes-Benz</td>\n",
       "      <td>7900.0</td>\n",
       "      <td>van</td>\n",
       "      <td>427</td>\n",
       "      <td>2.9</td>\n",
       "      <td>Diesel</td>\n",
       "      <td>yes</td>\n",
       "      <td>1999</td>\n",
       "      <td>Sprinter 212</td>\n",
       "    </tr>\n",
       "    <tr>\n",
       "      <th>3</th>\n",
       "      <td>Audi</td>\n",
       "      <td>23000.0</td>\n",
       "      <td>crossover</td>\n",
       "      <td>240</td>\n",
       "      <td>4.2</td>\n",
       "      <td>Petrol</td>\n",
       "      <td>yes</td>\n",
       "      <td>2007</td>\n",
       "      <td>Q7</td>\n",
       "    </tr>\n",
       "    <tr>\n",
       "      <th>4</th>\n",
       "      <td>Toyota</td>\n",
       "      <td>18300.0</td>\n",
       "      <td>crossover</td>\n",
       "      <td>120</td>\n",
       "      <td>2.0</td>\n",
       "      <td>Petrol</td>\n",
       "      <td>yes</td>\n",
       "      <td>2011</td>\n",
       "      <td>Rav 4</td>\n",
       "    </tr>\n",
       "    <tr>\n",
       "      <th>7</th>\n",
       "      <td>Audi</td>\n",
       "      <td>14200.0</td>\n",
       "      <td>vagon</td>\n",
       "      <td>200</td>\n",
       "      <td>2.7</td>\n",
       "      <td>Diesel</td>\n",
       "      <td>yes</td>\n",
       "      <td>2006</td>\n",
       "      <td>A6</td>\n",
       "    </tr>\n",
       "    <tr>\n",
       "      <th>...</th>\n",
       "      <td>...</td>\n",
       "      <td>...</td>\n",
       "      <td>...</td>\n",
       "      <td>...</td>\n",
       "      <td>...</td>\n",
       "      <td>...</td>\n",
       "      <td>...</td>\n",
       "      <td>...</td>\n",
       "      <td>...</td>\n",
       "    </tr>\n",
       "    <tr>\n",
       "      <th>4338</th>\n",
       "      <td>Volkswagen</td>\n",
       "      <td>11500.0</td>\n",
       "      <td>van</td>\n",
       "      <td>163</td>\n",
       "      <td>2.5</td>\n",
       "      <td>Diesel</td>\n",
       "      <td>yes</td>\n",
       "      <td>2008</td>\n",
       "      <td>T5 (Transporter)</td>\n",
       "    </tr>\n",
       "    <tr>\n",
       "      <th>4339</th>\n",
       "      <td>Toyota</td>\n",
       "      <td>17900.0</td>\n",
       "      <td>sedan</td>\n",
       "      <td>35</td>\n",
       "      <td>1.6</td>\n",
       "      <td>Petrol</td>\n",
       "      <td>yes</td>\n",
       "      <td>2014</td>\n",
       "      <td>Corolla</td>\n",
       "    </tr>\n",
       "    <tr>\n",
       "      <th>4341</th>\n",
       "      <td>BMW</td>\n",
       "      <td>6500.0</td>\n",
       "      <td>sedan</td>\n",
       "      <td>1</td>\n",
       "      <td>3.5</td>\n",
       "      <td>Petrol</td>\n",
       "      <td>yes</td>\n",
       "      <td>1999</td>\n",
       "      <td>535</td>\n",
       "    </tr>\n",
       "    <tr>\n",
       "      <th>4342</th>\n",
       "      <td>BMW</td>\n",
       "      <td>8000.0</td>\n",
       "      <td>sedan</td>\n",
       "      <td>194</td>\n",
       "      <td>2.0</td>\n",
       "      <td>Petrol</td>\n",
       "      <td>yes</td>\n",
       "      <td>1985</td>\n",
       "      <td>520</td>\n",
       "    </tr>\n",
       "    <tr>\n",
       "      <th>4344</th>\n",
       "      <td>Volkswagen</td>\n",
       "      <td>13500.0</td>\n",
       "      <td>van</td>\n",
       "      <td>124</td>\n",
       "      <td>2.0</td>\n",
       "      <td>Diesel</td>\n",
       "      <td>yes</td>\n",
       "      <td>2013</td>\n",
       "      <td>T5 (Transporter)</td>\n",
       "    </tr>\n",
       "  </tbody>\n",
       "</table>\n",
       "<p>3418 rows × 9 columns</p>\n",
       "</div>"
      ],
      "text/plain": [
       "              Brand    Price       Body  Mileage  EngineV Engine Type  \\\n",
       "0               BMW   4200.0      sedan      277      2.0      Petrol   \n",
       "1     Mercedes-Benz   7900.0        van      427      2.9      Diesel   \n",
       "3              Audi  23000.0  crossover      240      4.2      Petrol   \n",
       "4            Toyota  18300.0  crossover      120      2.0      Petrol   \n",
       "7              Audi  14200.0      vagon      200      2.7      Diesel   \n",
       "...             ...      ...        ...      ...      ...         ...   \n",
       "4338     Volkswagen  11500.0        van      163      2.5      Diesel   \n",
       "4339         Toyota  17900.0      sedan       35      1.6      Petrol   \n",
       "4341            BMW   6500.0      sedan        1      3.5      Petrol   \n",
       "4342            BMW   8000.0      sedan      194      2.0      Petrol   \n",
       "4344     Volkswagen  13500.0        van      124      2.0      Diesel   \n",
       "\n",
       "     Registration  Year              Model  \n",
       "0             yes  1991                320  \n",
       "1             yes  1999       Sprinter 212  \n",
       "3             yes  2007                 Q7  \n",
       "4             yes  2011              Rav 4  \n",
       "7             yes  2006                 A6  \n",
       "...           ...   ...                ...  \n",
       "4338          yes  2008   T5 (Transporter)  \n",
       "4339          yes  2014            Corolla  \n",
       "4341          yes  1999                535  \n",
       "4342          yes  1985                520  \n",
       "4344          yes  2013  T5 (Transporter)   \n",
       "\n",
       "[3418 rows x 9 columns]"
      ]
     },
     "execution_count": 64,
     "metadata": {},
     "output_type": "execute_result"
    }
   ],
   "source": [
    "data3"
   ]
  },
  {
   "cell_type": "code",
   "execution_count": 65,
   "metadata": {},
   "outputs": [
    {
     "data": {
      "text/plain": [
       "Diesel    1590\n",
       "Petrol    1209\n",
       "Gas        529\n",
       "Other       90\n",
       "Name: Engine Type, dtype: int64"
      ]
     },
     "execution_count": 65,
     "metadata": {},
     "output_type": "execute_result"
    }
   ],
   "source": [
    "data3[\"Engine Type\"].value_counts()"
   ]
  },
  {
   "cell_type": "code",
   "execution_count": 66,
   "metadata": {},
   "outputs": [
    {
     "data": {
      "text/plain": [
       "sedan        1342\n",
       "van           586\n",
       "crossover     532\n",
       "vagon         372\n",
       "other         325\n",
       "hatch         261\n",
       "Name: Body, dtype: int64"
      ]
     },
     "execution_count": 66,
     "metadata": {},
     "output_type": "execute_result"
    }
   ],
   "source": [
    "data3[\"Body\"].value_counts()"
   ]
  },
  {
   "cell_type": "code",
   "execution_count": 67,
   "metadata": {},
   "outputs": [
    {
     "data": {
      "text/plain": [
       "yes    3062\n",
       "no      356\n",
       "Name: Registration, dtype: int64"
      ]
     },
     "execution_count": 67,
     "metadata": {},
     "output_type": "execute_result"
    }
   ],
   "source": [
    "data3[\"Registration\"].value_counts()"
   ]
  },
  {
   "cell_type": "code",
   "execution_count": 68,
   "metadata": {},
   "outputs": [
    {
     "data": {
      "text/plain": [
       "Brand           0\n",
       "Price           0\n",
       "Body            0\n",
       "Mileage         0\n",
       "EngineV         0\n",
       "Engine Type     0\n",
       "Registration    0\n",
       "Year            0\n",
       "Model           0\n",
       "dtype: int64"
      ]
     },
     "execution_count": 68,
     "metadata": {},
     "output_type": "execute_result"
    }
   ],
   "source": [
    "data3.isnull().sum()"
   ]
  },
  {
   "cell_type": "code",
   "execution_count": 69,
   "metadata": {},
   "outputs": [],
   "source": [
    "reg=pd.get_dummies(data3[\"Engine Type\"],prefix=\"Engine Type\")\n",
    "data3=pd.concat([data3,reg],1)"
   ]
  },
  {
   "cell_type": "code",
   "execution_count": 70,
   "metadata": {},
   "outputs": [
    {
     "data": {
      "text/html": [
       "<div>\n",
       "<style scoped>\n",
       "    .dataframe tbody tr th:only-of-type {\n",
       "        vertical-align: middle;\n",
       "    }\n",
       "\n",
       "    .dataframe tbody tr th {\n",
       "        vertical-align: top;\n",
       "    }\n",
       "\n",
       "    .dataframe thead th {\n",
       "        text-align: right;\n",
       "    }\n",
       "</style>\n",
       "<table border=\"1\" class=\"dataframe\">\n",
       "  <thead>\n",
       "    <tr style=\"text-align: right;\">\n",
       "      <th></th>\n",
       "      <th>Brand</th>\n",
       "      <th>Price</th>\n",
       "      <th>Body</th>\n",
       "      <th>Mileage</th>\n",
       "      <th>EngineV</th>\n",
       "      <th>Engine Type</th>\n",
       "      <th>Registration</th>\n",
       "      <th>Year</th>\n",
       "      <th>Model</th>\n",
       "      <th>Engine Type_Diesel</th>\n",
       "      <th>Engine Type_Gas</th>\n",
       "      <th>Engine Type_Other</th>\n",
       "      <th>Engine Type_Petrol</th>\n",
       "    </tr>\n",
       "  </thead>\n",
       "  <tbody>\n",
       "    <tr>\n",
       "      <th>0</th>\n",
       "      <td>BMW</td>\n",
       "      <td>4200.0</td>\n",
       "      <td>sedan</td>\n",
       "      <td>277</td>\n",
       "      <td>2.0</td>\n",
       "      <td>Petrol</td>\n",
       "      <td>yes</td>\n",
       "      <td>1991</td>\n",
       "      <td>320</td>\n",
       "      <td>0</td>\n",
       "      <td>0</td>\n",
       "      <td>0</td>\n",
       "      <td>1</td>\n",
       "    </tr>\n",
       "    <tr>\n",
       "      <th>1</th>\n",
       "      <td>Mercedes-Benz</td>\n",
       "      <td>7900.0</td>\n",
       "      <td>van</td>\n",
       "      <td>427</td>\n",
       "      <td>2.9</td>\n",
       "      <td>Diesel</td>\n",
       "      <td>yes</td>\n",
       "      <td>1999</td>\n",
       "      <td>Sprinter 212</td>\n",
       "      <td>1</td>\n",
       "      <td>0</td>\n",
       "      <td>0</td>\n",
       "      <td>0</td>\n",
       "    </tr>\n",
       "    <tr>\n",
       "      <th>3</th>\n",
       "      <td>Audi</td>\n",
       "      <td>23000.0</td>\n",
       "      <td>crossover</td>\n",
       "      <td>240</td>\n",
       "      <td>4.2</td>\n",
       "      <td>Petrol</td>\n",
       "      <td>yes</td>\n",
       "      <td>2007</td>\n",
       "      <td>Q7</td>\n",
       "      <td>0</td>\n",
       "      <td>0</td>\n",
       "      <td>0</td>\n",
       "      <td>1</td>\n",
       "    </tr>\n",
       "    <tr>\n",
       "      <th>4</th>\n",
       "      <td>Toyota</td>\n",
       "      <td>18300.0</td>\n",
       "      <td>crossover</td>\n",
       "      <td>120</td>\n",
       "      <td>2.0</td>\n",
       "      <td>Petrol</td>\n",
       "      <td>yes</td>\n",
       "      <td>2011</td>\n",
       "      <td>Rav 4</td>\n",
       "      <td>0</td>\n",
       "      <td>0</td>\n",
       "      <td>0</td>\n",
       "      <td>1</td>\n",
       "    </tr>\n",
       "    <tr>\n",
       "      <th>7</th>\n",
       "      <td>Audi</td>\n",
       "      <td>14200.0</td>\n",
       "      <td>vagon</td>\n",
       "      <td>200</td>\n",
       "      <td>2.7</td>\n",
       "      <td>Diesel</td>\n",
       "      <td>yes</td>\n",
       "      <td>2006</td>\n",
       "      <td>A6</td>\n",
       "      <td>1</td>\n",
       "      <td>0</td>\n",
       "      <td>0</td>\n",
       "      <td>0</td>\n",
       "    </tr>\n",
       "  </tbody>\n",
       "</table>\n",
       "</div>"
      ],
      "text/plain": [
       "           Brand    Price       Body  Mileage  EngineV Engine Type  \\\n",
       "0            BMW   4200.0      sedan      277      2.0      Petrol   \n",
       "1  Mercedes-Benz   7900.0        van      427      2.9      Diesel   \n",
       "3           Audi  23000.0  crossover      240      4.2      Petrol   \n",
       "4         Toyota  18300.0  crossover      120      2.0      Petrol   \n",
       "7           Audi  14200.0      vagon      200      2.7      Diesel   \n",
       "\n",
       "  Registration  Year         Model  Engine Type_Diesel  Engine Type_Gas  \\\n",
       "0          yes  1991           320                   0                0   \n",
       "1          yes  1999  Sprinter 212                   1                0   \n",
       "3          yes  2007            Q7                   0                0   \n",
       "4          yes  2011         Rav 4                   0                0   \n",
       "7          yes  2006            A6                   1                0   \n",
       "\n",
       "   Engine Type_Other  Engine Type_Petrol  \n",
       "0                  0                   1  \n",
       "1                  0                   0  \n",
       "3                  0                   1  \n",
       "4                  0                   1  \n",
       "7                  0                   0  "
      ]
     },
     "execution_count": 70,
     "metadata": {},
     "output_type": "execute_result"
    }
   ],
   "source": [
    "data3.head()"
   ]
  },
  {
   "cell_type": "code",
   "execution_count": 71,
   "metadata": {},
   "outputs": [
    {
     "data": {
      "text/html": [
       "<div>\n",
       "<style scoped>\n",
       "    .dataframe tbody tr th:only-of-type {\n",
       "        vertical-align: middle;\n",
       "    }\n",
       "\n",
       "    .dataframe tbody tr th {\n",
       "        vertical-align: top;\n",
       "    }\n",
       "\n",
       "    .dataframe thead th {\n",
       "        text-align: right;\n",
       "    }\n",
       "</style>\n",
       "<table border=\"1\" class=\"dataframe\">\n",
       "  <thead>\n",
       "    <tr style=\"text-align: right;\">\n",
       "      <th></th>\n",
       "      <th>Brand</th>\n",
       "      <th>Price</th>\n",
       "      <th>Body</th>\n",
       "      <th>Mileage</th>\n",
       "      <th>EngineV</th>\n",
       "      <th>Engine Type</th>\n",
       "      <th>Registration</th>\n",
       "      <th>Year</th>\n",
       "      <th>Model</th>\n",
       "      <th>Engine Type_Diesel</th>\n",
       "      <th>Engine Type_Gas</th>\n",
       "      <th>Engine Type_Other</th>\n",
       "      <th>Engine Type_Petrol</th>\n",
       "      <th>Age of Vehcle</th>\n",
       "    </tr>\n",
       "  </thead>\n",
       "  <tbody>\n",
       "    <tr>\n",
       "      <th>0</th>\n",
       "      <td>BMW</td>\n",
       "      <td>4200.0</td>\n",
       "      <td>sedan</td>\n",
       "      <td>277</td>\n",
       "      <td>2.0</td>\n",
       "      <td>Petrol</td>\n",
       "      <td>1</td>\n",
       "      <td>1991</td>\n",
       "      <td>320</td>\n",
       "      <td>0</td>\n",
       "      <td>0</td>\n",
       "      <td>0</td>\n",
       "      <td>1</td>\n",
       "      <td>30</td>\n",
       "    </tr>\n",
       "    <tr>\n",
       "      <th>1</th>\n",
       "      <td>Mercedes-Benz</td>\n",
       "      <td>7900.0</td>\n",
       "      <td>van</td>\n",
       "      <td>427</td>\n",
       "      <td>2.9</td>\n",
       "      <td>Diesel</td>\n",
       "      <td>1</td>\n",
       "      <td>1999</td>\n",
       "      <td>Sprinter 212</td>\n",
       "      <td>1</td>\n",
       "      <td>0</td>\n",
       "      <td>0</td>\n",
       "      <td>0</td>\n",
       "      <td>22</td>\n",
       "    </tr>\n",
       "    <tr>\n",
       "      <th>3</th>\n",
       "      <td>Audi</td>\n",
       "      <td>23000.0</td>\n",
       "      <td>crossover</td>\n",
       "      <td>240</td>\n",
       "      <td>4.2</td>\n",
       "      <td>Petrol</td>\n",
       "      <td>1</td>\n",
       "      <td>2007</td>\n",
       "      <td>Q7</td>\n",
       "      <td>0</td>\n",
       "      <td>0</td>\n",
       "      <td>0</td>\n",
       "      <td>1</td>\n",
       "      <td>14</td>\n",
       "    </tr>\n",
       "    <tr>\n",
       "      <th>4</th>\n",
       "      <td>Toyota</td>\n",
       "      <td>18300.0</td>\n",
       "      <td>crossover</td>\n",
       "      <td>120</td>\n",
       "      <td>2.0</td>\n",
       "      <td>Petrol</td>\n",
       "      <td>1</td>\n",
       "      <td>2011</td>\n",
       "      <td>Rav 4</td>\n",
       "      <td>0</td>\n",
       "      <td>0</td>\n",
       "      <td>0</td>\n",
       "      <td>1</td>\n",
       "      <td>10</td>\n",
       "    </tr>\n",
       "    <tr>\n",
       "      <th>7</th>\n",
       "      <td>Audi</td>\n",
       "      <td>14200.0</td>\n",
       "      <td>vagon</td>\n",
       "      <td>200</td>\n",
       "      <td>2.7</td>\n",
       "      <td>Diesel</td>\n",
       "      <td>1</td>\n",
       "      <td>2006</td>\n",
       "      <td>A6</td>\n",
       "      <td>1</td>\n",
       "      <td>0</td>\n",
       "      <td>0</td>\n",
       "      <td>0</td>\n",
       "      <td>15</td>\n",
       "    </tr>\n",
       "  </tbody>\n",
       "</table>\n",
       "</div>"
      ],
      "text/plain": [
       "           Brand    Price       Body  Mileage  EngineV Engine Type  \\\n",
       "0            BMW   4200.0      sedan      277      2.0      Petrol   \n",
       "1  Mercedes-Benz   7900.0        van      427      2.9      Diesel   \n",
       "3           Audi  23000.0  crossover      240      4.2      Petrol   \n",
       "4         Toyota  18300.0  crossover      120      2.0      Petrol   \n",
       "7           Audi  14200.0      vagon      200      2.7      Diesel   \n",
       "\n",
       "   Registration  Year         Model  Engine Type_Diesel  Engine Type_Gas  \\\n",
       "0             1  1991           320                   0                0   \n",
       "1             1  1999  Sprinter 212                   1                0   \n",
       "3             1  2007            Q7                   0                0   \n",
       "4             1  2011         Rav 4                   0                0   \n",
       "7             1  2006            A6                   1                0   \n",
       "\n",
       "   Engine Type_Other  Engine Type_Petrol  Age of Vehcle  \n",
       "0                  0                   1             30  \n",
       "1                  0                   0             22  \n",
       "3                  0                   1             14  \n",
       "4                  0                   1             10  \n",
       "7                  0                   0             15  "
      ]
     },
     "execution_count": 71,
     "metadata": {},
     "output_type": "execute_result"
    }
   ],
   "source": [
    "data3[\"Age of Vehcle\"]=data3.Year.apply(lambda x:2021-x)\n",
    "data3.head()\n",
    "data3[\"Registration\"]=data3.Registration.apply(lambda x:1 if x==\"yes\" else 0)\n",
    "data3.head()"
   ]
  },
  {
   "cell_type": "code",
   "execution_count": null,
   "metadata": {},
   "outputs": [],
   "source": []
  },
  {
   "cell_type": "code",
   "execution_count": null,
   "metadata": {},
   "outputs": [],
   "source": []
  },
  {
   "cell_type": "code",
   "execution_count": 72,
   "metadata": {},
   "outputs": [],
   "source": [
    "body=pd.get_dummies(data3[\"Brand\"],prefix=\"Brand\")\n",
    "car_df=pd.concat([data3,body],1)"
   ]
  },
  {
   "cell_type": "code",
   "execution_count": 73,
   "metadata": {},
   "outputs": [],
   "source": [
    "le=LabelEncoder()\n",
    "car_df[\"Model\"]=le.fit_transform(car_df[\"Model\"])"
   ]
  },
  {
   "cell_type": "code",
   "execution_count": 74,
   "metadata": {},
   "outputs": [
    {
     "data": {
      "text/html": [
       "<div>\n",
       "<style scoped>\n",
       "    .dataframe tbody tr th:only-of-type {\n",
       "        vertical-align: middle;\n",
       "    }\n",
       "\n",
       "    .dataframe tbody tr th {\n",
       "        vertical-align: top;\n",
       "    }\n",
       "\n",
       "    .dataframe thead th {\n",
       "        text-align: right;\n",
       "    }\n",
       "</style>\n",
       "<table border=\"1\" class=\"dataframe\">\n",
       "  <thead>\n",
       "    <tr style=\"text-align: right;\">\n",
       "      <th></th>\n",
       "      <th>Brand</th>\n",
       "      <th>Price</th>\n",
       "      <th>Body</th>\n",
       "      <th>Mileage</th>\n",
       "      <th>EngineV</th>\n",
       "      <th>Engine Type</th>\n",
       "      <th>Registration</th>\n",
       "      <th>Year</th>\n",
       "      <th>Model</th>\n",
       "      <th>Engine Type_Diesel</th>\n",
       "      <th>...</th>\n",
       "      <th>Engine Type_Other</th>\n",
       "      <th>Engine Type_Petrol</th>\n",
       "      <th>Age of Vehcle</th>\n",
       "      <th>Brand_Audi</th>\n",
       "      <th>Brand_BMW</th>\n",
       "      <th>Brand_Mercedes-Benz</th>\n",
       "      <th>Brand_Mitsubishi</th>\n",
       "      <th>Brand_Renault</th>\n",
       "      <th>Brand_Toyota</th>\n",
       "      <th>Brand_Volkswagen</th>\n",
       "    </tr>\n",
       "  </thead>\n",
       "  <tbody>\n",
       "    <tr>\n",
       "      <th>0</th>\n",
       "      <td>BMW</td>\n",
       "      <td>4200.0</td>\n",
       "      <td>sedan</td>\n",
       "      <td>277</td>\n",
       "      <td>2.0</td>\n",
       "      <td>Petrol</td>\n",
       "      <td>1</td>\n",
       "      <td>1991</td>\n",
       "      <td>18</td>\n",
       "      <td>0</td>\n",
       "      <td>...</td>\n",
       "      <td>0</td>\n",
       "      <td>1</td>\n",
       "      <td>30</td>\n",
       "      <td>0</td>\n",
       "      <td>1</td>\n",
       "      <td>0</td>\n",
       "      <td>0</td>\n",
       "      <td>0</td>\n",
       "      <td>0</td>\n",
       "      <td>0</td>\n",
       "    </tr>\n",
       "    <tr>\n",
       "      <th>1</th>\n",
       "      <td>Mercedes-Benz</td>\n",
       "      <td>7900.0</td>\n",
       "      <td>van</td>\n",
       "      <td>427</td>\n",
       "      <td>2.9</td>\n",
       "      <td>Diesel</td>\n",
       "      <td>1</td>\n",
       "      <td>1999</td>\n",
       "      <td>206</td>\n",
       "      <td>1</td>\n",
       "      <td>...</td>\n",
       "      <td>0</td>\n",
       "      <td>0</td>\n",
       "      <td>22</td>\n",
       "      <td>0</td>\n",
       "      <td>0</td>\n",
       "      <td>1</td>\n",
       "      <td>0</td>\n",
       "      <td>0</td>\n",
       "      <td>0</td>\n",
       "      <td>0</td>\n",
       "    </tr>\n",
       "    <tr>\n",
       "      <th>3</th>\n",
       "      <td>Audi</td>\n",
       "      <td>23000.0</td>\n",
       "      <td>crossover</td>\n",
       "      <td>240</td>\n",
       "      <td>4.2</td>\n",
       "      <td>Petrol</td>\n",
       "      <td>1</td>\n",
       "      <td>2007</td>\n",
       "      <td>179</td>\n",
       "      <td>0</td>\n",
       "      <td>...</td>\n",
       "      <td>0</td>\n",
       "      <td>1</td>\n",
       "      <td>14</td>\n",
       "      <td>1</td>\n",
       "      <td>0</td>\n",
       "      <td>0</td>\n",
       "      <td>0</td>\n",
       "      <td>0</td>\n",
       "      <td>0</td>\n",
       "      <td>0</td>\n",
       "    </tr>\n",
       "    <tr>\n",
       "      <th>4</th>\n",
       "      <td>Toyota</td>\n",
       "      <td>18300.0</td>\n",
       "      <td>crossover</td>\n",
       "      <td>120</td>\n",
       "      <td>2.0</td>\n",
       "      <td>Petrol</td>\n",
       "      <td>1</td>\n",
       "      <td>2011</td>\n",
       "      <td>181</td>\n",
       "      <td>0</td>\n",
       "      <td>...</td>\n",
       "      <td>0</td>\n",
       "      <td>1</td>\n",
       "      <td>10</td>\n",
       "      <td>0</td>\n",
       "      <td>0</td>\n",
       "      <td>0</td>\n",
       "      <td>0</td>\n",
       "      <td>0</td>\n",
       "      <td>1</td>\n",
       "      <td>0</td>\n",
       "    </tr>\n",
       "    <tr>\n",
       "      <th>7</th>\n",
       "      <td>Audi</td>\n",
       "      <td>14200.0</td>\n",
       "      <td>vagon</td>\n",
       "      <td>200</td>\n",
       "      <td>2.7</td>\n",
       "      <td>Diesel</td>\n",
       "      <td>1</td>\n",
       "      <td>2006</td>\n",
       "      <td>53</td>\n",
       "      <td>1</td>\n",
       "      <td>...</td>\n",
       "      <td>0</td>\n",
       "      <td>0</td>\n",
       "      <td>15</td>\n",
       "      <td>1</td>\n",
       "      <td>0</td>\n",
       "      <td>0</td>\n",
       "      <td>0</td>\n",
       "      <td>0</td>\n",
       "      <td>0</td>\n",
       "      <td>0</td>\n",
       "    </tr>\n",
       "  </tbody>\n",
       "</table>\n",
       "<p>5 rows × 21 columns</p>\n",
       "</div>"
      ],
      "text/plain": [
       "           Brand    Price       Body  Mileage  EngineV Engine Type  \\\n",
       "0            BMW   4200.0      sedan      277      2.0      Petrol   \n",
       "1  Mercedes-Benz   7900.0        van      427      2.9      Diesel   \n",
       "3           Audi  23000.0  crossover      240      4.2      Petrol   \n",
       "4         Toyota  18300.0  crossover      120      2.0      Petrol   \n",
       "7           Audi  14200.0      vagon      200      2.7      Diesel   \n",
       "\n",
       "   Registration  Year  Model  Engine Type_Diesel  ...  Engine Type_Other  \\\n",
       "0             1  1991     18                   0  ...                  0   \n",
       "1             1  1999    206                   1  ...                  0   \n",
       "3             1  2007    179                   0  ...                  0   \n",
       "4             1  2011    181                   0  ...                  0   \n",
       "7             1  2006     53                   1  ...                  0   \n",
       "\n",
       "   Engine Type_Petrol  Age of Vehcle  Brand_Audi  Brand_BMW  \\\n",
       "0                   1             30           0          1   \n",
       "1                   0             22           0          0   \n",
       "3                   1             14           1          0   \n",
       "4                   1             10           0          0   \n",
       "7                   0             15           1          0   \n",
       "\n",
       "   Brand_Mercedes-Benz  Brand_Mitsubishi  Brand_Renault  Brand_Toyota  \\\n",
       "0                    0                 0              0             0   \n",
       "1                    1                 0              0             0   \n",
       "3                    0                 0              0             0   \n",
       "4                    0                 0              0             1   \n",
       "7                    0                 0              0             0   \n",
       "\n",
       "   Brand_Volkswagen  \n",
       "0                 0  \n",
       "1                 0  \n",
       "3                 0  \n",
       "4                 0  \n",
       "7                 0  \n",
       "\n",
       "[5 rows x 21 columns]"
      ]
     },
     "execution_count": 74,
     "metadata": {},
     "output_type": "execute_result"
    }
   ],
   "source": [
    "car_df.head()"
   ]
  },
  {
   "cell_type": "code",
   "execution_count": 75,
   "metadata": {},
   "outputs": [],
   "source": [
    "\n",
    "car_df.drop([\"Body\",\"Year\",\"Engine Type\",\"Brand\"],axis=1,inplace=True)"
   ]
  },
  {
   "cell_type": "markdown",
   "metadata": {},
   "source": [
    "# Standardzisng the 3 columns"
   ]
  },
  {
   "cell_type": "code",
   "execution_count": 76,
   "metadata": {},
   "outputs": [],
   "source": [
    "from sklearn.preprocessing import StandardScaler\n",
    "sc=StandardScaler()"
   ]
  },
  {
   "cell_type": "code",
   "execution_count": 77,
   "metadata": {},
   "outputs": [],
   "source": [
    "car_df[['Mileage','EngineV','Model']]=sc.fit_transform(car_df[['Mileage','EngineV','Model']])"
   ]
  },
  {
   "cell_type": "markdown",
   "metadata": {},
   "source": [
    "# Applying the linear regression"
   ]
  },
  {
   "cell_type": "code",
   "execution_count": 78,
   "metadata": {},
   "outputs": [],
   "source": [
    "###CODEHERE\n",
    "x=car_df.drop(\"Price\",axis=1)\n",
    "y=car_df[\"Price\"]\n",
    "from sklearn.model_selection import train_test_split\n",
    "x_train,x_test,y_train,y_test=train_test_split(x,y,test_size=0.2,random_state=42)\n",
    "from sklearn.linear_model import LinearRegression\n",
    "model_lr=LinearRegression()\n",
    "model_lr.fit(x_train,y_train)\n",
    "y_pred=model_lr.predict(x_test)"
   ]
  },
  {
   "cell_type": "code",
   "execution_count": 583,
   "metadata": {},
   "outputs": [
    {
     "data": {
      "text/plain": [
       "0.6997650026416253"
      ]
     },
     "execution_count": 583,
     "metadata": {},
     "output_type": "execute_result"
    }
   ],
   "source": [
    "r2_score(y_test,y_pred)"
   ]
  },
  {
   "cell_type": "code",
   "execution_count": 79,
   "metadata": {},
   "outputs": [],
   "source": [
    "def generate_pred(modelname,model,x_train,x_test,y_train,y_test):\n",
    "\n",
    "\n",
    "    y_train_pred=model_lr.predict(x_train)\n",
    "    \n",
    "    print(\"------Evaluation metrics for training data set--------\")\n",
    "    rmse_train=np.sqrt(mean_squared_error(y_train,y_train_pred))\n",
    "    Rsqr_train=round(r2_score(y_train,y_train_pred)*100,2)\n",
    "    print(\"modelname\",modelname)\n",
    "    print(\"rmse is\",rmse_train)\n",
    "    print(\"Rsqr is \",Rsqr_train)\n",
    "    \n",
    "    print(\"-------Evaluation metrics for test dataset--------\")\n",
    "    y_test_pred=model_lr.predict(x_test)\n",
    "    rmse_test=np.sqrt(mean_squared_error(y_test,y_test_pred))\n",
    "    Rsqr_test=round(r2_score(y_test,y_test_pred)*100,2)\n",
    "    print(\"modelname\",modelname)\n",
    "    print(\"rmse is\",rmse_test)\n",
    "    print(\"Rsqr is \",Rsqr_test)\n"
   ]
  },
  {
   "cell_type": "code",
   "execution_count": 80,
   "metadata": {},
   "outputs": [
    {
     "name": "stdout",
     "output_type": "stream",
     "text": [
      "------Evaluation metrics for training data set--------\n",
      "modelname Linear Regression\n",
      "rmse is 5221.133575044434\n",
      "Rsqr is  67.7\n",
      "-------Evaluation metrics for test dataset--------\n",
      "modelname Linear Regression\n",
      "rmse is 5006.86954219993\n",
      "Rsqr is  69.98\n"
     ]
    }
   ],
   "source": [
    "generate_pred(\"Linear Regression\",model_lr,x_train,x_test,y_train,y_test)"
   ]
  },
  {
   "cell_type": "markdown",
   "metadata": {},
   "source": [
    "# Applying stats model"
   ]
  },
  {
   "cell_type": "code",
   "execution_count": 92,
   "metadata": {},
   "outputs": [
    {
     "data": {
      "text/html": [
       "<div>\n",
       "<style scoped>\n",
       "    .dataframe tbody tr th:only-of-type {\n",
       "        vertical-align: middle;\n",
       "    }\n",
       "\n",
       "    .dataframe tbody tr th {\n",
       "        vertical-align: top;\n",
       "    }\n",
       "\n",
       "    .dataframe thead th {\n",
       "        text-align: right;\n",
       "    }\n",
       "</style>\n",
       "<table border=\"1\" class=\"dataframe\">\n",
       "  <thead>\n",
       "    <tr style=\"text-align: right;\">\n",
       "      <th></th>\n",
       "      <th>features</th>\n",
       "      <th>VIF</th>\n",
       "    </tr>\n",
       "  </thead>\n",
       "  <tbody>\n",
       "    <tr>\n",
       "      <th>8</th>\n",
       "      <td>Engine Type_Petrol</td>\n",
       "      <td>inf</td>\n",
       "    </tr>\n",
       "    <tr>\n",
       "      <th>10</th>\n",
       "      <td>Brand_Audi</td>\n",
       "      <td>inf</td>\n",
       "    </tr>\n",
       "    <tr>\n",
       "      <th>15</th>\n",
       "      <td>Brand_Toyota</td>\n",
       "      <td>inf</td>\n",
       "    </tr>\n",
       "    <tr>\n",
       "      <th>14</th>\n",
       "      <td>Brand_Renault</td>\n",
       "      <td>inf</td>\n",
       "    </tr>\n",
       "    <tr>\n",
       "      <th>13</th>\n",
       "      <td>Brand_Mitsubishi</td>\n",
       "      <td>inf</td>\n",
       "    </tr>\n",
       "    <tr>\n",
       "      <th>12</th>\n",
       "      <td>Brand_Mercedes-Benz</td>\n",
       "      <td>inf</td>\n",
       "    </tr>\n",
       "    <tr>\n",
       "      <th>11</th>\n",
       "      <td>Brand_BMW</td>\n",
       "      <td>inf</td>\n",
       "    </tr>\n",
       "    <tr>\n",
       "      <th>16</th>\n",
       "      <td>Brand_Volkswagen</td>\n",
       "      <td>inf</td>\n",
       "    </tr>\n",
       "    <tr>\n",
       "      <th>7</th>\n",
       "      <td>Engine Type_Other</td>\n",
       "      <td>inf</td>\n",
       "    </tr>\n",
       "    <tr>\n",
       "      <th>6</th>\n",
       "      <td>Engine Type_Gas</td>\n",
       "      <td>inf</td>\n",
       "    </tr>\n",
       "    <tr>\n",
       "      <th>5</th>\n",
       "      <td>Engine Type_Diesel</td>\n",
       "      <td>inf</td>\n",
       "    </tr>\n",
       "    <tr>\n",
       "      <th>1</th>\n",
       "      <td>Mileage</td>\n",
       "      <td>1.93</td>\n",
       "    </tr>\n",
       "    <tr>\n",
       "      <th>9</th>\n",
       "      <td>Age of Vehcle</td>\n",
       "      <td>1.91</td>\n",
       "    </tr>\n",
       "    <tr>\n",
       "      <th>4</th>\n",
       "      <td>Model</td>\n",
       "      <td>1.56</td>\n",
       "    </tr>\n",
       "    <tr>\n",
       "      <th>2</th>\n",
       "      <td>EngineV</td>\n",
       "      <td>1.45</td>\n",
       "    </tr>\n",
       "    <tr>\n",
       "      <th>3</th>\n",
       "      <td>Registration</td>\n",
       "      <td>1.17</td>\n",
       "    </tr>\n",
       "    <tr>\n",
       "      <th>0</th>\n",
       "      <td>const</td>\n",
       "      <td>0.00</td>\n",
       "    </tr>\n",
       "  </tbody>\n",
       "</table>\n",
       "</div>"
      ],
      "text/plain": [
       "               features   VIF\n",
       "8    Engine Type_Petrol   inf\n",
       "10           Brand_Audi   inf\n",
       "15         Brand_Toyota   inf\n",
       "14        Brand_Renault   inf\n",
       "13     Brand_Mitsubishi   inf\n",
       "12  Brand_Mercedes-Benz   inf\n",
       "11            Brand_BMW   inf\n",
       "16     Brand_Volkswagen   inf\n",
       "7     Engine Type_Other   inf\n",
       "6       Engine Type_Gas   inf\n",
       "5    Engine Type_Diesel   inf\n",
       "1               Mileage  1.93\n",
       "9         Age of Vehcle  1.91\n",
       "4                 Model  1.56\n",
       "2               EngineV  1.45\n",
       "3          Registration  1.17\n",
       "0                 const  0.00"
      ]
     },
     "execution_count": 92,
     "metadata": {},
     "output_type": "execute_result"
    }
   ],
   "source": [
    "import statsmodels.api as sm\n",
    "x=sm.add_constant(x)\n",
    "model=sm.OLS(y,x).fit()\n",
    "model.summary()\n",
    "from statsmodels.stats.outliers_influence import variance_inflation_factor\n",
    "vif=pd.DataFrame()\n",
    "vif[\"features\"]=x.columns\n",
    "vif[\"VIF\"]=[variance_inflation_factor(x.values,i) for i in range (x.shape[1])]\n",
    "vif['VIF'] = round(vif['VIF'], 2)\n",
    "vif = vif.sort_values(by = \"VIF\", ascending = False)\n",
    "vif"
   ]
  },
  {
   "cell_type": "code",
   "execution_count": 93,
   "metadata": {},
   "outputs": [
    {
     "data": {
      "text/html": [
       "<table class=\"simpletable\">\n",
       "<caption>OLS Regression Results</caption>\n",
       "<tr>\n",
       "  <th>Dep. Variable:</th>          <td>Price</td>      <th>  R-squared:         </th> <td>   0.682</td> \n",
       "</tr>\n",
       "<tr>\n",
       "  <th>Model:</th>                   <td>OLS</td>       <th>  Adj. R-squared:    </th> <td>   0.680</td> \n",
       "</tr>\n",
       "<tr>\n",
       "  <th>Method:</th>             <td>Least Squares</td>  <th>  F-statistic:       </th> <td>   520.8</td> \n",
       "</tr>\n",
       "<tr>\n",
       "  <th>Date:</th>             <td>Sat, 07 Aug 2021</td> <th>  Prob (F-statistic):</th>  <td>  0.00</td>  \n",
       "</tr>\n",
       "<tr>\n",
       "  <th>Time:</th>                 <td>08:57:22</td>     <th>  Log-Likelihood:    </th> <td> -34080.</td> \n",
       "</tr>\n",
       "<tr>\n",
       "  <th>No. Observations:</th>      <td>  3418</td>      <th>  AIC:               </th> <td>6.819e+04</td>\n",
       "</tr>\n",
       "<tr>\n",
       "  <th>Df Residuals:</th>          <td>  3403</td>      <th>  BIC:               </th> <td>6.828e+04</td>\n",
       "</tr>\n",
       "<tr>\n",
       "  <th>Df Model:</th>              <td>    14</td>      <th>                     </th>     <td> </td>    \n",
       "</tr>\n",
       "<tr>\n",
       "  <th>Covariance Type:</th>      <td>nonrobust</td>    <th>                     </th>     <td> </td>    \n",
       "</tr>\n",
       "</table>\n",
       "<table class=\"simpletable\">\n",
       "<tr>\n",
       "           <td></td>              <th>coef</th>     <th>std err</th>      <th>t</th>      <th>P>|t|</th>  <th>[0.025</th>    <th>0.975]</th>  \n",
       "</tr>\n",
       "<tr>\n",
       "  <th>const</th>               <td>  1.23e+04</td> <td>  328.143</td> <td>   37.481</td> <td> 0.000</td> <td> 1.17e+04</td> <td> 1.29e+04</td>\n",
       "</tr>\n",
       "<tr>\n",
       "  <th>Mileage</th>             <td>-2488.9434</td> <td>  123.403</td> <td>  -20.169</td> <td> 0.000</td> <td>-2730.895</td> <td>-2246.992</td>\n",
       "</tr>\n",
       "<tr>\n",
       "  <th>EngineV</th>             <td> 2588.4332</td> <td>  106.690</td> <td>   24.261</td> <td> 0.000</td> <td> 2379.250</td> <td> 2797.616</td>\n",
       "</tr>\n",
       "<tr>\n",
       "  <th>Registration</th>        <td> 6502.9377</td> <td>  314.116</td> <td>   20.702</td> <td> 0.000</td> <td> 5887.063</td> <td> 7118.813</td>\n",
       "</tr>\n",
       "<tr>\n",
       "  <th>Model</th>               <td>  703.6923</td> <td>  110.785</td> <td>    6.352</td> <td> 0.000</td> <td>  486.481</td> <td>  920.903</td>\n",
       "</tr>\n",
       "<tr>\n",
       "  <th>Engine Type_Diesel</th>  <td> 3830.0377</td> <td>  178.421</td> <td>   21.466</td> <td> 0.000</td> <td> 3480.215</td> <td> 4179.860</td>\n",
       "</tr>\n",
       "<tr>\n",
       "  <th>Engine Type_Gas</th>     <td> 2712.6749</td> <td>  249.451</td> <td>   10.875</td> <td> 0.000</td> <td> 2223.585</td> <td> 3201.765</td>\n",
       "</tr>\n",
       "<tr>\n",
       "  <th>Engine Type_Other</th>   <td> 2674.7165</td> <td>  445.220</td> <td>    6.008</td> <td> 0.000</td> <td> 1801.791</td> <td> 3547.642</td>\n",
       "</tr>\n",
       "<tr>\n",
       "  <th>Engine Type_Petrol</th>  <td> 3081.8219</td> <td>  204.878</td> <td>   15.042</td> <td> 0.000</td> <td> 2680.126</td> <td> 3483.518</td>\n",
       "</tr>\n",
       "<tr>\n",
       "  <th>Age of Vehcle</th>       <td> -681.3924</td> <td>   18.744</td> <td>  -36.352</td> <td> 0.000</td> <td> -718.143</td> <td> -644.642</td>\n",
       "</tr>\n",
       "<tr>\n",
       "  <th>Brand_Audi</th>          <td> 5345.7492</td> <td>  266.794</td> <td>   20.037</td> <td> 0.000</td> <td> 4822.657</td> <td> 5868.842</td>\n",
       "</tr>\n",
       "<tr>\n",
       "  <th>Brand_BMW</th>           <td> 6281.6834</td> <td>  254.156</td> <td>   24.716</td> <td> 0.000</td> <td> 5783.369</td> <td> 6779.998</td>\n",
       "</tr>\n",
       "<tr>\n",
       "  <th>Brand_Mercedes-Benz</th> <td> 3261.5278</td> <td>  223.527</td> <td>   14.591</td> <td> 0.000</td> <td> 2823.267</td> <td> 3699.789</td>\n",
       "</tr>\n",
       "<tr>\n",
       "  <th>Brand_Mitsubishi</th>    <td>-1354.9897</td> <td>  285.246</td> <td>   -4.750</td> <td> 0.000</td> <td>-1914.261</td> <td> -795.718</td>\n",
       "</tr>\n",
       "<tr>\n",
       "  <th>Brand_Renault</th>       <td>-3748.7493</td> <td>  272.318</td> <td>  -13.766</td> <td> 0.000</td> <td>-4282.672</td> <td>-3214.827</td>\n",
       "</tr>\n",
       "<tr>\n",
       "  <th>Brand_Toyota</th>        <td> 1941.7749</td> <td>  249.708</td> <td>    7.776</td> <td> 0.000</td> <td> 1452.181</td> <td> 2431.369</td>\n",
       "</tr>\n",
       "<tr>\n",
       "  <th>Brand_Volkswagen</th>    <td>  572.2546</td> <td>  205.793</td> <td>    2.781</td> <td> 0.005</td> <td>  168.764</td> <td>  975.745</td>\n",
       "</tr>\n",
       "</table>\n",
       "<table class=\"simpletable\">\n",
       "<tr>\n",
       "  <th>Omnibus:</th>       <td>610.241</td> <th>  Durbin-Watson:     </th> <td>   2.045</td>\n",
       "</tr>\n",
       "<tr>\n",
       "  <th>Prob(Omnibus):</th> <td> 0.000</td>  <th>  Jarque-Bera (JB):  </th> <td>1472.664</td>\n",
       "</tr>\n",
       "<tr>\n",
       "  <th>Skew:</th>          <td> 0.994</td>  <th>  Prob(JB):          </th> <td>    0.00</td>\n",
       "</tr>\n",
       "<tr>\n",
       "  <th>Kurtosis:</th>      <td> 5.528</td>  <th>  Cond. No.          </th> <td>1.86e+17</td>\n",
       "</tr>\n",
       "</table><br/><br/>Notes:<br/>[1] Standard Errors assume that the covariance matrix of the errors is correctly specified.<br/>[2] The smallest eigenvalue is 2.73e-29. This might indicate that there are<br/>strong multicollinearity problems or that the design matrix is singular."
      ],
      "text/plain": [
       "<class 'statsmodels.iolib.summary.Summary'>\n",
       "\"\"\"\n",
       "                            OLS Regression Results                            \n",
       "==============================================================================\n",
       "Dep. Variable:                  Price   R-squared:                       0.682\n",
       "Model:                            OLS   Adj. R-squared:                  0.680\n",
       "Method:                 Least Squares   F-statistic:                     520.8\n",
       "Date:                Sat, 07 Aug 2021   Prob (F-statistic):               0.00\n",
       "Time:                        08:57:22   Log-Likelihood:                -34080.\n",
       "No. Observations:                3418   AIC:                         6.819e+04\n",
       "Df Residuals:                    3403   BIC:                         6.828e+04\n",
       "Df Model:                          14                                         \n",
       "Covariance Type:            nonrobust                                         \n",
       "=======================================================================================\n",
       "                          coef    std err          t      P>|t|      [0.025      0.975]\n",
       "---------------------------------------------------------------------------------------\n",
       "const                 1.23e+04    328.143     37.481      0.000    1.17e+04    1.29e+04\n",
       "Mileage             -2488.9434    123.403    -20.169      0.000   -2730.895   -2246.992\n",
       "EngineV              2588.4332    106.690     24.261      0.000    2379.250    2797.616\n",
       "Registration         6502.9377    314.116     20.702      0.000    5887.063    7118.813\n",
       "Model                 703.6923    110.785      6.352      0.000     486.481     920.903\n",
       "Engine Type_Diesel   3830.0377    178.421     21.466      0.000    3480.215    4179.860\n",
       "Engine Type_Gas      2712.6749    249.451     10.875      0.000    2223.585    3201.765\n",
       "Engine Type_Other    2674.7165    445.220      6.008      0.000    1801.791    3547.642\n",
       "Engine Type_Petrol   3081.8219    204.878     15.042      0.000    2680.126    3483.518\n",
       "Age of Vehcle        -681.3924     18.744    -36.352      0.000    -718.143    -644.642\n",
       "Brand_Audi           5345.7492    266.794     20.037      0.000    4822.657    5868.842\n",
       "Brand_BMW            6281.6834    254.156     24.716      0.000    5783.369    6779.998\n",
       "Brand_Mercedes-Benz  3261.5278    223.527     14.591      0.000    2823.267    3699.789\n",
       "Brand_Mitsubishi    -1354.9897    285.246     -4.750      0.000   -1914.261    -795.718\n",
       "Brand_Renault       -3748.7493    272.318    -13.766      0.000   -4282.672   -3214.827\n",
       "Brand_Toyota         1941.7749    249.708      7.776      0.000    1452.181    2431.369\n",
       "Brand_Volkswagen      572.2546    205.793      2.781      0.005     168.764     975.745\n",
       "==============================================================================\n",
       "Omnibus:                      610.241   Durbin-Watson:                   2.045\n",
       "Prob(Omnibus):                  0.000   Jarque-Bera (JB):             1472.664\n",
       "Skew:                           0.994   Prob(JB):                         0.00\n",
       "Kurtosis:                       5.528   Cond. No.                     1.86e+17\n",
       "==============================================================================\n",
       "\n",
       "Notes:\n",
       "[1] Standard Errors assume that the covariance matrix of the errors is correctly specified.\n",
       "[2] The smallest eigenvalue is 2.73e-29. This might indicate that there are\n",
       "strong multicollinearity problems or that the design matrix is singular.\n",
       "\"\"\""
      ]
     },
     "execution_count": 93,
     "metadata": {},
     "output_type": "execute_result"
    }
   ],
   "source": [
    "model.summary()"
   ]
  },
  {
   "cell_type": "markdown",
   "metadata": {},
   "source": [
    "### Multicollinearity"
   ]
  },
  {
   "cell_type": "markdown",
   "metadata": {},
   "source": [
    "#### 11A. Say about Multicollinearity and Find the Multicollinearity variables in the Dataset. \n"
   ]
  },
  {
   "cell_type": "code",
   "execution_count": 94,
   "metadata": {},
   "outputs": [
    {
     "data": {
      "text/plain": [
       "Index(['Price', 'Mileage', 'EngineV', 'Registration', 'Model',\n",
       "       'Engine Type_Diesel', 'Engine Type_Gas', 'Engine Type_Other',\n",
       "       'Engine Type_Petrol', 'Age of Vehcle', 'Brand_Audi', 'Brand_BMW',\n",
       "       'Brand_Mercedes-Benz', 'Brand_Mitsubishi', 'Brand_Renault',\n",
       "       'Brand_Toyota', 'Brand_Volkswagen'],\n",
       "      dtype='object')"
      ]
     },
     "execution_count": 94,
     "metadata": {},
     "output_type": "execute_result"
    }
   ],
   "source": [
    "car_df.columns"
   ]
  },
  {
   "cell_type": "code",
   "execution_count": null,
   "metadata": {},
   "outputs": [],
   "source": []
  },
  {
   "cell_type": "markdown",
   "metadata": {},
   "source": [
    "** Age of vehicle have 0.62 multicolinearity and Enigne type petrol have -0.69 multicolinearty**"
   ]
  },
  {
   "cell_type": "code",
   "execution_count": 95,
   "metadata": {},
   "outputs": [
    {
     "data": {
      "image/png": "[encoded data removed]",
      "text/plain": [
       "<Figure size 1080x504 with 2 Axes>"
      ]
     },
     "metadata": {},
     "output_type": "display_data"
    }
   ],
   "source": [
    "#CODE HERE\n",
    "plt.figure(figsize=(15,7))\n",
    "sns.heatmap(x.corr(), annot=True)\n",
    "plt.show()"
   ]
  },
  {
   "cell_type": "markdown",
   "metadata": {},
   "source": [
    "#### 11B. Show the variables which are having Multicollinearity.\n",
    "\n",
    "Hint: VIF Score"
   ]
  },
  {
   "cell_type": "code",
   "execution_count": 96,
   "metadata": {},
   "outputs": [],
   "source": [
    "#CODE HERE\n",
    "# Check for the VIF values of the feature variables. \n",
    "from statsmodels.stats.outliers_influence import variance_inflation_factor"
   ]
  },
  {
   "cell_type": "code",
   "execution_count": 97,
   "metadata": {},
   "outputs": [
    {
     "data": {
      "text/html": [
       "<div>\n",
       "<style scoped>\n",
       "    .dataframe tbody tr th:only-of-type {\n",
       "        vertical-align: middle;\n",
       "    }\n",
       "\n",
       "    .dataframe tbody tr th {\n",
       "        vertical-align: top;\n",
       "    }\n",
       "\n",
       "    .dataframe thead th {\n",
       "        text-align: right;\n",
       "    }\n",
       "</style>\n",
       "<table border=\"1\" class=\"dataframe\">\n",
       "  <thead>\n",
       "    <tr style=\"text-align: right;\">\n",
       "      <th></th>\n",
       "      <th>features</th>\n",
       "      <th>VIF</th>\n",
       "    </tr>\n",
       "  </thead>\n",
       "  <tbody>\n",
       "    <tr>\n",
       "      <th>8</th>\n",
       "      <td>Engine Type_Petrol</td>\n",
       "      <td>inf</td>\n",
       "    </tr>\n",
       "    <tr>\n",
       "      <th>10</th>\n",
       "      <td>Brand_Audi</td>\n",
       "      <td>inf</td>\n",
       "    </tr>\n",
       "    <tr>\n",
       "      <th>15</th>\n",
       "      <td>Brand_Toyota</td>\n",
       "      <td>inf</td>\n",
       "    </tr>\n",
       "    <tr>\n",
       "      <th>14</th>\n",
       "      <td>Brand_Renault</td>\n",
       "      <td>inf</td>\n",
       "    </tr>\n",
       "    <tr>\n",
       "      <th>13</th>\n",
       "      <td>Brand_Mitsubishi</td>\n",
       "      <td>inf</td>\n",
       "    </tr>\n",
       "    <tr>\n",
       "      <th>12</th>\n",
       "      <td>Brand_Mercedes-Benz</td>\n",
       "      <td>inf</td>\n",
       "    </tr>\n",
       "    <tr>\n",
       "      <th>11</th>\n",
       "      <td>Brand_BMW</td>\n",
       "      <td>inf</td>\n",
       "    </tr>\n",
       "    <tr>\n",
       "      <th>16</th>\n",
       "      <td>Brand_Volkswagen</td>\n",
       "      <td>inf</td>\n",
       "    </tr>\n",
       "    <tr>\n",
       "      <th>7</th>\n",
       "      <td>Engine Type_Other</td>\n",
       "      <td>inf</td>\n",
       "    </tr>\n",
       "    <tr>\n",
       "      <th>6</th>\n",
       "      <td>Engine Type_Gas</td>\n",
       "      <td>inf</td>\n",
       "    </tr>\n",
       "    <tr>\n",
       "      <th>5</th>\n",
       "      <td>Engine Type_Diesel</td>\n",
       "      <td>inf</td>\n",
       "    </tr>\n",
       "    <tr>\n",
       "      <th>1</th>\n",
       "      <td>Mileage</td>\n",
       "      <td>1.93</td>\n",
       "    </tr>\n",
       "    <tr>\n",
       "      <th>9</th>\n",
       "      <td>Age of Vehcle</td>\n",
       "      <td>1.91</td>\n",
       "    </tr>\n",
       "    <tr>\n",
       "      <th>4</th>\n",
       "      <td>Model</td>\n",
       "      <td>1.56</td>\n",
       "    </tr>\n",
       "    <tr>\n",
       "      <th>2</th>\n",
       "      <td>EngineV</td>\n",
       "      <td>1.45</td>\n",
       "    </tr>\n",
       "    <tr>\n",
       "      <th>3</th>\n",
       "      <td>Registration</td>\n",
       "      <td>1.17</td>\n",
       "    </tr>\n",
       "    <tr>\n",
       "      <th>0</th>\n",
       "      <td>const</td>\n",
       "      <td>0.00</td>\n",
       "    </tr>\n",
       "  </tbody>\n",
       "</table>\n",
       "</div>"
      ],
      "text/plain": [
       "               features   VIF\n",
       "8    Engine Type_Petrol   inf\n",
       "10           Brand_Audi   inf\n",
       "15         Brand_Toyota   inf\n",
       "14        Brand_Renault   inf\n",
       "13     Brand_Mitsubishi   inf\n",
       "12  Brand_Mercedes-Benz   inf\n",
       "11            Brand_BMW   inf\n",
       "16     Brand_Volkswagen   inf\n",
       "7     Engine Type_Other   inf\n",
       "6       Engine Type_Gas   inf\n",
       "5    Engine Type_Diesel   inf\n",
       "1               Mileage  1.93\n",
       "9         Age of Vehcle  1.91\n",
       "4                 Model  1.56\n",
       "2               EngineV  1.45\n",
       "3          Registration  1.17\n",
       "0                 const  0.00"
      ]
     },
     "execution_count": 97,
     "metadata": {},
     "output_type": "execute_result"
    }
   ],
   "source": [
    "import statsmodels.api as sm\n",
    "x=sm.add_constant(x)\n",
    "model=sm.OLS(y,x).fit()\n",
    "model.summary()\n",
    "from statsmodels.stats.outliers_influence import variance_inflation_factor\n",
    "vif=pd.DataFrame()\n",
    "vif[\"features\"]=x.columns\n",
    "vif[\"VIF\"]=[variance_inflation_factor(x.values,i) for i in range (x.shape[1])]\n",
    "vif['VIF'] = round(vif['VIF'], 2)\n",
    "vif = vif.sort_values(by = \"VIF\", ascending = False)\n",
    "vif"
   ]
  },
  {
   "cell_type": "markdown",
   "metadata": {},
   "source": [
    "** Here i dont get vif score  more than  5% .**"
   ]
  },
  {
   "cell_type": "markdown",
   "metadata": {},
   "source": [
    "### Model fit"
   ]
  },
  {
   "cell_type": "markdown",
   "metadata": {},
   "source": [
    "#### 12A. Perform The Model fit & Model output using OLS "
   ]
  },
  {
   "cell_type": "code",
   "execution_count": 98,
   "metadata": {},
   "outputs": [],
   "source": [
    "#CODE HERE\n",
    "import statsmodels.api as sm\n"
   ]
  },
  {
   "cell_type": "code",
   "execution_count": 99,
   "metadata": {},
   "outputs": [
    {
     "data": {
      "text/html": [
       "<table class=\"simpletable\">\n",
       "<caption>OLS Regression Results</caption>\n",
       "<tr>\n",
       "  <th>Dep. Variable:</th>          <td>Price</td>      <th>  R-squared:         </th> <td>   0.682</td> \n",
       "</tr>\n",
       "<tr>\n",
       "  <th>Model:</th>                   <td>OLS</td>       <th>  Adj. R-squared:    </th> <td>   0.680</td> \n",
       "</tr>\n",
       "<tr>\n",
       "  <th>Method:</th>             <td>Least Squares</td>  <th>  F-statistic:       </th> <td>   520.8</td> \n",
       "</tr>\n",
       "<tr>\n",
       "  <th>Date:</th>             <td>Sat, 07 Aug 2021</td> <th>  Prob (F-statistic):</th>  <td>  0.00</td>  \n",
       "</tr>\n",
       "<tr>\n",
       "  <th>Time:</th>                 <td>08:57:42</td>     <th>  Log-Likelihood:    </th> <td> -34080.</td> \n",
       "</tr>\n",
       "<tr>\n",
       "  <th>No. Observations:</th>      <td>  3418</td>      <th>  AIC:               </th> <td>6.819e+04</td>\n",
       "</tr>\n",
       "<tr>\n",
       "  <th>Df Residuals:</th>          <td>  3403</td>      <th>  BIC:               </th> <td>6.828e+04</td>\n",
       "</tr>\n",
       "<tr>\n",
       "  <th>Df Model:</th>              <td>    14</td>      <th>                     </th>     <td> </td>    \n",
       "</tr>\n",
       "<tr>\n",
       "  <th>Covariance Type:</th>      <td>nonrobust</td>    <th>                     </th>     <td> </td>    \n",
       "</tr>\n",
       "</table>\n",
       "<table class=\"simpletable\">\n",
       "<tr>\n",
       "           <td></td>              <th>coef</th>     <th>std err</th>      <th>t</th>      <th>P>|t|</th>  <th>[0.025</th>    <th>0.975]</th>  \n",
       "</tr>\n",
       "<tr>\n",
       "  <th>const</th>               <td>  1.23e+04</td> <td>  328.143</td> <td>   37.481</td> <td> 0.000</td> <td> 1.17e+04</td> <td> 1.29e+04</td>\n",
       "</tr>\n",
       "<tr>\n",
       "  <th>Mileage</th>             <td>-2488.9434</td> <td>  123.403</td> <td>  -20.169</td> <td> 0.000</td> <td>-2730.895</td> <td>-2246.992</td>\n",
       "</tr>\n",
       "<tr>\n",
       "  <th>EngineV</th>             <td> 2588.4332</td> <td>  106.690</td> <td>   24.261</td> <td> 0.000</td> <td> 2379.250</td> <td> 2797.616</td>\n",
       "</tr>\n",
       "<tr>\n",
       "  <th>Registration</th>        <td> 6502.9377</td> <td>  314.116</td> <td>   20.702</td> <td> 0.000</td> <td> 5887.063</td> <td> 7118.813</td>\n",
       "</tr>\n",
       "<tr>\n",
       "  <th>Model</th>               <td>  703.6923</td> <td>  110.785</td> <td>    6.352</td> <td> 0.000</td> <td>  486.481</td> <td>  920.903</td>\n",
       "</tr>\n",
       "<tr>\n",
       "  <th>Engine Type_Diesel</th>  <td> 3830.0377</td> <td>  178.421</td> <td>   21.466</td> <td> 0.000</td> <td> 3480.215</td> <td> 4179.860</td>\n",
       "</tr>\n",
       "<tr>\n",
       "  <th>Engine Type_Gas</th>     <td> 2712.6749</td> <td>  249.451</td> <td>   10.875</td> <td> 0.000</td> <td> 2223.585</td> <td> 3201.765</td>\n",
       "</tr>\n",
       "<tr>\n",
       "  <th>Engine Type_Other</th>   <td> 2674.7165</td> <td>  445.220</td> <td>    6.008</td> <td> 0.000</td> <td> 1801.791</td> <td> 3547.642</td>\n",
       "</tr>\n",
       "<tr>\n",
       "  <th>Engine Type_Petrol</th>  <td> 3081.8219</td> <td>  204.878</td> <td>   15.042</td> <td> 0.000</td> <td> 2680.126</td> <td> 3483.518</td>\n",
       "</tr>\n",
       "<tr>\n",
       "  <th>Age of Vehcle</th>       <td> -681.3924</td> <td>   18.744</td> <td>  -36.352</td> <td> 0.000</td> <td> -718.143</td> <td> -644.642</td>\n",
       "</tr>\n",
       "<tr>\n",
       "  <th>Brand_Audi</th>          <td> 5345.7492</td> <td>  266.794</td> <td>   20.037</td> <td> 0.000</td> <td> 4822.657</td> <td> 5868.842</td>\n",
       "</tr>\n",
       "<tr>\n",
       "  <th>Brand_BMW</th>           <td> 6281.6834</td> <td>  254.156</td> <td>   24.716</td> <td> 0.000</td> <td> 5783.369</td> <td> 6779.998</td>\n",
       "</tr>\n",
       "<tr>\n",
       "  <th>Brand_Mercedes-Benz</th> <td> 3261.5278</td> <td>  223.527</td> <td>   14.591</td> <td> 0.000</td> <td> 2823.267</td> <td> 3699.789</td>\n",
       "</tr>\n",
       "<tr>\n",
       "  <th>Brand_Mitsubishi</th>    <td>-1354.9897</td> <td>  285.246</td> <td>   -4.750</td> <td> 0.000</td> <td>-1914.261</td> <td> -795.718</td>\n",
       "</tr>\n",
       "<tr>\n",
       "  <th>Brand_Renault</th>       <td>-3748.7493</td> <td>  272.318</td> <td>  -13.766</td> <td> 0.000</td> <td>-4282.672</td> <td>-3214.827</td>\n",
       "</tr>\n",
       "<tr>\n",
       "  <th>Brand_Toyota</th>        <td> 1941.7749</td> <td>  249.708</td> <td>    7.776</td> <td> 0.000</td> <td> 1452.181</td> <td> 2431.369</td>\n",
       "</tr>\n",
       "<tr>\n",
       "  <th>Brand_Volkswagen</th>    <td>  572.2546</td> <td>  205.793</td> <td>    2.781</td> <td> 0.005</td> <td>  168.764</td> <td>  975.745</td>\n",
       "</tr>\n",
       "</table>\n",
       "<table class=\"simpletable\">\n",
       "<tr>\n",
       "  <th>Omnibus:</th>       <td>610.241</td> <th>  Durbin-Watson:     </th> <td>   2.045</td>\n",
       "</tr>\n",
       "<tr>\n",
       "  <th>Prob(Omnibus):</th> <td> 0.000</td>  <th>  Jarque-Bera (JB):  </th> <td>1472.664</td>\n",
       "</tr>\n",
       "<tr>\n",
       "  <th>Skew:</th>          <td> 0.994</td>  <th>  Prob(JB):          </th> <td>    0.00</td>\n",
       "</tr>\n",
       "<tr>\n",
       "  <th>Kurtosis:</th>      <td> 5.528</td>  <th>  Cond. No.          </th> <td>1.86e+17</td>\n",
       "</tr>\n",
       "</table><br/><br/>Notes:<br/>[1] Standard Errors assume that the covariance matrix of the errors is correctly specified.<br/>[2] The smallest eigenvalue is 2.73e-29. This might indicate that there are<br/>strong multicollinearity problems or that the design matrix is singular."
      ],
      "text/plain": [
       "<class 'statsmodels.iolib.summary.Summary'>\n",
       "\"\"\"\n",
       "                            OLS Regression Results                            \n",
       "==============================================================================\n",
       "Dep. Variable:                  Price   R-squared:                       0.682\n",
       "Model:                            OLS   Adj. R-squared:                  0.680\n",
       "Method:                 Least Squares   F-statistic:                     520.8\n",
       "Date:                Sat, 07 Aug 2021   Prob (F-statistic):               0.00\n",
       "Time:                        08:57:42   Log-Likelihood:                -34080.\n",
       "No. Observations:                3418   AIC:                         6.819e+04\n",
       "Df Residuals:                    3403   BIC:                         6.828e+04\n",
       "Df Model:                          14                                         \n",
       "Covariance Type:            nonrobust                                         \n",
       "=======================================================================================\n",
       "                          coef    std err          t      P>|t|      [0.025      0.975]\n",
       "---------------------------------------------------------------------------------------\n",
       "const                 1.23e+04    328.143     37.481      0.000    1.17e+04    1.29e+04\n",
       "Mileage             -2488.9434    123.403    -20.169      0.000   -2730.895   -2246.992\n",
       "EngineV              2588.4332    106.690     24.261      0.000    2379.250    2797.616\n",
       "Registration         6502.9377    314.116     20.702      0.000    5887.063    7118.813\n",
       "Model                 703.6923    110.785      6.352      0.000     486.481     920.903\n",
       "Engine Type_Diesel   3830.0377    178.421     21.466      0.000    3480.215    4179.860\n",
       "Engine Type_Gas      2712.6749    249.451     10.875      0.000    2223.585    3201.765\n",
       "Engine Type_Other    2674.7165    445.220      6.008      0.000    1801.791    3547.642\n",
       "Engine Type_Petrol   3081.8219    204.878     15.042      0.000    2680.126    3483.518\n",
       "Age of Vehcle        -681.3924     18.744    -36.352      0.000    -718.143    -644.642\n",
       "Brand_Audi           5345.7492    266.794     20.037      0.000    4822.657    5868.842\n",
       "Brand_BMW            6281.6834    254.156     24.716      0.000    5783.369    6779.998\n",
       "Brand_Mercedes-Benz  3261.5278    223.527     14.591      0.000    2823.267    3699.789\n",
       "Brand_Mitsubishi    -1354.9897    285.246     -4.750      0.000   -1914.261    -795.718\n",
       "Brand_Renault       -3748.7493    272.318    -13.766      0.000   -4282.672   -3214.827\n",
       "Brand_Toyota         1941.7749    249.708      7.776      0.000    1452.181    2431.369\n",
       "Brand_Volkswagen      572.2546    205.793      2.781      0.005     168.764     975.745\n",
       "==============================================================================\n",
       "Omnibus:                      610.241   Durbin-Watson:                   2.045\n",
       "Prob(Omnibus):                  0.000   Jarque-Bera (JB):             1472.664\n",
       "Skew:                           0.994   Prob(JB):                         0.00\n",
       "Kurtosis:                       5.528   Cond. No.                     1.86e+17\n",
       "==============================================================================\n",
       "\n",
       "Notes:\n",
       "[1] Standard Errors assume that the covariance matrix of the errors is correctly specified.\n",
       "[2] The smallest eigenvalue is 2.73e-29. This might indicate that there are\n",
       "strong multicollinearity problems or that the design matrix is singular.\n",
       "\"\"\""
      ]
     },
     "execution_count": 99,
     "metadata": {},
     "output_type": "execute_result"
    }
   ],
   "source": [
    "import statsmodels.api as sm\n",
    "x_sm=sm.add_constant(x)\n",
    "model=sm.OLS(y,x_sm).fit()\n",
    "model.summary()"
   ]
  },
  {
   "cell_type": "code",
   "execution_count": 100,
   "metadata": {},
   "outputs": [
    {
     "data": {
      "text/html": [
       "<div>\n",
       "<style scoped>\n",
       "    .dataframe tbody tr th:only-of-type {\n",
       "        vertical-align: middle;\n",
       "    }\n",
       "\n",
       "    .dataframe tbody tr th {\n",
       "        vertical-align: top;\n",
       "    }\n",
       "\n",
       "    .dataframe thead th {\n",
       "        text-align: right;\n",
       "    }\n",
       "</style>\n",
       "<table border=\"1\" class=\"dataframe\">\n",
       "  <thead>\n",
       "    <tr style=\"text-align: right;\">\n",
       "      <th></th>\n",
       "      <th>const</th>\n",
       "      <th>Mileage</th>\n",
       "      <th>EngineV</th>\n",
       "      <th>Registration</th>\n",
       "      <th>Model</th>\n",
       "      <th>Engine Type_Diesel</th>\n",
       "      <th>Engine Type_Gas</th>\n",
       "      <th>Engine Type_Other</th>\n",
       "      <th>Engine Type_Petrol</th>\n",
       "      <th>Age of Vehcle</th>\n",
       "      <th>Brand_Audi</th>\n",
       "      <th>Brand_BMW</th>\n",
       "      <th>Brand_Mercedes-Benz</th>\n",
       "      <th>Brand_Mitsubishi</th>\n",
       "      <th>Brand_Renault</th>\n",
       "      <th>Brand_Toyota</th>\n",
       "      <th>Brand_Volkswagen</th>\n",
       "    </tr>\n",
       "  </thead>\n",
       "  <tbody>\n",
       "    <tr>\n",
       "      <th>0</th>\n",
       "      <td>1.0</td>\n",
       "      <td>1.143445</td>\n",
       "      <td>-0.343067</td>\n",
       "      <td>1</td>\n",
       "      <td>-1.595113</td>\n",
       "      <td>0</td>\n",
       "      <td>0</td>\n",
       "      <td>0</td>\n",
       "      <td>1</td>\n",
       "      <td>30</td>\n",
       "      <td>0</td>\n",
       "      <td>1</td>\n",
       "      <td>0</td>\n",
       "      <td>0</td>\n",
       "      <td>0</td>\n",
       "      <td>0</td>\n",
       "      <td>0</td>\n",
       "    </tr>\n",
       "    <tr>\n",
       "      <th>1</th>\n",
       "      <td>1.0</td>\n",
       "      <td>2.770847</td>\n",
       "      <td>1.038940</td>\n",
       "      <td>1</td>\n",
       "      <td>1.166438</td>\n",
       "      <td>1</td>\n",
       "      <td>0</td>\n",
       "      <td>0</td>\n",
       "      <td>0</td>\n",
       "      <td>22</td>\n",
       "      <td>0</td>\n",
       "      <td>0</td>\n",
       "      <td>1</td>\n",
       "      <td>0</td>\n",
       "      <td>0</td>\n",
       "      <td>0</td>\n",
       "      <td>0</td>\n",
       "    </tr>\n",
       "    <tr>\n",
       "      <th>3</th>\n",
       "      <td>1.0</td>\n",
       "      <td>0.742019</td>\n",
       "      <td>3.035173</td>\n",
       "      <td>1</td>\n",
       "      <td>0.769833</td>\n",
       "      <td>0</td>\n",
       "      <td>0</td>\n",
       "      <td>0</td>\n",
       "      <td>1</td>\n",
       "      <td>14</td>\n",
       "      <td>1</td>\n",
       "      <td>0</td>\n",
       "      <td>0</td>\n",
       "      <td>0</td>\n",
       "      <td>0</td>\n",
       "      <td>0</td>\n",
       "      <td>0</td>\n",
       "    </tr>\n",
       "    <tr>\n",
       "      <th>4</th>\n",
       "      <td>1.0</td>\n",
       "      <td>-0.559903</td>\n",
       "      <td>-0.343067</td>\n",
       "      <td>1</td>\n",
       "      <td>0.799211</td>\n",
       "      <td>0</td>\n",
       "      <td>0</td>\n",
       "      <td>0</td>\n",
       "      <td>1</td>\n",
       "      <td>10</td>\n",
       "      <td>0</td>\n",
       "      <td>0</td>\n",
       "      <td>0</td>\n",
       "      <td>0</td>\n",
       "      <td>0</td>\n",
       "      <td>1</td>\n",
       "      <td>0</td>\n",
       "    </tr>\n",
       "    <tr>\n",
       "      <th>7</th>\n",
       "      <td>1.0</td>\n",
       "      <td>0.308045</td>\n",
       "      <td>0.731828</td>\n",
       "      <td>1</td>\n",
       "      <td>-1.080994</td>\n",
       "      <td>1</td>\n",
       "      <td>0</td>\n",
       "      <td>0</td>\n",
       "      <td>0</td>\n",
       "      <td>15</td>\n",
       "      <td>1</td>\n",
       "      <td>0</td>\n",
       "      <td>0</td>\n",
       "      <td>0</td>\n",
       "      <td>0</td>\n",
       "      <td>0</td>\n",
       "      <td>0</td>\n",
       "    </tr>\n",
       "  </tbody>\n",
       "</table>\n",
       "</div>"
      ],
      "text/plain": [
       "   const   Mileage   EngineV  Registration     Model  Engine Type_Diesel  \\\n",
       "0    1.0  1.143445 -0.343067             1 -1.595113                   0   \n",
       "1    1.0  2.770847  1.038940             1  1.166438                   1   \n",
       "3    1.0  0.742019  3.035173             1  0.769833                   0   \n",
       "4    1.0 -0.559903 -0.343067             1  0.799211                   0   \n",
       "7    1.0  0.308045  0.731828             1 -1.080994                   1   \n",
       "\n",
       "   Engine Type_Gas  Engine Type_Other  Engine Type_Petrol  Age of Vehcle  \\\n",
       "0                0                  0                   1             30   \n",
       "1                0                  0                   0             22   \n",
       "3                0                  0                   1             14   \n",
       "4                0                  0                   1             10   \n",
       "7                0                  0                   0             15   \n",
       "\n",
       "   Brand_Audi  Brand_BMW  Brand_Mercedes-Benz  Brand_Mitsubishi  \\\n",
       "0           0          1                    0                 0   \n",
       "1           0          0                    1                 0   \n",
       "3           1          0                    0                 0   \n",
       "4           0          0                    0                 0   \n",
       "7           1          0                    0                 0   \n",
       "\n",
       "   Brand_Renault  Brand_Toyota  Brand_Volkswagen  \n",
       "0              0             0                 0  \n",
       "1              0             0                 0  \n",
       "3              0             0                 0  \n",
       "4              0             1                 0  \n",
       "7              0             0                 0  "
      ]
     },
     "execution_count": 100,
     "metadata": {},
     "output_type": "execute_result"
    }
   ],
   "source": [
    "x_sm.head()"
   ]
  },
  {
   "cell_type": "code",
   "execution_count": 101,
   "metadata": {},
   "outputs": [],
   "source": [
    "x_train_sm=sm.add_constant(x_train)"
   ]
  },
  {
   "cell_type": "code",
   "execution_count": 102,
   "metadata": {},
   "outputs": [],
   "source": [
    "x_test_sm=sm.add_constant(x_test)"
   ]
  },
  {
   "cell_type": "code",
   "execution_count": 103,
   "metadata": {},
   "outputs": [
    {
     "data": {
      "text/plain": [
       "0.6767333864937958"
      ]
     },
     "execution_count": 103,
     "metadata": {},
     "output_type": "execute_result"
    }
   ],
   "source": [
    "y_pred_sm=model.predict(x_train_sm)\n",
    "# train accuracy\n",
    "r2_score(y_train,y_pred_sm)"
   ]
  },
  {
   "cell_type": "code",
   "execution_count": 104,
   "metadata": {},
   "outputs": [],
   "source": [
    "y_test_pred_sm=model.predict(x_test_sm)"
   ]
  },
  {
   "cell_type": "markdown",
   "metadata": {},
   "source": [
    "# Using OLS model r2 score on test set"
   ]
  },
  {
   "cell_type": "code",
   "execution_count": 105,
   "metadata": {},
   "outputs": [
    {
     "data": {
      "text/plain": [
       "0.7021543619675731"
      ]
     },
     "execution_count": 105,
     "metadata": {},
     "output_type": "execute_result"
    }
   ],
   "source": [
    "r2_score(y_test,y_test_pred_sm)"
   ]
  },
  {
   "cell_type": "markdown",
   "metadata": {},
   "source": [
    "#### 12B. Explain the Model Evaluation metrics in OLS method."
   ]
  },
  {
   "cell_type": "markdown",
   "metadata": {},
   "source": [
    "**Note:** Give The Explanation about R-square, Adjusted.R-Square and Explain the P-Value in OLS Table"
   ]
  },
  {
   "cell_type": "code",
   "execution_count": 651,
   "metadata": {},
   "outputs": [
    {
     "data": {
      "text/html": [
       "<table class=\"simpletable\">\n",
       "<caption>OLS Regression Results</caption>\n",
       "<tr>\n",
       "  <th>Dep. Variable:</th>          <td>Price</td>      <th>  R-squared:         </th> <td>   0.682</td> \n",
       "</tr>\n",
       "<tr>\n",
       "  <th>Model:</th>                   <td>OLS</td>       <th>  Adj. R-squared:    </th> <td>   0.680</td> \n",
       "</tr>\n",
       "<tr>\n",
       "  <th>Method:</th>             <td>Least Squares</td>  <th>  F-statistic:       </th> <td>   520.8</td> \n",
       "</tr>\n",
       "<tr>\n",
       "  <th>Date:</th>             <td>Sun, 18 Jul 2021</td> <th>  Prob (F-statistic):</th>  <td>  0.00</td>  \n",
       "</tr>\n",
       "<tr>\n",
       "  <th>Time:</th>                 <td>22:36:21</td>     <th>  Log-Likelihood:    </th> <td> -34080.</td> \n",
       "</tr>\n",
       "<tr>\n",
       "  <th>No. Observations:</th>      <td>  3418</td>      <th>  AIC:               </th> <td>6.819e+04</td>\n",
       "</tr>\n",
       "<tr>\n",
       "  <th>Df Residuals:</th>          <td>  3403</td>      <th>  BIC:               </th> <td>6.828e+04</td>\n",
       "</tr>\n",
       "<tr>\n",
       "  <th>Df Model:</th>              <td>    14</td>      <th>                     </th>     <td> </td>    \n",
       "</tr>\n",
       "<tr>\n",
       "  <th>Covariance Type:</th>      <td>nonrobust</td>    <th>                     </th>     <td> </td>    \n",
       "</tr>\n",
       "</table>\n",
       "<table class=\"simpletable\">\n",
       "<tr>\n",
       "           <td></td>              <th>coef</th>     <th>std err</th>      <th>t</th>      <th>P>|t|</th>  <th>[0.025</th>    <th>0.975]</th>  \n",
       "</tr>\n",
       "<tr>\n",
       "  <th>const</th>               <td>  1.23e+04</td> <td>  328.143</td> <td>   37.481</td> <td> 0.000</td> <td> 1.17e+04</td> <td> 1.29e+04</td>\n",
       "</tr>\n",
       "<tr>\n",
       "  <th>Mileage</th>             <td>-2488.9434</td> <td>  123.403</td> <td>  -20.169</td> <td> 0.000</td> <td>-2730.895</td> <td>-2246.992</td>\n",
       "</tr>\n",
       "<tr>\n",
       "  <th>EngineV</th>             <td> 2588.4332</td> <td>  106.690</td> <td>   24.261</td> <td> 0.000</td> <td> 2379.250</td> <td> 2797.616</td>\n",
       "</tr>\n",
       "<tr>\n",
       "  <th>Registration</th>        <td> 6502.9377</td> <td>  314.116</td> <td>   20.702</td> <td> 0.000</td> <td> 5887.063</td> <td> 7118.813</td>\n",
       "</tr>\n",
       "<tr>\n",
       "  <th>Model</th>               <td>  703.6923</td> <td>  110.785</td> <td>    6.352</td> <td> 0.000</td> <td>  486.481</td> <td>  920.903</td>\n",
       "</tr>\n",
       "<tr>\n",
       "  <th>Engine Type_Diesel</th>  <td> 3830.0377</td> <td>  178.421</td> <td>   21.466</td> <td> 0.000</td> <td> 3480.215</td> <td> 4179.860</td>\n",
       "</tr>\n",
       "<tr>\n",
       "  <th>Engine Type_Gas</th>     <td> 2712.6749</td> <td>  249.451</td> <td>   10.875</td> <td> 0.000</td> <td> 2223.585</td> <td> 3201.765</td>\n",
       "</tr>\n",
       "<tr>\n",
       "  <th>Engine Type_Other</th>   <td> 2674.7165</td> <td>  445.220</td> <td>    6.008</td> <td> 0.000</td> <td> 1801.791</td> <td> 3547.642</td>\n",
       "</tr>\n",
       "<tr>\n",
       "  <th>Engine Type_Petrol</th>  <td> 3081.8219</td> <td>  204.878</td> <td>   15.042</td> <td> 0.000</td> <td> 2680.126</td> <td> 3483.518</td>\n",
       "</tr>\n",
       "<tr>\n",
       "  <th>Age of Vehcle</th>       <td> -681.3924</td> <td>   18.744</td> <td>  -36.352</td> <td> 0.000</td> <td> -718.143</td> <td> -644.642</td>\n",
       "</tr>\n",
       "<tr>\n",
       "  <th>Brand_Audi</th>          <td> 5345.7492</td> <td>  266.794</td> <td>   20.037</td> <td> 0.000</td> <td> 4822.657</td> <td> 5868.842</td>\n",
       "</tr>\n",
       "<tr>\n",
       "  <th>Brand_BMW</th>           <td> 6281.6834</td> <td>  254.156</td> <td>   24.716</td> <td> 0.000</td> <td> 5783.369</td> <td> 6779.998</td>\n",
       "</tr>\n",
       "<tr>\n",
       "  <th>Brand_Mercedes-Benz</th> <td> 3261.5278</td> <td>  223.527</td> <td>   14.591</td> <td> 0.000</td> <td> 2823.267</td> <td> 3699.789</td>\n",
       "</tr>\n",
       "<tr>\n",
       "  <th>Brand_Mitsubishi</th>    <td>-1354.9897</td> <td>  285.246</td> <td>   -4.750</td> <td> 0.000</td> <td>-1914.261</td> <td> -795.718</td>\n",
       "</tr>\n",
       "<tr>\n",
       "  <th>Brand_Renault</th>       <td>-3748.7493</td> <td>  272.318</td> <td>  -13.766</td> <td> 0.000</td> <td>-4282.672</td> <td>-3214.827</td>\n",
       "</tr>\n",
       "<tr>\n",
       "  <th>Brand_Toyota</th>        <td> 1941.7749</td> <td>  249.708</td> <td>    7.776</td> <td> 0.000</td> <td> 1452.181</td> <td> 2431.369</td>\n",
       "</tr>\n",
       "<tr>\n",
       "  <th>Brand_Volkswagen</th>    <td>  572.2546</td> <td>  205.793</td> <td>    2.781</td> <td> 0.005</td> <td>  168.764</td> <td>  975.745</td>\n",
       "</tr>\n",
       "</table>\n",
       "<table class=\"simpletable\">\n",
       "<tr>\n",
       "  <th>Omnibus:</th>       <td>610.241</td> <th>  Durbin-Watson:     </th> <td>   2.045</td>\n",
       "</tr>\n",
       "<tr>\n",
       "  <th>Prob(Omnibus):</th> <td> 0.000</td>  <th>  Jarque-Bera (JB):  </th> <td>1472.664</td>\n",
       "</tr>\n",
       "<tr>\n",
       "  <th>Skew:</th>          <td> 0.994</td>  <th>  Prob(JB):          </th> <td>    0.00</td>\n",
       "</tr>\n",
       "<tr>\n",
       "  <th>Kurtosis:</th>      <td> 5.528</td>  <th>  Cond. No.          </th> <td>1.86e+17</td>\n",
       "</tr>\n",
       "</table><br/><br/>Notes:<br/>[1] Standard Errors assume that the covariance matrix of the errors is correctly specified.<br/>[2] The smallest eigenvalue is 2.73e-29. This might indicate that there are<br/>strong multicollinearity problems or that the design matrix is singular."
      ],
      "text/plain": [
       "<class 'statsmodels.iolib.summary.Summary'>\n",
       "\"\"\"\n",
       "                            OLS Regression Results                            \n",
       "==============================================================================\n",
       "Dep. Variable:                  Price   R-squared:                       0.682\n",
       "Model:                            OLS   Adj. R-squared:                  0.680\n",
       "Method:                 Least Squares   F-statistic:                     520.8\n",
       "Date:                Sun, 18 Jul 2021   Prob (F-statistic):               0.00\n",
       "Time:                        22:36:21   Log-Likelihood:                -34080.\n",
       "No. Observations:                3418   AIC:                         6.819e+04\n",
       "Df Residuals:                    3403   BIC:                         6.828e+04\n",
       "Df Model:                          14                                         \n",
       "Covariance Type:            nonrobust                                         \n",
       "=======================================================================================\n",
       "                          coef    std err          t      P>|t|      [0.025      0.975]\n",
       "---------------------------------------------------------------------------------------\n",
       "const                 1.23e+04    328.143     37.481      0.000    1.17e+04    1.29e+04\n",
       "Mileage             -2488.9434    123.403    -20.169      0.000   -2730.895   -2246.992\n",
       "EngineV              2588.4332    106.690     24.261      0.000    2379.250    2797.616\n",
       "Registration         6502.9377    314.116     20.702      0.000    5887.063    7118.813\n",
       "Model                 703.6923    110.785      6.352      0.000     486.481     920.903\n",
       "Engine Type_Diesel   3830.0377    178.421     21.466      0.000    3480.215    4179.860\n",
       "Engine Type_Gas      2712.6749    249.451     10.875      0.000    2223.585    3201.765\n",
       "Engine Type_Other    2674.7165    445.220      6.008      0.000    1801.791    3547.642\n",
       "Engine Type_Petrol   3081.8219    204.878     15.042      0.000    2680.126    3483.518\n",
       "Age of Vehcle        -681.3924     18.744    -36.352      0.000    -718.143    -644.642\n",
       "Brand_Audi           5345.7492    266.794     20.037      0.000    4822.657    5868.842\n",
       "Brand_BMW            6281.6834    254.156     24.716      0.000    5783.369    6779.998\n",
       "Brand_Mercedes-Benz  3261.5278    223.527     14.591      0.000    2823.267    3699.789\n",
       "Brand_Mitsubishi    -1354.9897    285.246     -4.750      0.000   -1914.261    -795.718\n",
       "Brand_Renault       -3748.7493    272.318    -13.766      0.000   -4282.672   -3214.827\n",
       "Brand_Toyota         1941.7749    249.708      7.776      0.000    1452.181    2431.369\n",
       "Brand_Volkswagen      572.2546    205.793      2.781      0.005     168.764     975.745\n",
       "==============================================================================\n",
       "Omnibus:                      610.241   Durbin-Watson:                   2.045\n",
       "Prob(Omnibus):                  0.000   Jarque-Bera (JB):             1472.664\n",
       "Skew:                           0.994   Prob(JB):                         0.00\n",
       "Kurtosis:                       5.528   Cond. No.                     1.86e+17\n",
       "==============================================================================\n",
       "\n",
       "Notes:\n",
       "[1] Standard Errors assume that the covariance matrix of the errors is correctly specified.\n",
       "[2] The smallest eigenvalue is 2.73e-29. This might indicate that there are\n",
       "strong multicollinearity problems or that the design matrix is singular.\n",
       "\"\"\""
      ]
     },
     "execution_count": 651,
     "metadata": {},
     "output_type": "execute_result"
    }
   ],
   "source": [
    "# CODE HEREimport statsmodels.api as sm\n",
    "x_sm=sm.add_constant(x)\n",
    "model=sm.OLS(y,x_sm).fit()\n",
    "model.summary()"
   ]
  },
  {
   "cell_type": "markdown",
   "metadata": {},
   "source": [
    "** Here i dont get p_value over than 0.05 and r2 score is 0.688 and adjusted r2 value is 0.680**"
   ]
  },
  {
   "cell_type": "markdown",
   "metadata": {},
   "source": [
    "#### 13A. Feature Selection using with Forward Selection"
   ]
  },
  {
   "cell_type": "code",
   "execution_count": null,
   "metadata": {},
   "outputs": [],
   "source": []
  },
  {
   "cell_type": "markdown",
   "metadata": {},
   "source": [
    "** As i dont have p_value over than 0.05 so i didnot drop any columns here.**"
   ]
  },
  {
   "cell_type": "code",
   "execution_count": 126,
   "metadata": {},
   "outputs": [],
   "source": [
    "x=sm.add_constant(x)\n",
    "model=sm.OLS(y,x).fit()"
   ]
  },
  {
   "cell_type": "code",
   "execution_count": 127,
   "metadata": {},
   "outputs": [
    {
     "data": {
      "text/html": [
       "<table class=\"simpletable\">\n",
       "<caption>OLS Regression Results</caption>\n",
       "<tr>\n",
       "  <th>Dep. Variable:</th>          <td>Price</td>      <th>  R-squared:         </th> <td>   0.528</td> \n",
       "</tr>\n",
       "<tr>\n",
       "  <th>Model:</th>                   <td>OLS</td>       <th>  Adj. R-squared:    </th> <td>   0.527</td> \n",
       "</tr>\n",
       "<tr>\n",
       "  <th>Method:</th>             <td>Least Squares</td>  <th>  F-statistic:       </th> <td>   346.9</td> \n",
       "</tr>\n",
       "<tr>\n",
       "  <th>Date:</th>             <td>Sat, 17 Jul 2021</td> <th>  Prob (F-statistic):</th>  <td>  0.00</td>  \n",
       "</tr>\n",
       "<tr>\n",
       "  <th>Time:</th>                 <td>20:26:41</td>     <th>  Log-Likelihood:    </th> <td> -34753.</td> \n",
       "</tr>\n",
       "<tr>\n",
       "  <th>No. Observations:</th>      <td>  3418</td>      <th>  AIC:               </th> <td>6.953e+04</td>\n",
       "</tr>\n",
       "<tr>\n",
       "  <th>Df Residuals:</th>          <td>  3406</td>      <th>  BIC:               </th> <td>6.960e+04</td>\n",
       "</tr>\n",
       "<tr>\n",
       "  <th>Df Model:</th>              <td>    11</td>      <th>                     </th>     <td> </td>    \n",
       "</tr>\n",
       "<tr>\n",
       "  <th>Covariance Type:</th>      <td>nonrobust</td>    <th>                     </th>     <td> </td>    \n",
       "</tr>\n",
       "</table>\n",
       "<table class=\"simpletable\">\n",
       "<tr>\n",
       "           <td></td>             <th>coef</th>     <th>std err</th>      <th>t</th>      <th>P>|t|</th>  <th>[0.025</th>    <th>0.975]</th>  \n",
       "</tr>\n",
       "<tr>\n",
       "  <th>const</th>              <td> 4836.6963</td> <td>  224.314</td> <td>   21.562</td> <td> 0.000</td> <td> 4396.892</td> <td> 5276.500</td>\n",
       "</tr>\n",
       "<tr>\n",
       "  <th>Mileage</th>            <td>-4446.0178</td> <td>  120.280</td> <td>  -36.964</td> <td> 0.000</td> <td>-4681.847</td> <td>-4210.189</td>\n",
       "</tr>\n",
       "<tr>\n",
       "  <th>EngineV</th>            <td> 2737.0595</td> <td>  130.699</td> <td>   20.942</td> <td> 0.000</td> <td> 2480.803</td> <td> 2993.316</td>\n",
       "</tr>\n",
       "<tr>\n",
       "  <th>Registration_no</th>    <td>-1275.9305</td> <td>  246.220</td> <td>   -5.182</td> <td> 0.000</td> <td>-1758.685</td> <td> -793.176</td>\n",
       "</tr>\n",
       "<tr>\n",
       "  <th>Registration_yes</th>   <td> 6112.6267</td> <td>  190.830</td> <td>   32.032</td> <td> 0.000</td> <td> 5738.474</td> <td> 6486.779</td>\n",
       "</tr>\n",
       "<tr>\n",
       "  <th>Engine Type_Diesel</th> <td> 3558.7657</td> <td>  217.186</td> <td>   16.386</td> <td> 0.000</td> <td> 3132.938</td> <td> 3984.594</td>\n",
       "</tr>\n",
       "<tr>\n",
       "  <th>Engine Type_Gas</th>    <td>-1173.8411</td> <td>  281.155</td> <td>   -4.175</td> <td> 0.000</td> <td>-1725.090</td> <td> -622.592</td>\n",
       "</tr>\n",
       "<tr>\n",
       "  <th>Engine Type_Other</th>  <td> 1613.7986</td> <td>  532.640</td> <td>    3.030</td> <td> 0.002</td> <td>  569.473</td> <td> 2658.124</td>\n",
       "</tr>\n",
       "<tr>\n",
       "  <th>Engine Type_Petrol</th> <td>  837.9731</td> <td>  233.516</td> <td>    3.589</td> <td> 0.000</td> <td>  380.128</td> <td> 1295.818</td>\n",
       "</tr>\n",
       "<tr>\n",
       "  <th>Body_crossover</th>     <td> 5256.1755</td> <td>  482.121</td> <td>   10.902</td> <td> 0.000</td> <td> 4310.900</td> <td> 6201.451</td>\n",
       "</tr>\n",
       "<tr>\n",
       "  <th>Body_hatch</th>         <td>-1286.5842</td> <td>  533.042</td> <td>   -2.414</td> <td> 0.016</td> <td>-2331.699</td> <td> -241.469</td>\n",
       "</tr>\n",
       "<tr>\n",
       "  <th>Body_other</th>         <td> 1474.5194</td> <td>  490.224</td> <td>    3.008</td> <td> 0.003</td> <td>  513.356</td> <td> 2435.682</td>\n",
       "</tr>\n",
       "<tr>\n",
       "  <th>Body_sedan</th>         <td>  892.6400</td> <td>  391.888</td> <td>    2.278</td> <td> 0.023</td> <td>  124.281</td> <td> 1660.999</td>\n",
       "</tr>\n",
       "<tr>\n",
       "  <th>Body_van</th>           <td>-1853.5968</td> <td>  431.416</td> <td>   -4.297</td> <td> 0.000</td> <td>-2699.457</td> <td>-1007.737</td>\n",
       "</tr>\n",
       "</table>\n",
       "<table class=\"simpletable\">\n",
       "<tr>\n",
       "  <th>Omnibus:</th>       <td>369.998</td> <th>  Durbin-Watson:     </th> <td>   2.046</td> \n",
       "</tr>\n",
       "<tr>\n",
       "  <th>Prob(Omnibus):</th> <td> 0.000</td>  <th>  Jarque-Bera (JB):  </th> <td> 763.814</td> \n",
       "</tr>\n",
       "<tr>\n",
       "  <th>Skew:</th>          <td> 0.681</td>  <th>  Prob(JB):          </th> <td>1.38e-166</td>\n",
       "</tr>\n",
       "<tr>\n",
       "  <th>Kurtosis:</th>      <td> 4.873</td>  <th>  Cond. No.          </th> <td>5.03e+16</td> \n",
       "</tr>\n",
       "</table><br/><br/>Notes:<br/>[1] Standard Errors assume that the covariance matrix of the errors is correctly specified.<br/>[2] The smallest eigenvalue is 3.3e-30. This might indicate that there are<br/>strong multicollinearity problems or that the design matrix is singular."
      ],
      "text/plain": [
       "<class 'statsmodels.iolib.summary.Summary'>\n",
       "\"\"\"\n",
       "                            OLS Regression Results                            \n",
       "==============================================================================\n",
       "Dep. Variable:                  Price   R-squared:                       0.528\n",
       "Model:                            OLS   Adj. R-squared:                  0.527\n",
       "Method:                 Least Squares   F-statistic:                     346.9\n",
       "Date:                Sat, 17 Jul 2021   Prob (F-statistic):               0.00\n",
       "Time:                        20:26:41   Log-Likelihood:                -34753.\n",
       "No. Observations:                3418   AIC:                         6.953e+04\n",
       "Df Residuals:                    3406   BIC:                         6.960e+04\n",
       "Df Model:                          11                                         \n",
       "Covariance Type:            nonrobust                                         \n",
       "======================================================================================\n",
       "                         coef    std err          t      P>|t|      [0.025      0.975]\n",
       "--------------------------------------------------------------------------------------\n",
       "const               4836.6963    224.314     21.562      0.000    4396.892    5276.500\n",
       "Mileage            -4446.0178    120.280    -36.964      0.000   -4681.847   -4210.189\n",
       "EngineV             2737.0595    130.699     20.942      0.000    2480.803    2993.316\n",
       "Registration_no    -1275.9305    246.220     -5.182      0.000   -1758.685    -793.176\n",
       "Registration_yes    6112.6267    190.830     32.032      0.000    5738.474    6486.779\n",
       "Engine Type_Diesel  3558.7657    217.186     16.386      0.000    3132.938    3984.594\n",
       "Engine Type_Gas    -1173.8411    281.155     -4.175      0.000   -1725.090    -622.592\n",
       "Engine Type_Other   1613.7986    532.640      3.030      0.002     569.473    2658.124\n",
       "Engine Type_Petrol   837.9731    233.516      3.589      0.000     380.128    1295.818\n",
       "Body_crossover      5256.1755    482.121     10.902      0.000    4310.900    6201.451\n",
       "Body_hatch         -1286.5842    533.042     -2.414      0.016   -2331.699    -241.469\n",
       "Body_other          1474.5194    490.224      3.008      0.003     513.356    2435.682\n",
       "Body_sedan           892.6400    391.888      2.278      0.023     124.281    1660.999\n",
       "Body_van           -1853.5968    431.416     -4.297      0.000   -2699.457   -1007.737\n",
       "==============================================================================\n",
       "Omnibus:                      369.998   Durbin-Watson:                   2.046\n",
       "Prob(Omnibus):                  0.000   Jarque-Bera (JB):              763.814\n",
       "Skew:                           0.681   Prob(JB):                    1.38e-166\n",
       "Kurtosis:                       4.873   Cond. No.                     5.03e+16\n",
       "==============================================================================\n",
       "\n",
       "Notes:\n",
       "[1] Standard Errors assume that the covariance matrix of the errors is correctly specified.\n",
       "[2] The smallest eigenvalue is 3.3e-30. This might indicate that there are\n",
       "strong multicollinearity problems or that the design matrix is singular.\n",
       "\"\"\""
      ]
     },
     "execution_count": 127,
     "metadata": {},
     "output_type": "execute_result"
    }
   ],
   "source": [
    "model.summary()"
   ]
  },
  {
   "cell_type": "code",
   "execution_count": 76,
   "metadata": {},
   "outputs": [],
   "source": [
    "###CODEHERE\n",
    "from sklearn.model_selection import train_test_split\n",
    "x_train,x_test,y_train,y_test=train_test_split(x,y,test_size=0.2,random_state=42)"
   ]
  },
  {
   "cell_type": "code",
   "execution_count": 77,
   "metadata": {},
   "outputs": [
    {
     "data": {
      "text/plain": [
       "LinearRegression()"
      ]
     },
     "execution_count": 77,
     "metadata": {},
     "output_type": "execute_result"
    }
   ],
   "source": [
    "from sklearn.linear_model import LinearRegression\n",
    "model_lr=LinearRegression()\n",
    "model_lr.fit(x_train,y_train)\n",
    "y_pred=model_lr.predict(x_test)"
   ]
  },
  {
   "cell_type": "code",
   "execution_count": 78,
   "metadata": {},
   "outputs": [],
   "source": [
    "y_pred=model_lr.predict(x_test)"
   ]
  },
  {
   "cell_type": "code",
   "execution_count": 79,
   "metadata": {},
   "outputs": [
    {
     "data": {
      "text/plain": [
       "array([ 2.12479299e+04,  2.37689008e+04,  2.38711961e+04,  2.25493946e+04,\n",
       "        1.41278241e+03,  1.94952408e+04,  4.21378848e+04,  4.33025541e+04,\n",
       "        3.92485097e+04, -2.96061323e+04,  2.58290783e+04,  2.97614432e+03,\n",
       "        1.83381859e+04,  5.17303530e+04,  7.11091416e+03,  2.63160691e+04,\n",
       "        4.06597691e+04,  5.02740787e+02,  3.27320228e+04,  4.05717391e+04,\n",
       "        3.48193722e+04,  2.93283309e+04,  3.20886702e+04,  9.82761682e+02,\n",
       "        1.78437023e+04,  1.55000828e+04,  7.15168060e+03,  4.00038171e+03,\n",
       "        2.14290454e+04,  1.13607239e+04,  3.24581614e+04,  3.65614396e+04,\n",
       "        4.80980504e+04,  3.92564182e+04,  3.12348392e+04, -6.15933128e+03,\n",
       "        2.87395975e+04,  3.70179442e+04, -6.03984643e+03,  1.95340630e+04,\n",
       "        1.98848319e+04,  3.01806402e+04, -6.92202223e+03,  2.99607563e+04,\n",
       "        1.13050677e+04,  1.34784084e+04, -2.96854310e+03,  2.53802376e+04,\n",
       "        4.19511452e+03,  3.71594020e+04, -1.18429184e+04,  5.20350617e+04,\n",
       "       -2.27877366e+04,  1.96944592e+04,  2.19697705e+04,  3.70956271e+04,\n",
       "        1.64473987e+04,  4.83245506e+04, -6.07147964e+03,  2.99444234e+04,\n",
       "        5.38035510e+04,  2.67219868e+04,  1.04115432e+04,  3.98511824e+04,\n",
       "        1.48040422e+04,  3.23763500e+04,  3.22444559e+04,  1.31780421e+04,\n",
       "        2.96267615e+04,  1.97090558e+04, -5.78017805e+03,  5.10422931e+03,\n",
       "        2.90194521e+04,  3.08648965e+04,  2.60514243e+04,  3.19481294e+04,\n",
       "        4.08369655e+04,  2.42875876e+04, -3.11398094e+03,  4.08008713e+04,\n",
       "        3.01929927e+04,  1.64070924e+04,  1.61048829e+04,  2.16590924e+04,\n",
       "        1.11541753e+04, -1.03418268e+04,  1.75509316e+04,  2.67405881e+04,\n",
       "        5.73010770e+04,  4.36626431e+04,  2.00565608e+04,  5.73010770e+04,\n",
       "        2.89821798e+04,  2.57902109e+04, -1.77705743e+04,  2.85921454e+03,\n",
       "        4.42595841e+04,  3.93328754e+04,  1.53954757e+04,  3.32167278e+03,\n",
       "       -8.57336776e+02,  2.93838123e+04,  1.01204859e+04,  1.01144159e+04,\n",
       "        2.17069516e+04, -1.02732075e+04,  2.96054176e+04,  2.42646354e+04,\n",
       "        2.29010914e+04,  1.83323146e+04,  1.83751321e+04,  2.76896469e+04,\n",
       "        5.20287262e+04,  2.95838162e+04,  4.49271055e+04,  2.77239325e+04,\n",
       "        5.47297252e+03,  2.97483018e+04,  1.56797388e+04,  3.06033874e+04,\n",
       "       -1.31848652e+03,  3.72193019e+04, -1.58626220e+04, -1.59445966e+04,\n",
       "        5.73010770e+04,  2.04544287e+04,  1.56621450e+04, -5.74109913e+03,\n",
       "       -4.22909503e+02,  2.06120134e+04,  7.95133126e+03,  1.56607781e+04,\n",
       "        8.78960969e+03,  1.82931209e+04,  4.16415834e+04,  2.24658031e+04,\n",
       "        2.47403239e+04, -1.29332474e+04,  6.09351745e+03,  4.00038171e+03,\n",
       "        1.46528166e+04,  2.61734455e+04,  7.60698374e+03,  4.93244594e+04,\n",
       "        1.49403194e+04,  1.63985564e+04,  1.50492496e+04,  4.57721641e+03,\n",
       "        9.81454005e+03,  1.83652164e+03,  3.88179214e+04,  2.29198629e+04,\n",
       "        2.91677375e+04,  2.78306760e+03, -2.54260226e+03,  3.09670753e+04,\n",
       "        1.74845678e+04,  3.60422031e+04,  1.33582186e+04,  6.75520885e+03,\n",
       "        1.60590675e+04, -1.07666958e+03,  1.28977225e+04, -8.21222824e+03,\n",
       "        4.56683983e+04,  6.18621004e+03,  3.55427370e+04,  2.64836845e+04,\n",
       "        6.92437908e+03, -1.53354545e+03,  1.08689808e+04, -8.09149059e+03,\n",
       "        2.10498978e+04, -3.09354376e+03,  1.93472330e+04,  7.56069706e+03,\n",
       "        1.46375117e+04,  2.43229866e+04,  7.41923669e+03,  1.94864405e+04,\n",
       "        4.51917821e+04,  3.70973989e+04,  2.69289119e+04,  2.51674191e+04,\n",
       "        1.22485072e+04,  1.71224662e+04,  3.38329857e+04,  2.64118492e+04,\n",
       "        2.10951611e+04,  1.21391863e+04,  4.00832506e+04,  8.49192824e+03,\n",
       "        2.84579051e+04,  1.44101025e+04,  4.63980718e+04, -1.85743582e+04,\n",
       "        7.20789112e+03,  5.75201094e+04,  3.24776370e+04,  3.28379922e+04,\n",
       "        2.85189824e+04,  2.67214422e+04,  1.06562428e+04,  2.29582794e+04,\n",
       "        4.62582032e+04,  3.72446352e+04,  5.09246423e+03, -9.94507121e+03,\n",
       "        1.39020567e+04, -2.66689906e+04,  1.97616498e+04,  1.17925628e+04,\n",
       "       -1.12351715e+04,  8.82005936e+03,  2.71697931e+04,  2.64513261e+04,\n",
       "        3.04511825e+04,  3.83855879e+04, -8.61547423e+03,  4.05981481e+04,\n",
       "        5.73617225e+04,  6.20715683e+03,  5.64877116e+03,  1.85184132e+04,\n",
       "        3.14676419e+03,  1.45205289e+04,  4.26604269e+04,  1.08583196e+04,\n",
       "        1.14385790e+03,  3.00590479e+04,  2.01116339e+04,  1.54428490e+04,\n",
       "       -2.12536780e+03,  3.42990379e+04,  1.45645309e+04,  1.03561452e+04,\n",
       "        3.21112255e+03,  1.42641896e+04,  4.18704885e+04,  2.29992352e+04,\n",
       "        3.30589993e+04,  2.04966380e+04, -7.28962496e+03,  4.19332213e+04,\n",
       "        3.83796571e+04,  1.29749040e+04, -1.56520605e+03,  2.41551296e+04,\n",
       "        4.43808752e+04,  2.29011811e+04,  2.67165328e+04,  1.81277391e+04,\n",
       "        3.72463489e+03,  1.11053927e+04,  1.46143810e+04, -4.89459556e+03,\n",
       "        3.22341539e+04,  3.40240093e+04,  1.83692260e+04,  1.37752459e+04,\n",
       "       -3.95448769e+03,  1.73346129e+04,  2.00664699e+04,  5.06163808e+04,\n",
       "        2.45817183e+04, -8.84374033e+03, -1.66917394e+04, -4.44720502e+03,\n",
       "        5.00824886e+04,  2.83071784e+04,  4.54563059e+04,  1.70356968e+04,\n",
       "        1.46853762e+04,  1.03113911e+04, -2.75171535e+04,  2.37041289e+04,\n",
       "        1.51213112e+04,  1.59966138e+04,  3.62560928e+04,  1.36415494e+04,\n",
       "        1.49954800e+04, -9.35870254e+03, -1.92078141e+04, -2.86861363e+04,\n",
       "        2.55479212e+04,  1.56887845e+04, -1.77832492e+03,  1.50300660e+04,\n",
       "       -7.32913944e+03,  7.23750500e+03,  3.62235398e+04,  6.31456392e+03,\n",
       "       -4.16251876e+03,  2.32906912e+04,  2.85057589e+04, -4.16385212e+03,\n",
       "        8.03742635e+03,  2.70922904e+04,  1.66544108e+04,  3.85359775e+04,\n",
       "        4.52067471e+03,  4.32537710e+04,  5.60452450e+04,  1.65741111e+04,\n",
       "        1.78495401e+04,  2.68618792e+04,  5.18531250e+04,  1.67466065e+04,\n",
       "        9.63687584e+03,  1.62093125e+04,  4.03890978e+04,  2.11123151e+04,\n",
       "        3.53419622e+04,  2.31387604e+04,  5.19814177e+03,  2.79911030e+04,\n",
       "        2.37456889e+04,  2.41297229e+04,  2.23610924e+04,  1.51117234e+03,\n",
       "        2.90221914e+04,  6.88095930e+03,  2.16220320e+04,  2.53565300e+04,\n",
       "        3.28998977e+04,  5.01505866e+04,  2.79257013e+04,  1.06641184e+04,\n",
       "        2.93220991e+04, -4.91290675e+03,  2.21544581e+04,  2.25062621e+04,\n",
       "       -7.71060134e+03,  1.63298398e+04, -2.14660752e+04,  2.82155981e+04,\n",
       "       -1.47793087e+03,  5.55432566e+04, -1.25562253e+03,  1.13497337e+04,\n",
       "        5.55423555e+04,  2.02776206e+04, -1.88974356e+04,  2.40772937e+04,\n",
       "        1.75818266e+04,  7.57698994e+03,  4.40524044e+04, -1.19681669e+02,\n",
       "        1.11575837e+04,  1.54201563e+04,  5.77126893e+04,  2.55186827e+04,\n",
       "        7.44901438e+02,  4.71965109e+03,  2.78512590e+04,  2.11864632e+04,\n",
       "        3.81457715e+04, -2.88396010e+03,  3.21362718e+04,  2.93959208e+04,\n",
       "        1.59640059e+04,  1.86667927e+04,  1.38679004e+04,  2.03801950e+04,\n",
       "        1.18881774e+04,  5.12014620e+04,  2.06055424e+04,  1.54101644e+04,\n",
       "       -5.92312984e+03,  1.56443923e+04,  9.81232655e+03,  2.13023490e+04,\n",
       "       -1.29928249e+04,  4.52671333e+04, -6.57756379e+02,  3.13208045e+04,\n",
       "        1.58010791e+04,  2.56085668e+04,  5.38363640e+04, -8.50885658e+03,\n",
       "        3.18073764e+04,  1.04497555e+04, -8.66844095e+03,  2.80931500e+04,\n",
       "        1.62197142e+04,  1.17476762e+04,  3.10629374e+04,  2.76038004e+04,\n",
       "        4.63072643e+04,  1.61781321e+04,  1.29744220e+04,  7.20642392e+03,\n",
       "        1.95457819e+04,  3.18115832e+04,  5.73446260e+04,  3.31398070e+04,\n",
       "        1.53864462e+04, -7.39234163e+03,  3.11402751e+04,  2.63628727e+04,\n",
       "        2.01607750e+04,  4.07416940e+04,  3.46357218e+04, -9.69754892e+03,\n",
       "        5.39810324e+03,  4.21130708e+04,  3.48021726e+04,  2.31930587e+04,\n",
       "        3.21738542e+04,  1.34865406e+04,  4.24029005e+04,  3.62810496e+04,\n",
       "        1.82450181e+03,  2.36804376e+04,  2.72507409e+04,  3.11239105e+03,\n",
       "        2.10020973e+04,  4.03933387e+04,  1.01122045e+04,  1.02105441e+03,\n",
       "        5.74528274e+04,  4.07933769e+04, -5.07265010e+03,  4.81590445e+03,\n",
       "        5.17957094e+04,  3.50324280e+04,  1.65993575e+04,  4.19311341e+04,\n",
       "        5.52173496e+04,  1.55596591e+04,  3.58638100e+04,  2.19905372e+04,\n",
       "        7.54771546e+03,  2.34739487e+04, -5.29625295e+03,  2.83357322e+04,\n",
       "        2.63357223e+04,  1.89411397e+04,  1.85752869e+04,  3.31262860e+04,\n",
       "        1.37238522e+04,  1.40859538e+04,  1.54181958e+04,  3.96726298e+04,\n",
       "        2.94613729e+04, -3.64370084e+03,  4.73249108e+04,  2.21774694e+04,\n",
       "        3.74734915e+04,  3.50286181e+04,  2.28606092e+04, -2.01790399e+04,\n",
       "        2.64168522e+04,  2.16847225e+04,  2.34197736e+04,  4.44202342e+04,\n",
       "        4.79071939e+03,  2.57094085e+04,  4.41809072e+04,  1.24456188e+04,\n",
       "        3.39860561e+04,  3.86464189e+04,  2.85615402e+04, -1.75218015e+04,\n",
       "       -1.08438359e+02,  2.78427794e+04,  3.35656279e+04,  3.18769443e+04,\n",
       "        1.98817113e+04,  9.61843690e+03,  3.48968072e+04,  4.19311341e+04,\n",
       "        1.39654265e+04,  2.26791069e+04,  2.21890633e+04,  1.10788655e+04,\n",
       "        6.21986497e+03,  1.92106943e+04,  2.37266691e+04,  4.32892550e+04,\n",
       "        5.38007847e+03,  3.00512805e+04,  4.14457296e+04,  4.28916086e+04,\n",
       "        3.75614476e+04, -1.15684453e+04, -1.20671384e+04,  4.21027961e+04,\n",
       "       -4.64000866e+03,  3.14396974e+04,  2.12813085e+04,  1.99577713e+04,\n",
       "        6.92897746e+03,  8.97259644e+03,  2.60002295e+04,  2.60329725e+04,\n",
       "        1.43310595e+04,  2.36242367e+04,  5.48930930e+03,  1.99375069e+04,\n",
       "        2.13669207e+04,  1.85699935e+04, -1.04638215e+04,  1.36589667e+04,\n",
       "        3.54834679e+04,  3.51585126e+04,  2.47079173e+04,  1.04279889e+04,\n",
       "        3.53076801e+04,  3.30281539e+04,  1.29522728e+04,  1.51178411e+04,\n",
       "        2.90833039e+04,  4.04200559e+04,  8.39845010e+03,  5.41645969e+04,\n",
       "        7.27347052e+03,  3.28127156e+04,  9.71928433e+03,  2.26166351e+04,\n",
       "        2.27007506e+04,  2.09761534e+04, -1.96276663e+03,  5.35884382e+03,\n",
       "        4.53530718e+04,  1.95662875e+04,  1.85659113e+04,  3.04530117e+04,\n",
       "        1.71438873e+04, -3.32832945e+03,  9.66842216e+03,  5.32641015e+04,\n",
       "        1.19663026e+04,  3.87898688e+03,  1.49256998e+04,  1.06013019e+04,\n",
       "        7.13067243e+03, -1.02649047e+04, -1.52100844e+04,  5.54815219e+03,\n",
       "        3.12199599e+04,  1.72768270e+04,  3.36742411e+04,  1.80198423e+04,\n",
       "        2.54081574e+04,  2.62531293e+04,  8.76849705e+03,  2.22672228e+04,\n",
       "        1.64375955e+04,  2.97315034e+04,  7.55341961e+03,  1.93369513e+04,\n",
       "        2.86854276e+04,  3.51537192e+04, -1.29756363e+04,  4.41407096e+04,\n",
       "        8.01827904e+01,  5.73010770e+04,  3.95596460e+04,  2.89148399e+04,\n",
       "        8.99591309e+03, -7.39106047e+03,  1.07267073e+04,  4.22937898e+04,\n",
       "       -4.28256482e+03,  3.02623952e+03,  2.92602626e+04,  1.29263043e+04,\n",
       "        1.98337472e+04,  2.70958702e+04,  3.43929712e+04,  4.86663254e+03,\n",
       "        3.63949232e+04, -4.59157167e+03,  1.31617343e+04,  2.44744186e+04,\n",
       "        1.67004630e+04,  2.05555565e+04,  1.69923077e+04, -6.45694196e+02,\n",
       "        1.15921426e+04,  2.93814740e+04,  1.37748393e+04,  1.91346930e+04,\n",
       "        3.25770368e+04,  2.82125958e+04,  1.92652064e+04,  7.75567596e+02,\n",
       "        2.65115235e+02, -9.65356839e+03,  3.51205995e+04,  4.66463791e+04,\n",
       "        2.78510425e+04,  3.42063563e+03,  1.14753557e+04,  3.46455727e+03,\n",
       "        1.32789896e+04,  8.81232515e+03,  9.46869482e+03,  5.32636926e+03,\n",
       "       -1.37046743e+04,  4.81823816e+04,  1.05773204e+04,  4.17253492e+04,\n",
       "        3.03758672e+04, -2.19046219e+03,  2.90028408e+03, -1.96089822e+03,\n",
       "        3.20508124e+04,  2.66795103e+03,  1.99716773e+04,  2.56988168e+04,\n",
       "        9.57905211e+03,  1.05554206e+04,  1.18771963e+04, -1.41237881e+03,\n",
       "       -8.00674201e+03,  8.48663551e+03,  4.51123054e+04,  2.64823111e+04,\n",
       "        3.73151600e+04,  1.91095143e+04, -4.93236956e+03,  1.81103302e+04,\n",
       "       -4.41882191e+03,  4.54596763e+03,  1.97127895e+04,  5.17132564e+04,\n",
       "       -6.75812931e+02,  1.30428138e+04,  3.73019642e+04,  3.73630198e+04,\n",
       "       -9.12643899e+02,  2.23494516e+04,  5.20287262e+04,  9.28292921e+02,\n",
       "       -1.41370729e+04,  5.73010770e+04,  3.89981145e+04,  2.81392211e+04,\n",
       "        1.98392093e+04,  1.92606717e+04,  2.40955733e+04,  2.22596152e+04,\n",
       "        1.86037187e+04,  7.17714968e+03,  7.07426673e+03,  1.58489092e+04,\n",
       "       -1.35695359e+03, -9.66947812e+02,  3.14610830e+04,  2.81588723e+04,\n",
       "        1.95434542e+04, -2.02393201e+04,  1.12277255e+04,  2.77865904e+04,\n",
       "        3.87020600e+04,  5.86879535e+03,  1.89374412e+04,  2.43024503e+04,\n",
       "        8.73061143e+03,  2.42931283e+04,  3.36534144e+04,  3.21252335e+04,\n",
       "        3.50107247e+03,  5.20350617e+04,  1.54004949e+03,  2.53464386e+04,\n",
       "        1.59476824e+04,  1.38259887e+04,  3.90487077e+04, -3.07321775e+03,\n",
       "        6.08894129e+03,  2.56391031e+04,  1.50225728e+04,  1.59780471e+04,\n",
       "        1.49151403e+04,  1.56231820e+04,  3.21738542e+04,  1.31627173e+04,\n",
       "        4.35309610e+04,  1.75084799e+04,  2.84423659e+04,  8.25524280e+03,\n",
       "        4.51925966e+04,  4.93753689e+04,  1.27840889e+04,  1.72486675e+04,\n",
       "        5.77126893e+04,  4.46601307e+03,  4.57165548e+03,  3.15678293e+04,\n",
       "        2.91424891e+04,  1.97025965e+04,  2.17627740e+04,  3.73692092e+04,\n",
       "        3.31236061e+04, -1.30182956e+04,  7.34507524e+03,  4.97812635e+03,\n",
       "        2.25631312e+04,  2.95468718e+04,  2.16281157e+04,  2.25174146e+04,\n",
       "       -2.41095116e+03,  5.10156354e+02,  2.93302827e+03,  1.67870156e+04,\n",
       "        2.29198629e+04,  1.44556759e+04,  4.16357354e+04,  1.76034083e+04,\n",
       "        1.48379039e+04,  1.21321823e+04,  4.82248749e+04,  3.56891795e+04,\n",
       "        6.67974580e+03,  1.91613523e+03,  4.52925948e+04,  9.80294308e+03,\n",
       "       -1.16129537e+04,  1.01691792e+04,  2.04695141e+04,  3.20775563e+04,\n",
       "       -2.94228343e+03,  2.80617288e+04,  1.17472285e+04,  4.14634249e+04,\n",
       "        2.85966167e+04,  2.45234622e+04,  3.41862373e+04,  2.81861874e+04,\n",
       "        4.92560730e+04,  6.22761126e+03,  2.53777151e+04,  1.97476080e+04,\n",
       "        2.99413948e+04, -1.62520833e+03,  3.20747610e+04, -1.63298193e+04,\n",
       "        1.38795720e+04,  2.96628475e+04,  3.34912968e+04,  2.56489164e+04,\n",
       "        1.34825550e+04,  1.60604894e+04,  5.42239934e+03,  1.66175364e+04,\n",
       "       -9.04050536e+03, -1.13859176e+03,  2.85319349e+04, -2.10400368e+04,\n",
       "        2.49024848e+04,  4.48316495e+03,  1.67626431e+04,  9.41424159e+03,\n",
       "        2.96562529e+04,  2.63076465e+04,  3.25770368e+04,  4.06568006e+04,\n",
       "        9.15235534e+03,  2.75908017e+04,  3.73164313e+04,  6.96834952e+02,\n",
       "        2.75402490e+04,  1.03585350e+04,  1.09798746e+04,  5.13999318e+04,\n",
       "        2.20524248e+04, -2.19429659e+04,  3.70969847e+04,  3.27358290e+04,\n",
       "        4.59938110e+04,  3.92142523e+04,  3.86393930e+03,  9.24474858e+03,\n",
       "        2.17169990e+04,  2.09154456e+04,  1.02274620e+04,  2.52766718e+04,\n",
       "        4.44877060e+04,  2.31623701e+04,  2.99099835e+04,  2.89261209e+04,\n",
       "        2.81050923e+04, -3.17583229e+03,  5.20452780e+04, -1.04782579e+04,\n",
       "        3.00287453e+04,  2.00609682e+04, -6.25845605e+00, -1.51204000e+03,\n",
       "        4.63801530e+04,  2.82977997e+04,  2.12407588e+04, -3.81768473e+03,\n",
       "        1.06972724e+03,  2.58421732e+04,  1.99609195e+04,  1.95396521e+04,\n",
       "        3.86154135e+04,  4.80981101e+03,  6.60051662e+03,  1.62377763e+04,\n",
       "        1.62645609e+04])"
      ]
     },
     "execution_count": 79,
     "metadata": {},
     "output_type": "execute_result"
    }
   ],
   "source": [
    "y_pred"
   ]
  },
  {
   "cell_type": "code",
   "execution_count": null,
   "metadata": {},
   "outputs": [],
   "source": []
  },
  {
   "cell_type": "code",
   "execution_count": 136,
   "metadata": {},
   "outputs": [],
   "source": [
    "###Interpretations"
   ]
  },
  {
   "cell_type": "markdown",
   "metadata": {},
   "source": [
    "#### 13B. Feature Selection using with Backward Selection"
   ]
  },
  {
   "cell_type": "code",
   "execution_count": 653,
   "metadata": {},
   "outputs": [
    {
     "name": "stdout",
     "output_type": "stream",
     "text": [
      "p value not exceeding 0.05 in this feature\n",
      "p value not exceeding 0.05 in this feature\n",
      "p value not exceeding 0.05 in this feature\n",
      "p value not exceeding 0.05 in this feature\n",
      "p value not exceeding 0.05 in this feature\n",
      "p value not exceeding 0.05 in this feature\n",
      "p value not exceeding 0.05 in this feature\n",
      "p value not exceeding 0.05 in this feature\n",
      "p value not exceeding 0.05 in this feature\n",
      "p value not exceeding 0.05 in this feature\n",
      "p value not exceeding 0.05 in this feature\n",
      "p value not exceeding 0.05 in this feature\n",
      "p value not exceeding 0.05 in this feature\n",
      "p value not exceeding 0.05 in this feature\n",
      "p value not exceeding 0.05 in this feature\n",
      "p value not exceeding 0.05 in this feature\n",
      "p value not exceeding 0.05 in this feature\n"
     ]
    }
   ],
   "source": [
    "###CODEHERE\n",
    "for i in range(0,len(model.pvalues)):\n",
    "    if (model.pvalues[i] > 0.05):\n",
    "          print(\"model.pvalues[i]\")\n",
    "    else:\n",
    "        print(\"p value not exceeding 0.05 in this feature\")"
   ]
  },
  {
   "cell_type": "markdown",
   "metadata": {},
   "source": [
    "###Interpretations\n",
    "** so here you can see that there is no p value greater than 0.05.**"
   ]
  },
  {
   "cell_type": "markdown",
   "metadata": {},
   "source": [
    "#### 14A. Explain about Assumption of errors and predictors\n"
   ]
  },
  {
   "cell_type": "code",
   "execution_count": 655,
   "metadata": {},
   "outputs": [
    {
     "data": {
      "text/plain": [
       "3809.4314485596497"
      ]
     },
     "execution_count": 655,
     "metadata": {},
     "output_type": "execute_result"
    }
   ],
   "source": [
    "###CODEHERE\n",
    "mean_absolute_error(y_test,y_pred)"
   ]
  },
  {
   "cell_type": "markdown",
   "metadata": {},
   "source": [
    "** Here mean absolute error is 3809.34**"
   ]
  },
  {
   "cell_type": "markdown",
   "metadata": {},
   "source": [
    "#### 14B. Perform Residual Analysis Give The Interpretations."
   ]
  },
  {
   "cell_type": "code",
   "execution_count": 619,
   "metadata": {},
   "outputs": [],
   "source": [
    "#CODE HERE\n",
    "from sklearn.metrics import mean_absolute_error,mean_squared_error,r2_score\n"
   ]
  },
  {
   "cell_type": "code",
   "execution_count": 620,
   "metadata": {},
   "outputs": [
    {
     "data": {
      "text/plain": [
       "25068742.612609334"
      ]
     },
     "execution_count": 620,
     "metadata": {},
     "output_type": "execute_result"
    }
   ],
   "source": [
    "mean_squared_error(y_test,y_pred)"
   ]
  },
  {
   "cell_type": "code",
   "execution_count": 621,
   "metadata": {},
   "outputs": [
    {
     "data": {
      "text/plain": [
       "3809.4314485596497"
      ]
     },
     "execution_count": 621,
     "metadata": {},
     "output_type": "execute_result"
    }
   ],
   "source": [
    "mean_absolute_error(y_test,y_pred)"
   ]
  },
  {
   "cell_type": "code",
   "execution_count": 622,
   "metadata": {},
   "outputs": [
    {
     "data": {
      "text/plain": [
       "0.6997650026416253"
      ]
     },
     "execution_count": 622,
     "metadata": {},
     "output_type": "execute_result"
    }
   ],
   "source": [
    "r2_score(y_test,y_pred) #"
   ]
  },
  {
   "cell_type": "markdown",
   "metadata": {},
   "source": [
    "** Here i am getting around 70% accuracy .My r_squre value is around 70 which is good**"
   ]
  },
  {
   "cell_type": "code",
   "execution_count": 147,
   "metadata": {},
   "outputs": [],
   "source": [
    "#Intepretations"
   ]
  },
  {
   "cell_type": "markdown",
   "metadata": {},
   "source": [
    "#### 15A. Split The Dataset into Train and Test (80:20) using Sklearn"
   ]
  },
  {
   "cell_type": "code",
   "execution_count": 148,
   "metadata": {},
   "outputs": [],
   "source": [
    "###CODEHERE\n",
    "from sklearn.model_selection import train_test_split\n",
    "x_train,x_test,y_train,y_test=train_test_split(x,y,test_size=0.2,random_state=42)"
   ]
  },
  {
   "cell_type": "markdown",
   "metadata": {},
   "source": [
    "#### 15B. Perform the Linear Regression Model fit using Sklearn."
   ]
  },
  {
   "cell_type": "code",
   "execution_count": 150,
   "metadata": {},
   "outputs": [
    {
     "data": {
      "text/plain": [
       "LinearRegression()"
      ]
     },
     "execution_count": 150,
     "metadata": {},
     "output_type": "execute_result"
    }
   ],
   "source": [
    "###CODEHERE\n",
    "from sklearn.linear_model import LinearRegression\n",
    "model_lr=LinearRegression()\n",
    "model_lr.fit(x_train,y_train)"
   ]
  },
  {
   "cell_type": "code",
   "execution_count": 151,
   "metadata": {},
   "outputs": [],
   "source": [
    "y_pred=model_lr.predict(x_test)"
   ]
  },
  {
   "cell_type": "code",
   "execution_count": 152,
   "metadata": {},
   "outputs": [
    {
     "data": {
      "text/plain": [
       "8447.521714783405"
      ]
     },
     "execution_count": 152,
     "metadata": {},
     "output_type": "execute_result"
    }
   ],
   "source": [
    "model_lr.intercept_"
   ]
  },
  {
   "cell_type": "code",
   "execution_count": 153,
   "metadata": {},
   "outputs": [
    {
     "data": {
      "text/plain": [
       "array([    0.        , -4417.42294122,  2803.04363244, -3777.44065056,\n",
       "        3777.44065056,  2432.20162998, -2445.31877472,   327.11462291,\n",
       "        -313.99747817,  5227.37109778, -1302.17914886,  1114.05732257,\n",
       "         786.24324325, -2032.24292565])"
      ]
     },
     "execution_count": 153,
     "metadata": {},
     "output_type": "execute_result"
    }
   ],
   "source": [
    "model_lr.coef_"
   ]
  },
  {
   "cell_type": "code",
   "execution_count": 597,
   "metadata": {},
   "outputs": [],
   "source": [
    "def generate_pred(modelname,model,x_train,x_test,y_train,y_test):\n",
    "\n",
    "\n",
    "    y_train_pred=model.predict(x_train)\n",
    "    \n",
    "    # Evaluation metrics for training data set\n",
    "    rmse_train=np.sqrt(mean_squared_error(y_train,y_train_pred))\n",
    "    Rsqr_train=round(r2_score(y_train,y_train_pred)*100,2)\n",
    "    print(\"modelname\",modelname)\n",
    "    print(\"rmse is\",rmse_train)\n",
    "    print(\"Rsqr is \",Rsqr_train)\n",
    "# Evaluation metrics for test dataset\n",
    "    \n",
    "    y_test_pred=model.predict(x_test)\n",
    "    rmse_test=np.sqrt(mean_squared_error(y_test,y_test_pred))\n",
    "    Rsqr_test=round(r2_score(y_test,y_test_pred)*100,2)\n",
    "    print(\"modelname\",modelname)\n",
    "    print(\"rmse is\",rmse_test)\n",
    "    print(\"Rsqr is \",Rsqr_test)\n"
   ]
  },
  {
   "cell_type": "code",
   "execution_count": 598,
   "metadata": {},
   "outputs": [
    {
     "name": "stdout",
     "output_type": "stream",
     "text": [
      "modelname LinearRegression\n",
      "rmse is 5221.133575044434\n",
      "Rsqr is  67.7\n",
      "modelname LinearRegression\n",
      "rmse is 5006.86954219993\n",
      "Rsqr is  69.98\n"
     ]
    }
   ],
   "source": [
    "generate_pred(\"LinearRegression\",model_lr,x_train,x_test,y_train,y_test)  "
   ]
  },
  {
   "cell_type": "markdown",
   "metadata": {},
   "source": [
    "#### 15C. Explain about Ridge Regression and Perform the Ridge Regression"
   ]
  },
  {
   "cell_type": "code",
   "execution_count": 657,
   "metadata": {},
   "outputs": [
    {
     "data": {
      "text/plain": [
       "Ridge(alpha=0.1)"
      ]
     },
     "execution_count": 657,
     "metadata": {},
     "output_type": "execute_result"
    }
   ],
   "source": [
    "###CODEHERE\n",
    "\n",
    "\n",
    "\n",
    "\n",
    "\n",
    "ridge=Ridge(alpha=0.1)\n",
    "ridge.fit(x_train,y_train)"
   ]
  },
  {
   "cell_type": "markdown",
   "metadata": {},
   "source": [
    "**Ridge regression is used to quantify the overfitting of the data through measuring the magnitude of coefficients. To fix the problem of overfitting, we need to balance two things: ... Measure of magnitude of coefficient = ||W||²If Measure of fit of the model is a small value that means model is well fit to the data.**"
   ]
  },
  {
   "cell_type": "code",
   "execution_count": 85,
   "metadata": {},
   "outputs": [
    {
     "name": "stdout",
     "output_type": "stream",
     "text": [
      "alpha value is  0.1\n",
      "------Evaluation metrics for training data set--------\n",
      "modelname-ridge\n",
      "rmse is 5221.133780851791\n",
      "Rsqr is  67.7\n",
      "-------Evaluation metrics for test dataset--------\n",
      "modelname-ridge\n",
      "rmse is 5006.896254249421\n",
      "Rsqr is  69.98\n",
      "alpha value is  0.2\n",
      "------Evaluation metrics for training data set--------\n",
      "modelname-ridge\n",
      "rmse is 5221.134397409248\n",
      "Rsqr is  67.7\n",
      "-------Evaluation metrics for test dataset--------\n",
      "modelname-ridge\n",
      "rmse is 5006.923332614369\n",
      "Rsqr is  69.98\n",
      "alpha value is  0.3\n",
      "------Evaluation metrics for training data set--------\n",
      "modelname-ridge\n",
      "rmse is 5221.135423422964\n",
      "Rsqr is  67.7\n",
      "-------Evaluation metrics for test dataset--------\n",
      "modelname-ridge\n",
      "rmse is 5006.950776071551\n",
      "Rsqr is  69.98\n",
      "alpha value is  0.4\n",
      "------Evaluation metrics for training data set--------\n",
      "modelname-ridge\n",
      "rmse is 5221.136857603193\n",
      "Rsqr is  67.7\n",
      "-------Evaluation metrics for test dataset--------\n",
      "modelname-ridge\n",
      "rmse is 5006.9785834017075\n",
      "Rsqr is  69.98\n",
      "alpha value is  0.5\n",
      "------Evaluation metrics for training data set--------\n",
      "modelname-ridge\n",
      "rmse is 5221.138698664266\n",
      "Rsqr is  67.7\n",
      "-------Evaluation metrics for test dataset--------\n",
      "modelname-ridge\n",
      "rmse is 5007.006753389527\n",
      "Rsqr is  69.97\n",
      "alpha value is  0.6\n",
      "------Evaluation metrics for training data set--------\n",
      "modelname-ridge\n",
      "rmse is 5221.140945324585\n",
      "Rsqr is  67.7\n",
      "-------Evaluation metrics for test dataset--------\n",
      "modelname-ridge\n",
      "rmse is 5007.035284823641\n",
      "Rsqr is  69.97\n",
      "alpha value is  0.7\n",
      "------Evaluation metrics for training data set--------\n",
      "modelname-ridge\n",
      "rmse is 5221.1435963066\n",
      "Rsqr is  67.7\n",
      "-------Evaluation metrics for test dataset--------\n",
      "modelname-ridge\n",
      "rmse is 5007.064176496599\n",
      "Rsqr is  69.97\n",
      "alpha value is  0.8\n",
      "------Evaluation metrics for training data set--------\n",
      "modelname-ridge\n",
      "rmse is 5221.146650336799\n",
      "Rsqr is  67.7\n",
      "-------Evaluation metrics for test dataset--------\n",
      "modelname-ridge\n",
      "rmse is 5007.093427204866\n",
      "Rsqr is  69.97\n",
      "alpha value is  0.9\n",
      "------Evaluation metrics for training data set--------\n",
      "modelname-ridge\n",
      "rmse is 5221.150106145696\n",
      "Rsqr is  67.7\n",
      "-------Evaluation metrics for test dataset--------\n",
      "modelname-ridge\n",
      "rmse is 5007.123035748802\n",
      "Rsqr is  69.97\n",
      "alpha value is  1\n",
      "------Evaluation metrics for training data set--------\n",
      "modelname-ridge\n",
      "rmse is 5221.153962467813\n",
      "Rsqr is  67.7\n",
      "-------Evaluation metrics for test dataset--------\n",
      "modelname-ridge\n",
      "rmse is 5007.153000932648\n",
      "Rsqr is  69.97\n",
      "alpha value is  2\n",
      "------Evaluation metrics for training data set--------\n",
      "modelname-ridge\n",
      "rmse is 5221.214278350203\n",
      "Rsqr is  67.7\n",
      "-------Evaluation metrics for test dataset--------\n",
      "modelname-ridge\n",
      "rmse is 5007.472007648389\n",
      "Rsqr is  69.97\n",
      "alpha value is  3\n",
      "------Evaluation metrics for training data set--------\n",
      "modelname-ridge\n",
      "rmse is 5221.313282772376\n",
      "Rsqr is  67.7\n",
      "-------Evaluation metrics for test dataset--------\n",
      "modelname-ridge\n",
      "rmse is 5007.825391331547\n",
      "Rsqr is  69.97\n",
      "alpha value is  4\n",
      "------Evaluation metrics for training data set--------\n",
      "modelname-ridge\n",
      "rmse is 5221.4497742860385\n",
      "Rsqr is  67.7\n",
      "-------Evaluation metrics for test dataset--------\n",
      "modelname-ridge\n",
      "rmse is 5008.212018197808\n",
      "Rsqr is  69.96\n",
      "alpha value is  5\n",
      "------Evaluation metrics for training data set--------\n",
      "modelname-ridge\n",
      "rmse is 5221.622588607685\n",
      "Rsqr is  67.69\n",
      "-------Evaluation metrics for test dataset--------\n",
      "modelname-ridge\n",
      "rmse is 5008.630790412957\n",
      "Rsqr is  69.96\n",
      "alpha value is  6\n",
      "------Evaluation metrics for training data set--------\n",
      "modelname-ridge\n",
      "rmse is 5221.830597361567\n",
      "Rsqr is  67.69\n",
      "-------Evaluation metrics for test dataset--------\n",
      "modelname-ridge\n",
      "rmse is 5009.080644860209\n",
      "Rsqr is  69.95\n",
      "alpha value is  7\n",
      "------Evaluation metrics for training data set--------\n",
      "modelname-ridge\n",
      "rmse is 5222.072706869732\n",
      "Rsqr is  67.69\n",
      "-------Evaluation metrics for test dataset--------\n",
      "modelname-ridge\n",
      "rmse is 5009.560551954019\n",
      "Rsqr is  69.94\n",
      "alpha value is  8\n",
      "------Evaluation metrics for training data set--------\n",
      "modelname-ridge\n",
      "rmse is 5222.347856987193\n",
      "Rsqr is  67.68\n",
      "-------Evaluation metrics for test dataset--------\n",
      "modelname-ridge\n",
      "rmse is 5010.069514498452\n",
      "Rsqr is  69.94\n",
      "alpha value is  9\n",
      "------Evaluation metrics for training data set--------\n",
      "modelname-ridge\n",
      "rmse is 5222.655019980335\n",
      "Rsqr is  67.68\n",
      "-------Evaluation metrics for test dataset--------\n",
      "modelname-ridge\n",
      "rmse is 5010.606566588272\n",
      "Rsqr is  69.93\n",
      "alpha value is  10\n",
      "------Evaluation metrics for training data set--------\n",
      "modelname-ridge\n",
      "rmse is 5222.993199446813\n",
      "Rsqr is  67.68\n",
      "-------Evaluation metrics for test dataset--------\n",
      "modelname-ridge\n",
      "rmse is 5011.170772550978\n",
      "Rsqr is  69.92\n"
     ]
    }
   ],
   "source": [
    "alpha=[0.1,0.2,0.3,0.4,0.5,0.6,0.7,0.8,0.9,1,2,3,4,5,6,7,8,9,10]\n",
    "for i in alpha:\n",
    "    ridge=Ridge(alpha=i,)\n",
    "    ridge.fit(x_train,y_train)\n",
    "    print(\"alpha value is \",i)\n",
    "    y_train_pred=ridge.predict(x_train)\n",
    "    print(\"------Evaluation metrics for training data set--------\")\n",
    "    rmse_train=np.sqrt(mean_squared_error(y_train,y_train_pred))\n",
    "    Rsqr_train=round(r2_score(y_train,y_train_pred)*100,2)\n",
    "    print(\"modelname-ridge\")\n",
    "    print(\"rmse is\",rmse_train)\n",
    "    print(\"Rsqr is \",Rsqr_train)\n",
    "    \n",
    "    print(\"-------Evaluation metrics for test dataset--------\")\n",
    "    y_test_pred=ridge.predict(x_test)\n",
    "    rmse_test=np.sqrt(mean_squared_error(y_test,y_test_pred))\n",
    "    Rsqr_test=round(r2_score(y_test,y_test_pred)*100,2)\n",
    "    print(\"modelname-ridge\")\n",
    "    print(\"rmse is\",rmse_test)\n",
    "    print(\"Rsqr is \",Rsqr_test)\n"
   ]
  },
  {
   "cell_type": "code",
   "execution_count": null,
   "metadata": {},
   "outputs": [],
   "source": []
  },
  {
   "cell_type": "code",
   "execution_count": 86,
   "metadata": {},
   "outputs": [
    {
     "name": "stdout",
     "output_type": "stream",
     "text": [
      "------Evaluation metrics for training data set--------\n",
      "modelname ridge_coeff=0.1\n",
      "rmse is 5221.133575044434\n",
      "Rsqr is  67.7\n",
      "-------Evaluation metrics for test dataset--------\n",
      "modelname ridge_coeff=0.1\n",
      "rmse is 5006.86954219993\n",
      "Rsqr is  69.98\n"
     ]
    }
   ],
   "source": [
    "generate_pred(\"ridge_coeff=0.1\",ridge,x_train,x_test,y_train,y_test)"
   ]
  },
  {
   "cell_type": "code",
   "execution_count": 87,
   "metadata": {},
   "outputs": [
    {
     "data": {
      "text/plain": [
       "Ridge(alpha=10)"
      ]
     },
     "execution_count": 87,
     "metadata": {},
     "output_type": "execute_result"
    }
   ],
   "source": [
    "\n",
    "ridge=Ridge(alpha=10)\n",
    "ridge.fit(x_train,y_train)"
   ]
  },
  {
   "cell_type": "code",
   "execution_count": 88,
   "metadata": {},
   "outputs": [
    {
     "name": "stdout",
     "output_type": "stream",
     "text": [
      "------Evaluation metrics for training data set--------\n",
      "modelname ridge_coeff=10\n",
      "rmse is 5221.133575044434\n",
      "Rsqr is  67.7\n",
      "-------Evaluation metrics for test dataset--------\n",
      "modelname ridge_coeff=10\n",
      "rmse is 5006.86954219993\n",
      "Rsqr is  69.98\n"
     ]
    }
   ],
   "source": [
    "generate_pred(\"ridge_coeff=10\",ridge,x_train,x_test,y_train,y_test)"
   ]
  },
  {
   "cell_type": "markdown",
   "metadata": {},
   "source": [
    "#### 15D. Explain about Lasso Regression and Perform the Lasso Regression"
   ]
  },
  {
   "cell_type": "code",
   "execution_count": 91,
   "metadata": {},
   "outputs": [
    {
     "name": "stdout",
     "output_type": "stream",
     "text": [
      "alpha value is  0.1\n",
      "------Evaluation metrics for training data set--------\n",
      "modelname-lasso\n",
      "rmse is 5221.1337124910515\n",
      "Rsqr is  67.7\n",
      "-------Evaluation metrics for test dataset--------\n",
      "modelname-lasso\n",
      "rmse is 5006.905254470971\n",
      "Rsqr is  69.98\n",
      "\n",
      "\n",
      "alpha value is  0.2\n",
      "------Evaluation metrics for training data set--------\n",
      "modelname-lasso\n",
      "rmse is 5221.134124830883\n",
      "Rsqr is  67.7\n",
      "-------Evaluation metrics for test dataset--------\n",
      "modelname-lasso\n",
      "rmse is 5006.941283551858\n",
      "Rsqr is  69.98\n",
      "\n",
      "\n",
      "alpha value is  0.3\n",
      "------Evaluation metrics for training data set--------\n",
      "modelname-lasso\n",
      "rmse is 5221.134812063861\n",
      "Rsqr is  67.7\n",
      "-------Evaluation metrics for test dataset--------\n",
      "modelname-lasso\n",
      "rmse is 5006.97762943575\n",
      "Rsqr is  69.98\n",
      "\n",
      "\n",
      "alpha value is  0.4\n",
      "------Evaluation metrics for training data set--------\n",
      "modelname-lasso\n",
      "rmse is 5221.13577418988\n",
      "Rsqr is  67.7\n",
      "-------Evaluation metrics for test dataset--------\n",
      "modelname-lasso\n",
      "rmse is 5007.014292115754\n",
      "Rsqr is  69.97\n",
      "\n",
      "\n",
      "alpha value is  0.5\n",
      "------Evaluation metrics for training data set--------\n",
      "modelname-lasso\n",
      "rmse is 5221.137011208786\n",
      "Rsqr is  67.7\n",
      "-------Evaluation metrics for test dataset--------\n",
      "modelname-lasso\n",
      "rmse is 5007.05127158491\n",
      "Rsqr is  69.97\n",
      "\n",
      "\n",
      "alpha value is  0.6\n",
      "------Evaluation metrics for training data set--------\n",
      "modelname-lasso\n",
      "rmse is 5221.138420731726\n",
      "Rsqr is  67.7\n",
      "-------Evaluation metrics for test dataset--------\n",
      "modelname-lasso\n",
      "rmse is 5007.019050152313\n",
      "Rsqr is  69.97\n",
      "\n",
      "\n",
      "alpha value is  0.7\n",
      "------Evaluation metrics for training data set--------\n",
      "modelname-lasso\n",
      "rmse is 5221.1401680679855\n",
      "Rsqr is  67.7\n",
      "-------Evaluation metrics for test dataset--------\n",
      "modelname-lasso\n",
      "rmse is 5007.045995686976\n",
      "Rsqr is  69.97\n",
      "\n",
      "\n",
      "alpha value is  0.8\n",
      "------Evaluation metrics for training data set--------\n",
      "modelname-lasso\n",
      "rmse is 5221.142181085594\n",
      "Rsqr is  67.7\n",
      "-------Evaluation metrics for test dataset--------\n",
      "modelname-lasso\n",
      "rmse is 5007.074253064498\n",
      "Rsqr is  69.97\n",
      "\n",
      "\n",
      "alpha value is  0.9\n",
      "------Evaluation metrics for training data set--------\n",
      "modelname-lasso\n",
      "rmse is 5221.144472709859\n",
      "Rsqr is  67.7\n",
      "-------Evaluation metrics for test dataset--------\n",
      "modelname-lasso\n",
      "rmse is 5007.099525245016\n",
      "Rsqr is  69.97\n",
      "\n",
      "\n",
      "alpha value is  1\n",
      "------Evaluation metrics for training data set--------\n",
      "modelname-lasso\n",
      "rmse is 5221.147034264042\n",
      "Rsqr is  67.7\n",
      "-------Evaluation metrics for test dataset--------\n",
      "modelname-lasso\n",
      "rmse is 5007.125240984804\n",
      "Rsqr is  69.97\n",
      "\n",
      "\n",
      "alpha value is  2\n",
      "------Evaluation metrics for training data set--------\n",
      "modelname-lasso\n",
      "rmse is 5221.187490618636\n",
      "Rsqr is  67.7\n",
      "-------Evaluation metrics for test dataset--------\n",
      "modelname-lasso\n",
      "rmse is 5007.402624431768\n",
      "Rsqr is  69.97\n",
      "\n",
      "\n",
      "alpha value is  3\n",
      "------Evaluation metrics for training data set--------\n",
      "modelname-lasso\n",
      "rmse is 5221.255056266527\n",
      "Rsqr is  67.7\n",
      "-------Evaluation metrics for test dataset--------\n",
      "modelname-lasso\n",
      "rmse is 5007.703489228516\n",
      "Rsqr is  69.97\n",
      "\n",
      "\n",
      "alpha value is  4\n",
      "------Evaluation metrics for training data set--------\n",
      "modelname-lasso\n",
      "rmse is 5221.349629106345\n",
      "Rsqr is  67.7\n",
      "-------Evaluation metrics for test dataset--------\n",
      "modelname-lasso\n",
      "rmse is 5008.039544494288\n",
      "Rsqr is  69.96\n",
      "\n",
      "\n",
      "alpha value is  5\n",
      "------Evaluation metrics for training data set--------\n",
      "modelname-lasso\n",
      "rmse is 5221.471210464788\n",
      "Rsqr is  67.7\n",
      "-------Evaluation metrics for test dataset--------\n",
      "modelname-lasso\n",
      "rmse is 5008.408244388749\n",
      "Rsqr is  69.96\n",
      "\n",
      "\n",
      "alpha value is  6\n",
      "------Evaluation metrics for training data set--------\n",
      "modelname-lasso\n",
      "rmse is 5221.619986506314\n",
      "Rsqr is  67.69\n",
      "-------Evaluation metrics for test dataset--------\n",
      "modelname-lasso\n",
      "rmse is 5008.802681495665\n",
      "Rsqr is  69.95\n",
      "\n",
      "\n",
      "alpha value is  7\n",
      "------Evaluation metrics for training data set--------\n",
      "modelname-lasso\n",
      "rmse is 5221.795715752718\n",
      "Rsqr is  67.69\n",
      "-------Evaluation metrics for test dataset--------\n",
      "modelname-lasso\n",
      "rmse is 5009.232152390702\n",
      "Rsqr is  69.95\n",
      "\n",
      "\n",
      "alpha value is  8\n",
      "------Evaluation metrics for training data set--------\n",
      "modelname-lasso\n",
      "rmse is 5221.991862286912\n",
      "Rsqr is  67.69\n",
      "-------Evaluation metrics for test dataset--------\n",
      "modelname-lasso\n",
      "rmse is 5009.674589469027\n",
      "Rsqr is  69.94\n",
      "\n",
      "\n",
      "alpha value is  9\n",
      "------Evaluation metrics for training data set--------\n",
      "modelname-lasso\n",
      "rmse is 5222.1572188253285\n",
      "Rsqr is  67.69\n",
      "-------Evaluation metrics for test dataset--------\n",
      "modelname-lasso\n",
      "rmse is 5009.993390169106\n",
      "Rsqr is  69.94\n",
      "\n",
      "\n",
      "alpha value is  10\n",
      "------Evaluation metrics for training data set--------\n",
      "modelname-lasso\n",
      "rmse is 5222.342189666603\n",
      "Rsqr is  67.68\n",
      "-------Evaluation metrics for test dataset--------\n",
      "modelname-lasso\n",
      "rmse is 5010.32942072256\n",
      "Rsqr is  69.93\n",
      "\n",
      "\n"
     ]
    }
   ],
   "source": [
    "###CODEHERE\n",
    "alpha=[0.1,0.2,0.3,0.4,0.5,0.6,0.7,0.8,0.9,1,2,3,4,5,6,7,8,9,10]\n",
    "for i in alpha:\n",
    "    lasso=Lasso(alpha=i,)\n",
    "    lasso.fit(x_train,y_train)\n",
    "    y_train_pred=lasso.predict(x_train)\n",
    "    print(\"alpha value is \",i)\n",
    "    print(\"------Evaluation metrics for training data set--------\")\n",
    "    rmse_train=np.sqrt(mean_squared_error(y_train,y_train_pred))\n",
    "    Rsqr_train=round(r2_score(y_train,y_train_pred)*100,2)\n",
    "    print(\"modelname-lasso\")\n",
    "    print(\"rmse is\",rmse_train)\n",
    "    print(\"Rsqr is \",Rsqr_train)\n",
    "    \n",
    "    print(\"-------Evaluation metrics for test dataset--------\")\n",
    "    y_test_pred=lasso.predict(x_test)\n",
    "    rmse_test=np.sqrt(mean_squared_error(y_test,y_test_pred))\n",
    "    Rsqr_test=round(r2_score(y_test,y_test_pred)*100,2)\n",
    "    print(\"modelname-lasso\")\n",
    "    print(\"rmse is\",rmse_test)\n",
    "    print(\"Rsqr is \",Rsqr_test)\n",
    "\n",
    "   \n",
    "    print(\"\\n\")"
   ]
  },
  {
   "cell_type": "markdown",
   "metadata": {},
   "source": [
    "**LASSO regression is an example of regularized regression. Regularization is one approach to tackle the problem of overfitting by adding additional information, and thereby shrinking the parameter values of the model to induce a penalty against complexity. The 3 most popular approaches to regularized linear regression are the so-called Ridge Regression, Least Absolute Shrinkage and Selection Operator (LASSO) and Elastic Net method.**"
   ]
  },
  {
   "cell_type": "markdown",
   "metadata": {},
   "source": [
    "### Give the Conclusions about the Model fits for What you Observe."
   ]
  },
  {
   "cell_type": "markdown",
   "metadata": {},
   "source": [
    "### Interpretations\n",
    "** From this Model evaluation i got to find that all the models like OLS,logistic,ridge and lasso give the same accuray of around 70 % and when i did feature scaling in some features but not affect much **"
   ]
  },
  {
   "cell_type": "code",
   "execution_count": null,
   "metadata": {},
   "outputs": [],
   "source": []
  }
 ],
 "metadata": {
  "kernelspec": {
   "display_name": "Python 3",
   "language": "python",
   "name": "python3"
  },
  "language_info": {
   "codemirror_mode": {
    "name": "ipython",
    "version": 3
   },
   "file_extension": ".py",
   "mimetype": "text/x-python",
   "name": "python",
   "nbconvert_exporter": "python",
   "pygments_lexer": "ipython3",
   "version": "3.8.5"
  }
 },
 "nbformat": 4,
 "nbformat_minor": 2
}
